{
  "nbformat": 4,
  "nbformat_minor": 0,
  "metadata": {
    "kernelspec": {
      "display_name": "Python 3",
      "language": "python",
      "name": "python3"
    },
    "language_info": {
      "codemirror_mode": {
        "name": "ipython",
        "version": 3
      },
      "file_extension": ".py",
      "mimetype": "text/x-python",
      "name": "python",
      "nbconvert_exporter": "python",
      "pygments_lexer": "ipython3",
      "version": "3.7.3"
    },
    "colab": {
      "provenance": [],
      "collapsed_sections": [],
      "include_colab_link": true
    }
  },
  "cells": [
    {
      "cell_type": "markdown",
      "metadata": {
        "id": "view-in-github",
        "colab_type": "text"
      },
      "source": [
        "<a href=\"https://colab.research.google.com/github/SUNGPYO-OH/Python_Tutorial/blob/main/04_%EC%A1%B0%EA%B1%B4%EB%AC%B8(Condition)__%EB%AC%B8%EC%A0%9C%ED%8F%AC%ED%95%A8.ipynb\" target=\"_parent\"><img src=\"https://colab.research.google.com/assets/colab-badge.svg\" alt=\"Open In Colab\"/></a>"
      ]
    },
    {
      "cell_type": "markdown",
      "metadata": {
        "id": "DIIobik_U1MQ"
      },
      "source": [
        "# 조건문(Condition)"
      ]
    },
    {
      "cell_type": "markdown",
      "source": [
        "특정 조건을 만족할 때만 수행되었으면 하는 코드가 있다면?"
      ],
      "metadata": {
        "id": "fiJ3wDGjVywo"
      }
    },
    {
      "cell_type": "code",
      "source": [
        "a = 5\n",
        "b = 6\n",
        "print(\"a는 b보다 크다\") #A가 B보다 클 경우에만 실행되었으면 좋겠다."
      ],
      "metadata": {
        "colab": {
          "base_uri": "https://localhost:8080/"
        },
        "id": "rJY5sTZnVsLZ",
        "outputId": "61df328d-df26-4d1e-a115-be647e2f8bf9"
      },
      "execution_count": null,
      "outputs": [
        {
          "output_type": "stream",
          "name": "stdout",
          "text": [
            "a는 b보다 크다\n"
          ]
        }
      ]
    },
    {
      "cell_type": "markdown",
      "source": [
        "## If A : 만약에 A라면 \n",
        "-> A는 조건"
      ],
      "metadata": {
        "id": "3e2t0VjcV1Rd"
      }
    },
    {
      "cell_type": "code",
      "source": [
        "a > b"
      ],
      "metadata": {
        "colab": {
          "base_uri": "https://localhost:8080/"
        },
        "id": "V1vMp69ioJBX",
        "outputId": "180518ab-1b93-456b-ac17-3d1d5a1f5ead"
      },
      "execution_count": null,
      "outputs": [
        {
          "output_type": "execute_result",
          "data": {
            "text/plain": [
              "False"
            ]
          },
          "metadata": {},
          "execution_count": 3
        }
      ]
    },
    {
      "cell_type": "code",
      "source": [
        "a, b = 8, 6\n",
        "if a > b:\n",
        "    print(\"a는 b보다 크다\")"
      ],
      "metadata": {
        "colab": {
          "base_uri": "https://localhost:8080/"
        },
        "id": "TcbYKzOXV4EC",
        "outputId": "48655929-d942-4086-918e-02c6ce072016"
      },
      "execution_count": null,
      "outputs": [
        {
          "output_type": "stream",
          "name": "stdout",
          "text": [
            "a는 b보다 크다\n"
          ]
        }
      ]
    },
    {
      "cell_type": "code",
      "source": [
        "a = '강아지'\n",
        " \n",
        "if a == '강아지':\n",
        "    print(\"나는 강아지가 좋아\")"
      ],
      "metadata": {
        "colab": {
          "base_uri": "https://localhost:8080/"
        },
        "id": "Rxm64k8FobO7",
        "outputId": "c517c599-b467-4c48-adae-f27656a73d29"
      },
      "execution_count": null,
      "outputs": [
        {
          "output_type": "stream",
          "name": "stdout",
          "text": [
            "나는 강아지가 좋아\n"
          ]
        }
      ]
    },
    {
      "cell_type": "markdown",
      "source": [
        "만약 '우디'가 toy 리스트 안에 포함되어 있다면, toy리스트에서 우디를 제거하세요"
      ],
      "metadata": {
        "id": "gKnXUcLqpmgO"
      }
    },
    {
      "cell_type": "code",
      "source": [
        "'우디' in toy"
      ],
      "metadata": {
        "colab": {
          "base_uri": "https://localhost:8080/"
        },
        "id": "W3VBZJs6p-7C",
        "outputId": "be9241ec-2c38-4194-c704-002517b16364"
      },
      "execution_count": null,
      "outputs": [
        {
          "output_type": "execute_result",
          "data": {
            "text/plain": [
              "True"
            ]
          },
          "metadata": {},
          "execution_count": 8
        }
      ]
    },
    {
      "cell_type": "code",
      "source": [
        "toy = ['우디', '버즈', '포키', '보', '제시', '슬링키독']\n",
        "\n",
        "if '우디' in toy:\n",
        "    toy.remove(\"우디\")\n",
        "\n",
        "toy"
      ],
      "metadata": {
        "colab": {
          "base_uri": "https://localhost:8080/"
        },
        "id": "sOpbSWo6pATh",
        "outputId": "a469faa8-869a-4467-c368-8eda89698d8c"
      },
      "execution_count": null,
      "outputs": [
        {
          "output_type": "execute_result",
          "data": {
            "text/plain": [
              "['버즈', '포키', '보', '제시', '슬링키독']"
            ]
          },
          "metadata": {},
          "execution_count": 9
        }
      ]
    },
    {
      "cell_type": "markdown",
      "metadata": {
        "id": "7TMyMrKsSh_m"
      },
      "source": [
        "### 문제1\n",
        "다음과 같이 전화번호가 담긴 문자열이 있다.\n",
        "\n",
        "앞 3자리가 '031'로 시작하면 '수원시 전화번호입니다'를 출력하세요. "
      ]
    },
    {
      "cell_type": "code",
      "metadata": {
        "colab": {
          "base_uri": "https://localhost:8080/"
        },
        "id": "RUmzaRjOfoht",
        "outputId": "8e80a415-2c25-4355-b5f5-f1ffd1479e00"
      },
      "source": [
        "number = '031-123-1234'\n",
        "# number = '032-123-1234'\n"
      ],
      "execution_count": null,
      "outputs": [
        {
          "output_type": "stream",
          "text": [
            "031\n",
            "수원시 전화번호입니다\n"
          ],
          "name": "stdout"
        }
      ]
    },
    {
      "cell_type": "markdown",
      "source": [
        "## else : 그렇지 않다면"
      ],
      "metadata": {
        "id": "RxnjWyBvV7t3"
      }
    },
    {
      "cell_type": "markdown",
      "source": [
        "생각2. 특정 조건을 만족하지 못할 경우에만 실행되어야 하는 코드는?"
      ],
      "metadata": {
        "id": "-cLgmNgVV-RM"
      }
    },
    {
      "cell_type": "code",
      "source": [
        "a, b = 3,3\n",
        "if a > b: \n",
        "    print(\"a는 b보다 크다.\")\n",
        "else:\n",
        "    print(\"a는 b보다 크지 않다.\")"
      ],
      "metadata": {
        "colab": {
          "base_uri": "https://localhost:8080/"
        },
        "id": "LAahMceCWC69",
        "outputId": "dc3316d1-a220-4e0c-a800-37b3756a9f2a"
      },
      "execution_count": null,
      "outputs": [
        {
          "output_type": "stream",
          "name": "stdout",
          "text": [
            "a는 b보다 크지 않다.\n"
          ]
        }
      ]
    },
    {
      "cell_type": "markdown",
      "source": [
        "## elif B : 그렇지 않고 B라면\n",
        "생각3. 특정 조건을 만족하지 못하지만, 또 다른 조건은 만족하는 경우에는?"
      ],
      "metadata": {
        "id": "58aj-pM2WMor"
      }
    },
    {
      "cell_type": "code",
      "source": [
        "a, b = 6, 6\n",
        "if a > b:\n",
        "    print('a는 b보다 크다')\n",
        "elif a < b:\n",
        "    print('a는 b보다 작다')\n",
        "else:\n",
        "    print('a는 b와 같다')"
      ],
      "metadata": {
        "colab": {
          "base_uri": "https://localhost:8080/"
        },
        "id": "aUNDtgt5WJ8M",
        "outputId": "835a9444-e7c0-4ea4-df3e-e44d8df88bb3"
      },
      "execution_count": null,
      "outputs": [
        {
          "output_type": "stream",
          "name": "stdout",
          "text": [
            "a는 b와 같다\n"
          ]
        }
      ]
    },
    {
      "cell_type": "code",
      "source": [
        "a , b = 6, 6\n",
        "\n",
        "if a > b :\n",
        "    print(\"a는 b보다 크다\")\n",
        "else:\n",
        "    if a < b:\n",
        "        print(\"a는 b보다 작다\")\n",
        "    else:\n",
        "        print(\"a는 b와 같다\")"
      ],
      "metadata": {
        "colab": {
          "base_uri": "https://localhost:8080/"
        },
        "id": "SDpplwMlsv3G",
        "outputId": "59ecf84e-87bf-48be-e862-07d878396e8b"
      },
      "execution_count": null,
      "outputs": [
        {
          "output_type": "stream",
          "name": "stdout",
          "text": [
            "a는 b와 같다\n"
          ]
        }
      ]
    },
    {
      "cell_type": "markdown",
      "source": [
        "- elif는 개수 제한이 없습니다!"
      ],
      "metadata": {
        "id": "W53su9xjMt3a"
      }
    },
    {
      "cell_type": "code",
      "source": [
        "# 학점 계산\n",
        "score = int(input(\"점수를 입력하세요 : \"))\n",
        "\n",
        "if score >= 90 : \n",
        "    grade = \"A입니다\"\n",
        "\n",
        "elif score >= 80 :\n",
        "    grade = \"B입니다\"\n",
        "\n",
        "elif score >= 70:\n",
        "    grade = \"C입니다\"\n",
        " \n",
        "elif score >= 60 :\n",
        "    grade = \"D입니다\"\n",
        "\n",
        "else:\n",
        "    grade = \"Fail\"\n",
        "\n",
        "print(grade)"
      ],
      "metadata": {
        "colab": {
          "base_uri": "https://localhost:8080/"
        },
        "id": "wneo3j66MwFX",
        "outputId": "5dfaa826-4af6-4fb7-c0a7-77cbfea9a093"
      },
      "execution_count": null,
      "outputs": [
        {
          "output_type": "stream",
          "name": "stdout",
          "text": [
            "점수를 입력하세요 : 90\n",
            "A입니다\n"
          ]
        }
      ]
    },
    {
      "cell_type": "markdown",
      "source": [
        "### 문제 : 가위바위보"
      ],
      "metadata": {
        "id": "fnto5H9fWehc"
      }
    },
    {
      "cell_type": "markdown",
      "source": [
        "tom이 가위를 냈을 때, emma의 선택에 따라 올바른 승부결과를 출력하도록 코드를 작성해보세요."
      ],
      "metadata": {
        "id": "Nweu6fDuWp_-"
      }
    },
    {
      "cell_type": "code",
      "source": [
        "tom = '가위' #tom이 가위를 냈다고 가정\n",
        "emma = '바위' #'가위', '보'\n",
        "\n",
        "# 승부 결과를 제대로 출력하도록 코드를 작성해보세요. \n",
        "\n"
      ],
      "metadata": {
        "id": "lDmv0qmFWoCa"
      },
      "execution_count": null,
      "outputs": []
    },
    {
      "cell_type": "markdown",
      "source": [
        "# 응용 : 조건문 안에 조건문"
      ],
      "metadata": {
        "id": "VfitG-sJc1Ue"
      }
    },
    {
      "cell_type": "markdown",
      "source": [
        "생각4. 특정 조건을 만족했을 때, 또 다른 조건을 확인하고 싶다면?    \n",
        "if A라면:  \n",
        "    -> if B 라면:  \n",
        "       -> C를 해줘  "
      ],
      "metadata": {
        "id": "RMB1NMILc3TI"
      }
    },
    {
      "cell_type": "code",
      "source": [
        "# a가 b보다 크지 않은 경우까지 완성해보세요.\n",
        "a, b, c = 5, 4, 7\n",
        "\n",
        "if a > b:\n",
        "    print('a는 b보다 크고,')\n",
        "    if a > c:\n",
        "        print('c보다 크다')\n",
        "    else:\n",
        "        print('c보다 크지 않다')    "
      ],
      "metadata": {
        "colab": {
          "base_uri": "https://localhost:8080/"
        },
        "id": "OkB4MY4cdBd8",
        "outputId": "41d3c67a-199a-4e5f-b4dd-ee3bda3edf95"
      },
      "execution_count": null,
      "outputs": [
        {
          "output_type": "stream",
          "name": "stdout",
          "text": [
            "a는 b보다 크고,\n",
            "c보다 크지 않다\n"
          ]
        }
      ]
    },
    {
      "cell_type": "markdown",
      "source": [
        "## 응용 : and와 or 연산을 이용한 조건문"
      ],
      "metadata": {
        "id": "F3B6KG_idOQw"
      }
    },
    {
      "cell_type": "code",
      "source": [
        "# 세 정수 중 가장 큰 수 구하기 \n",
        "\n",
        "a, b, c = 5, 7, 8\n",
        "\n",
        "if a > b and a > c:\n",
        "    print('가장 큰 수는', a)\n",
        "elif a > c :\n",
        "    print('가장 큰 수는', b)\n",
        "else:\n",
        "    print('가장 큰 수는', c)  \n"
      ],
      "metadata": {
        "colab": {
          "base_uri": "https://localhost:8080/"
        },
        "id": "PITDi6IfyJb1",
        "outputId": "5a27ab07-6019-4fbc-b20d-107b40d5cf32"
      },
      "execution_count": null,
      "outputs": [
        {
          "output_type": "stream",
          "name": "stdout",
          "text": [
            "가장 큰 수는 8\n"
          ]
        }
      ]
    },
    {
      "cell_type": "code",
      "source": [
        "a, b, c = 5, 7, 8\n",
        "\n",
        "if a > b or a > c :\n",
        "    print('a는 b보다 크거나 c보다 크다.')"
      ],
      "metadata": {
        "id": "xE8fuR4I-00L"
      },
      "execution_count": null,
      "outputs": []
    },
    {
      "cell_type": "markdown",
      "metadata": {
        "id": "lmjY5iY_brqQ"
      },
      "source": [
        "### 문제\n",
        "다음과 같이 변수 num이 있을 때, 1보다 크고 100보다 작으면 'pass'를 출력하는 코드를 작성해보세요."
      ]
    },
    {
      "cell_type": "code",
      "metadata": {
        "colab": {
          "base_uri": "https://localhost:8080/"
        },
        "id": "238iZx54bpdL",
        "outputId": "f4db9527-dfbc-4a68-98cf-793b1aacc6fe"
      },
      "source": [
        "num = 55\n",
        "\n"
      ],
      "execution_count": null,
      "outputs": [
        {
          "output_type": "stream",
          "text": [
            "pass\n"
          ],
          "name": "stdout"
        }
      ]
    },
    {
      "cell_type": "markdown",
      "source": [
        "# 영화 예매 버전(심화)\n"
      ],
      "metadata": {
        "id": "Vqu2v1c1d_Sb"
      }
    },
    {
      "cell_type": "markdown",
      "source": [
        "## If A : 만약에 A라면\n",
        "예시) 보고 싶은 영화의 잔여석이 0이 아니라면, 티켓요금을 안내하는 문구를 출력하는 코드를 만들어보자. "
      ],
      "metadata": {
        "id": "Tx9qgJQmeCP4"
      }
    },
    {
      "cell_type": "code",
      "source": [
        "movie_info = {'기생충' : {'잔여석': 28,\n",
        "                       '티켓요금' : 11000}}\n",
        "\n",
        "# 기생충의 잔여석을 출력해보세요\n"
      ],
      "metadata": {
        "id": "DKPdLyY3eGfl"
      },
      "execution_count": null,
      "outputs": []
    },
    {
      "cell_type": "code",
      "source": [],
      "metadata": {
        "id": "IvoXWf3mW1y5"
      },
      "execution_count": null,
      "outputs": []
    },
    {
      "cell_type": "markdown",
      "source": [
        "생각 1. 특정 조건을 만족할 경우메나 수행되어야 하는 코드는 어떻게 처리해야 할까? "
      ],
      "metadata": {
        "id": "BRRgs8BEeo8h"
      }
    },
    {
      "cell_type": "code",
      "source": [
        "my_movie = '기생충'\n",
        "\n",
        "\n",
        "# if 조건 : 조건이 참이라면\n",
        "    print(\"예매 도와드리겠습니다.\")\n",
        "    print(\"티켓요금은\", fare, \"원 입니다.\")"
      ],
      "metadata": {
        "id": "b-XC7k2L9XCh"
      },
      "execution_count": null,
      "outputs": []
    },
    {
      "cell_type": "code",
      "source": [
        "#@title\n",
        "seat = movie_info[my_movie]['잔여석']\n",
        "fare = movie_info[my_movie]['티켓요금']\n",
        "\n",
        "if seat != 0 : # if 조건 : 조건이 참이라면\n",
        "    print(\"예매 도와드리겠습니다.\")\n",
        "    print(\"티켓요금은\", fare, \"원 입니다.\")"
      ],
      "metadata": {
        "colab": {
          "base_uri": "https://localhost:8080/"
        },
        "id": "1z4GQPoweurK",
        "outputId": "8a93f0af-0a90-4a51-fd11-2680c4ace535",
        "cellView": "form"
      },
      "execution_count": null,
      "outputs": [
        {
          "output_type": "stream",
          "name": "stdout",
          "text": [
            "예매 도와드리겠습니다.\n",
            "티켓요금은 11000 원 입니다.\n"
          ]
        }
      ]
    },
    {
      "cell_type": "markdown",
      "source": [
        "## else : 그렇지 않다면"
      ],
      "metadata": {
        "id": "UOcCPjD9fMmp"
      }
    },
    {
      "cell_type": "markdown",
      "source": [
        "생각2. 특정 조건을 만족하지 못할 경우에만 수행되어야 하는 코드는? "
      ],
      "metadata": {
        "id": "ECfQep5DfTly"
      }
    },
    {
      "cell_type": "markdown",
      "source": [
        "예시) 보고 싶은 영화의 잔여석이 0이 아니라면 티켓 요금을 안내해주고,\n",
        "잔여석이 0이라면 죄송하다는 문구를 띄워주는 코드를 만들어보자."
      ],
      "metadata": {
        "id": "wP1RydmDfARf"
      }
    },
    {
      "cell_type": "code",
      "source": [
        "movie_info = {'기생충' : {'잔여석' : 28,\n",
        "                        '티켓요금' : 11000},\n",
        "              '밀정' :  {'잔여석' : 0,\n",
        "                        '티켓요금' : 11000}}"
      ],
      "metadata": {
        "id": "ndeSQ6mgfWnQ"
      },
      "execution_count": null,
      "outputs": []
    },
    {
      "cell_type": "code",
      "source": [
        "# my_movie = '기생충'\n",
        "my_movie = '밀정'\n",
        "\n",
        "seat = movie_info[my_movie]['잔여석']\n",
        "fare = movie_info[my_movie]['티켓요금']\n",
        "\n",
        "seat, fare"
      ],
      "metadata": {
        "id": "r_H763TafYDE"
      },
      "execution_count": null,
      "outputs": []
    },
    {
      "cell_type": "code",
      "source": [
        "#if (조건): = (조건)이 참이라면\n",
        "    print('예매 도와드리겠습니다.')\n",
        "    print('티켓요금은', fare, '입니다.')\n",
        "\n",
        "# 조건이 참이 아니라면 : \n",
        "    print('죄송합니다.')\n",
        "    print('잔여석이 없습니다.')"
      ],
      "metadata": {
        "id": "LphZeo-O9xxl"
      },
      "execution_count": null,
      "outputs": []
    },
    {
      "cell_type": "code",
      "source": [
        "#@title\n",
        "if seat != 0: #if (조건): = (조건)이 참이라면\n",
        "    print('예매 도와드리겠습니다.')\n",
        "    print('티켓요금은', fare, '입니다.')\n",
        "else:\n",
        "    print('죄송합니다.')\n",
        "    print('잔여석이 없습니다.')"
      ],
      "metadata": {
        "colab": {
          "base_uri": "https://localhost:8080/"
        },
        "id": "0LYTETljfZRh",
        "outputId": "bbe01b85-1021-49a8-e4e7-9be22c302a1d",
        "cellView": "form"
      },
      "execution_count": null,
      "outputs": [
        {
          "output_type": "stream",
          "name": "stdout",
          "text": [
            "죄송합니다.\n",
            "잔여석이 없습니다.\n"
          ]
        }
      ]
    },
    {
      "cell_type": "markdown",
      "source": [
        "## elif B : 그렇지 않고 B라면\n",
        "생각3. 특정 조건을 만족하지 못하지만, 다른 조건을 만족하는 경우에는? \n",
        "\n",
        "가장 보고 싶은 영화의 잔여석을 먼저 확인해서 잔여석이 있으면 티켓요금을 안내해주고,  \n",
        "그렇지않고, 두번째 보고 싶은 영화의 잔여석은 있다면 두번째 영화의 티켓요금을 안내해주고,\n",
        "그렇지도 않다면 죄송하다는 문구를 띄워주도록 코드를 작성해보자"
      ],
      "metadata": {
        "id": "5KMcO-vWfbdS"
      }
    },
    {
      "cell_type": "code",
      "source": [
        "movie_info = {'기생충' : {'잔여석' : 28,\n",
        "                        '티켓요금' : 11000},\n",
        "              '밀정' :  {'잔여석' : 0,\n",
        "                        '티켓요금' : 11000}}"
      ],
      "metadata": {
        "id": "76ZBSvVmgqZq"
      },
      "execution_count": null,
      "outputs": []
    },
    {
      "cell_type": "code",
      "source": [
        "my_movie = ['밀정', '기생충']\n",
        "\n",
        "seat = [movie_info[my_movie[0]]['잔여석'], movie_info[my_movie[1]]['잔여석']] \n",
        "fare = [movie_info[my_movie[0]]['티켓요금'], movie_info[my_movie[1]]['티켓요금']]\n",
        "\n",
        "print('seat : ', seat)\n",
        "print('fare : ', fare)"
      ],
      "metadata": {
        "id": "Hs8N2-AHgr2f"
      },
      "execution_count": null,
      "outputs": []
    },
    {
      "cell_type": "code",
      "source": [
        "#if A가 참이라면 :\n",
        "  print(my_movie[0], '예매 도와드리겠습니다.')\n",
        "  print('티켓요금은', fare[0], '입니다.')\n",
        "\n",
        "# A가 참이 아니고 B라면 : \n",
        "  print('죄송합니다.')\n",
        "  print(my_movie[0], '잔여석이 없습니다.')\n",
        "  print('대신,', my_movie[1], '예매 도와드리겠습니다.')\n",
        "  print('티켓요금은', fare[1], '입니다.')\n",
        "\n",
        "# A도 아니고 B도 아니라면 : \n",
        "  print('죄송합니다.')\n",
        "  print(my_movie[0], my_movie[1], '모두 잔여석이 없습니다.')  "
      ],
      "metadata": {
        "id": "8FGKeHvn-Wri"
      },
      "execution_count": null,
      "outputs": []
    },
    {
      "cell_type": "code",
      "source": [
        "#@title\n",
        "if seat[0] != 0: #if (조건): = (조건)이 참이라면\n",
        "  print(my_movie[0], '예매 도와드리겠습니다.')\n",
        "  print('티켓요금은', fare[0], '입니다.')\n",
        "elif seat[1] != 0:\n",
        "  print('죄송합니다.')\n",
        "  print(my_movie[0], '잔여석이 없습니다.')\n",
        "  print('대신,', my_movie[1], '예매 도와드리겠습니다.')\n",
        "  print('티켓요금은', fare[1], '입니다.')\n",
        "else:\n",
        "  print('죄송합니다.')\n",
        "  print(my_movie[0], my_movie[1], '모두 잔여석이 없습니다.')  "
      ],
      "metadata": {
        "colab": {
          "base_uri": "https://localhost:8080/"
        },
        "id": "qIqkK-ddgs-H",
        "outputId": "47ff09af-2d67-4960-e0eb-f3cd216fe94a",
        "cellView": "form"
      },
      "execution_count": null,
      "outputs": [
        {
          "output_type": "stream",
          "name": "stdout",
          "text": [
            "죄송합니다.\n",
            "밀정 잔여석이 없습니다.\n",
            "대신, 기생충 예매 도와드리겠습니다.\n",
            "티켓요금은 11000 입니다.\n"
          ]
        }
      ]
    },
    {
      "cell_type": "markdown",
      "source": [
        "## 응용 : 조건문 안에 조건문"
      ],
      "metadata": {
        "id": "IUMcc_wIirLT"
      }
    },
    {
      "cell_type": "markdown",
      "source": [
        "생각 4. 특정 조건을 만족한 경우에, 또 다른 조건을 확인하고자 한다면?  \n",
        "if A:   \n",
        "-> if B:"
      ],
      "metadata": {
        "id": "EP1JIJUWjJj5"
      }
    },
    {
      "cell_type": "code",
      "source": [
        "# 둘의 차이 비교\n",
        "# if A and B:\n",
        "\n",
        "# if A:\n",
        "#     if B:"
      ],
      "metadata": {
        "id": "QVd6mX2NjOB-"
      },
      "execution_count": null,
      "outputs": []
    },
    {
      "cell_type": "markdown",
      "source": [
        "먼저, 보고싶은 영화가 원하는 시간대에 있는지 확인하고, 있다면 잔여석을 확인해주는 코드를 작성해보세요."
      ],
      "metadata": {
        "id": "8jkJGy0hguib"
      }
    },
    {
      "cell_type": "code",
      "source": [
        "movie_info = {'기생충' :  {\n",
        "                          '티켓요금' : 11000,\n",
        "                          '7:00' : 28,\n",
        "                          '10:00' : 0\n",
        "                        },\n",
        "              '밀정' :  {\n",
        "                          '티켓요금' : 11000,\n",
        "                          '7:30' : 23,\n",
        "                          '10:30' : 102\n",
        "                        }\n",
        "              }"
      ],
      "metadata": {
        "id": "M72qdxT3jThG"
      },
      "execution_count": null,
      "outputs": []
    },
    {
      "cell_type": "code",
      "source": [
        "# 기생충의 키 중에 \"7:00\"이 있는지 확인하려면? "
      ],
      "metadata": {
        "id": "H3rqTRLCXCUU"
      },
      "execution_count": null,
      "outputs": []
    },
    {
      "cell_type": "code",
      "source": [],
      "metadata": {
        "colab": {
          "base_uri": "https://localhost:8080/"
        },
        "id": "dphd2ijxjUj-",
        "outputId": "c6b03894-354b-4310-eb8e-ddeae9089af1"
      },
      "execution_count": null,
      "outputs": [
        {
          "output_type": "execute_result",
          "data": {
            "text/plain": [
              "True"
            ]
          },
          "metadata": {},
          "execution_count": 19
        }
      ]
    },
    {
      "cell_type": "code",
      "source": [
        "my_movie = '기생충'\n",
        "my_time = '7:00'\n",
        "\n",
        "if my_time in movie_info[my_movie]:\n",
        "    print(my_movie, my_time, '영화 있습니다')\n",
        "\n",
        "    if movie_info[my_movie][my_time]: \n",
        "        print(my_movie, \"예매 도와드리겠습니다.\")\n",
        "        print(\"티켓요금은\", movie_info[my_movie]['티켓요금'], '입니다')\n",
        "        \n",
        "    else:\n",
        "        print(\"죄송합니다\")\n",
        "        print(\"잔여석이 없습니다\")\n",
        "else:\n",
        "    print(\"죄송합니다.\")\n",
        "    print(my_movie, '영화는', my_time, '시간대가 없습니다.')"
      ],
      "metadata": {
        "colab": {
          "base_uri": "https://localhost:8080/"
        },
        "id": "JBu18TSpjW-8",
        "outputId": "a29c514c-6893-432e-fdb7-e51c3a68d9fe"
      },
      "execution_count": null,
      "outputs": [
        {
          "output_type": "stream",
          "name": "stdout",
          "text": [
            "기생충 7:00 영화 있습니다\n",
            "기생충 예매 도와드리겠습니다.\n",
            "티켓요금은 11000 입니다\n"
          ]
        }
      ]
    },
    {
      "cell_type": "markdown",
      "source": [
        "## 여행 추천 버전 (독립조건)"
      ],
      "metadata": {
        "id": "7cuAYYcsk727"
      }
    },
    {
      "cell_type": "markdown",
      "source": [
        "취미가 여행이라면, 나라를 추천해주되, 다녀온적이 있는 나라는 제외하고 추천해주는 코드를 작성해보세요."
      ],
      "metadata": {
        "id": "j0svascblT71"
      }
    },
    {
      "cell_type": "code",
      "source": [
        "per_info = {\n",
        "    '아이디' : '소연',\n",
        "    '취미' : '여행',\n",
        "    '여행지' : ['미국','일본']\n",
        "}\n",
        "\n",
        "recommend = ['일본', '인도네시아', '프랑스']\n",
        "\n",
        "# 코드작성\n",
        "\n"
      ],
      "metadata": {
        "id": "qe38e1aulSCw"
      },
      "execution_count": null,
      "outputs": []
    },
    {
      "cell_type": "code",
      "source": [
        "#@title\n",
        "if per_info['취미'] == '여행':\n",
        "    # 미국, 일본이 추천국가에 있는지 없는지 각각 확인해서, 있으면 삭제, 없으면 패스\n",
        "    if '미국' in recommend:\n",
        "        recommend.remove('미국')\n",
        "    if '일본' in recommend:\n",
        "        recommend.remove(\"일본\")\n",
        "    \n",
        "    print('여행이 취미인', per_info['아이디'],'님에게 ', recommend, ' 여행을  추천합니다.')"
      ],
      "metadata": {
        "colab": {
          "base_uri": "https://localhost:8080/"
        },
        "id": "DmeUzbnsmBYd",
        "outputId": "c465a1d7-eca2-4a16-cf4f-168bb7dbe2b9",
        "cellView": "form"
      },
      "execution_count": null,
      "outputs": [
        {
          "output_type": "stream",
          "name": "stdout",
          "text": [
            "여행이 취미인 소연 님에게  ['인도네시아', '프랑스']  여행을  추천합니다.\n"
          ]
        }
      ]
    },
    {
      "cell_type": "markdown",
      "metadata": {
        "id": "pTia90RlwTdh"
      },
      "source": [
        "### 조건문 활용하기 위한 용법 정리\n",
        "    1) 다중 조건문(if, elif, ~~, else)  \n",
        "        말로 정리했을 때, 그렇지 않고\n",
        "\n",
        "    2) 중첩(계층) 조건문(if 안에 if)  \n",
        "        말로 정리했을 때, 그러면. 그리고\n",
        "\n",
        "    3) 독립 조건문(별개의 조건문의 나열)\n",
        "        말로 정리했을 때, 별개로, 독립적으로, 각각"
      ]
    },
    {
      "cell_type": "markdown",
      "source": [
        "비교 연산자"
      ],
      "metadata": {
        "id": "QAA2LSVvz7On"
      }
    },
    {
      "cell_type": "code",
      "source": [
        "a, b, c = 0, '', []\n",
        "print(bool(a), bool(b), bool(c))"
      ],
      "metadata": {
        "colab": {
          "base_uri": "https://localhost:8080/"
        },
        "collapsed": true,
        "id": "334qb71-zt_X",
        "outputId": "e6dc75fc-90b3-4009-dbb2-a48f7eae6cc2"
      },
      "execution_count": null,
      "outputs": [
        {
          "output_type": "stream",
          "name": "stdout",
          "text": [
            "False False False\n"
          ]
        }
      ]
    },
    {
      "cell_type": "code",
      "source": [
        "## 조건에 숫자, 문자, 리스트를 넣을 수 있을까?\n",
        "### if 조건 : 조건의 결과값이 True(참)이라면 이라고 읽기!\n",
        "\n",
        "a = 0 \n",
        "if a:\n",
        "    print(a)\n",
        "else:\n",
        "    print('a 는 0입니다.')\n",
        "\n",
        "b = '' \n",
        "if b:\n",
        "    print(b)\n",
        "else:\n",
        "    print('b에는 값이 없습니다.')\n",
        "\n",
        "\n",
        "c = [] \n",
        "if c:\n",
        "    c.pop()\n",
        "else:\n",
        "    c.append('a')\n",
        "    print(c)"
      ],
      "metadata": {
        "colab": {
          "base_uri": "https://localhost:8080/"
        },
        "id": "O1SWlSnemQep",
        "outputId": "938f2eba-bc3d-42bd-ac35-e1a05627d1ed"
      },
      "execution_count": null,
      "outputs": [
        {
          "output_type": "stream",
          "name": "stdout",
          "text": [
            "a 는 0입니다.\n",
            "b에는 값이 없습니다.\n",
            "['a']\n"
          ]
        }
      ]
    },
    {
      "cell_type": "markdown",
      "source": [
        "if A: A라면 (x) A의 결과가 True라면 (O)"
      ],
      "metadata": {
        "id": "4mcUsurxwhlh"
      }
    },
    {
      "cell_type": "code",
      "source": [
        "# a가 홀수인지 짝수인지 판단하는 코드\n",
        "a = 4 # 0 제외\n",
        "\n",
        "# 짝수면 2로 나눈 나머지 == 0 -> a%2 == 0\n",
        "\n",
        "if a%2:\n",
        "    print('홀수')\n",
        "else:\n",
        "    print('짝수')"
      ],
      "metadata": {
        "colab": {
          "base_uri": "https://localhost:8080/"
        },
        "id": "2VpNUGizwig7",
        "outputId": "c7bd9d18-60a1-4d72-af24-60dddaa47e5b"
      },
      "execution_count": null,
      "outputs": [
        {
          "output_type": "stream",
          "name": "stdout",
          "text": [
            "짝수\n"
          ]
        }
      ]
    },
    {
      "cell_type": "code",
      "source": [
        "# a 리스트가 빈리스트일 경우는 무조건 원소 0을 추가하고 그렇지 않을때는 패스 \n",
        "\n",
        "a = []\n",
        "\n",
        "if a:\n",
        "    pass\n",
        "else:\n",
        "    a.append(0)\n",
        "\n",
        "# if not a:\n",
        "#     a.append(0)"
      ],
      "metadata": {
        "id": "RpetpD5SmaUD"
      },
      "execution_count": null,
      "outputs": []
    },
    {
      "cell_type": "code",
      "source": [],
      "metadata": {
        "id": "G9DggzFEmcIv"
      },
      "execution_count": null,
      "outputs": []
    },
    {
      "cell_type": "markdown",
      "metadata": {
        "id": "T_Aogr6Ndbv5"
      },
      "source": [
        "## 난이도업!(2단계)"
      ]
    },
    {
      "cell_type": "markdown",
      "metadata": {
        "id": "fNLP3SJ4djBH"
      },
      "source": [
        "### 문제1\n",
        "다음과 같이 주민번호가 담긴 문자열이 있다.\n",
        "\n",
        "여성의 주민번호일 때 '여성'을 출력하고, 남성의 주민번호일 땐 '남성'을 출력하는 코드를 작성하세요.\n",
        "\n",
        "(7번째 짜리 숫자가 1 또는 3 이면 남자, 2 또는 4이면 여자)"
      ]
    },
    {
      "cell_type": "code",
      "metadata": {
        "colab": {
          "base_uri": "https://localhost:8080/"
        },
        "id": "4o_8vMekcp9r",
        "outputId": "ae8c5c9c-d47c-4f2d-9127-c41d638013c3"
      },
      "source": [
        "id = '210101-1231234'\n",
        "\n"
      ],
      "execution_count": null,
      "outputs": [
        {
          "output_type": "stream",
          "text": [
            "남성\n"
          ],
          "name": "stdout"
        }
      ]
    },
    {
      "cell_type": "markdown",
      "metadata": {
        "id": "CeHbXFmBg3pv"
      },
      "source": [
        "### 문제3\n",
        "다음과 같이 리스트가 있을 때, 리스트 안에 데이터가 1개 이상이면 '리스트 안에 데이터는 총 __개 입니다'를 출력하고,\n",
        "\n",
        "데이터가 0개면 '리스트 안에 데이터가 없습니다'를 출력하는 코드를 작성하세요."
      ]
    },
    {
      "cell_type": "code",
      "metadata": {
        "colab": {
          "base_uri": "https://localhost:8080/"
        },
        "id": "7ws4qQ4-g194",
        "outputId": "5c28e21a-40c6-4f6a-d1c1-816bbc5f4ef2"
      },
      "source": [
        "lists = [10, 30, 20, 40, 32, 50, 55, 50, 32, 84, 40, 88, 99, 100]\n"
      ],
      "execution_count": null,
      "outputs": [
        {
          "output_type": "stream",
          "name": "stdout",
          "text": [
            "14\n"
          ]
        }
      ]
    },
    {
      "cell_type": "code",
      "source": [],
      "metadata": {
        "id": "_FKkPNg4XiDG"
      },
      "execution_count": null,
      "outputs": []
    },
    {
      "cell_type": "markdown",
      "metadata": {
        "id": "Z0iPQcf9i2xK"
      },
      "source": [
        "### 문제6\n",
        "나이가 20살인지와 성별에 따라 각각 '미성년자 남성', '성인 남성', '미성년자 여성', '성인 여성'을 출력하는 코드를 작성하세요."
      ]
    },
    {
      "cell_type": "code",
      "source": [
        "id = ['홍길동', '14', '남자']\n"
      ],
      "metadata": {
        "id": "c4eeEK9uXneQ"
      },
      "execution_count": null,
      "outputs": []
    },
    {
      "cell_type": "code",
      "source": [],
      "metadata": {
        "id": "t5t592rQXuaM"
      },
      "execution_count": null,
      "outputs": []
    },
    {
      "cell_type": "markdown",
      "metadata": {
        "id": "pS6rIpspmfSu"
      },
      "source": [
        "### 문제10\n",
        "바나나를 사려고 하는데, 가진 돈이 5000원 밖에 없다.\n",
        "\n",
        "바나나의 가격이 5000원을 넘으면 '구매가 불가능합니다'라고 출력하고,\n",
        "\n",
        "5000원 이하면 '구매가능합니다'가 출력되도록 코드를 작성하세요."
      ]
    },
    {
      "cell_type": "code",
      "metadata": {
        "colab": {
          "base_uri": "https://localhost:8080/"
        },
        "id": "pcq46hl1ltnK",
        "outputId": "ef31fe16-095c-4552-ef56-9f9cb5c4b28d"
      },
      "source": [
        "fruit = {'사과' : '5000', '바나나' : '7000', '망고' : '8000'} #가격 자료형 유의!\n",
        "\n"
      ],
      "execution_count": null,
      "outputs": [
        {
          "output_type": "stream",
          "text": [
            "구매가 불가능합니다\n"
          ],
          "name": "stdout"
        }
      ]
    },
    {
      "cell_type": "code",
      "source": [],
      "metadata": {
        "id": "Ilfo6B2CYJ1D"
      },
      "execution_count": null,
      "outputs": []
    },
    {
      "cell_type": "markdown",
      "metadata": {
        "id": "gvzUANtKof8T"
      },
      "source": [
        "### 문제 11\n",
        "다음과 같이 4개의 성적이 담긴 리스트 score가 있다.\n",
        "\n",
        "4개 성적의 평균이 60점 이상이고, 각 점수에 40점 미만의 점수가 없어야 '합격'일 때,\n",
        "\n",
        "합격인지 불합격인지 출력하는 코드를 작성하세요."
      ]
    },
    {
      "cell_type": "code",
      "metadata": {
        "colab": {
          "base_uri": "https://localhost:8080/"
        },
        "id": "BBp-x50DpAHr",
        "outputId": "e0b9ec21-f99c-4e19-b94a-e0cc68af5dc3"
      },
      "source": [
        "score = [55, 90, 80, 35]\n",
        "\n"
      ],
      "execution_count": null,
      "outputs": [
        {
          "output_type": "stream",
          "text": [
            "불합격\n"
          ],
          "name": "stdout"
        }
      ]
    },
    {
      "cell_type": "markdown",
      "metadata": {
        "id": "jGd0i8Sno_dl"
      },
      "source": [
        "### 문제12\n",
        "다트를 던져서 50점과 가까울수록 높은 점수를 매긴다 할 때,\n",
        "\n",
        "45점 이상 55점 미만일 때 '+10점',\n",
        "\n",
        "40점 이상 60 미만일 때 '+7점',\n",
        "\n",
        "30점 이상 70점 미만일 때 '+5점'을 출력하는 코드를 작성하세요."
      ]
    },
    {
      "cell_type": "code",
      "metadata": {
        "colab": {
          "base_uri": "https://localhost:8080/"
        },
        "id": "DP_EjISkqC_P",
        "outputId": "b9846574-202f-4a5a-f4e1-245c94ee5828"
      },
      "source": [
        "score = 43\n"
      ],
      "execution_count": null,
      "outputs": [
        {
          "output_type": "stream",
          "text": [
            "+7점\n"
          ],
          "name": "stdout"
        }
      ]
    },
    {
      "cell_type": "code",
      "source": [],
      "metadata": {
        "id": "ojCLmuAUZFrv"
      },
      "execution_count": null,
      "outputs": []
    },
    {
      "cell_type": "markdown",
      "metadata": {
        "id": "5F4raNoCnF-R"
      },
      "source": [
        "### 문제2\n",
        "사과 2개, 망고 3개, 수박 1개를 사려고 한다.\n",
        "\n",
        "살 수 없는 과일을 출력하고, 살 수 있는 과일은 구입할 갯수와 가격을 계산해 총 가격을 출력해보세요.(코드 형식 무관)"
      ]
    },
    {
      "cell_type": "code",
      "source": [
        "fruit = {'사과' : '5000', '바나나' : '7000', '망고' : '8000'}\n",
        "apple = 2\n",
        "mango = 3\n",
        "watermelon = 1\n",
        "\n",
        "price = 0"
      ],
      "metadata": {
        "id": "Sc0qFEkoYklM"
      },
      "execution_count": null,
      "outputs": []
    },
    {
      "cell_type": "code",
      "source": [],
      "metadata": {
        "id": "RqsML6e4ZGXI"
      },
      "execution_count": null,
      "outputs": []
    },
    {
      "cell_type": "code",
      "source": [],
      "metadata": {
        "id": "fCx1X-dCZJkN"
      },
      "execution_count": null,
      "outputs": []
    }
  ]
}