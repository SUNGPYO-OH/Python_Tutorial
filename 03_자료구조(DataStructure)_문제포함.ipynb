{
  "nbformat": 4,
  "nbformat_minor": 0,
  "metadata": {
    "colab": {
      "provenance": [],
      "collapsed_sections": [],
      "include_colab_link": true
    },
    "kernelspec": {
      "name": "python3",
      "display_name": "Python 3"
    },
    "language_info": {
      "name": "python"
    }
  },
  "cells": [
    {
      "cell_type": "markdown",
      "metadata": {
        "id": "view-in-github",
        "colab_type": "text"
      },
      "source": [
        "<a href=\"https://colab.research.google.com/github/SUNGPYO-OH/Python_Tutorial/blob/main/03_%EC%9E%90%EB%A3%8C%EA%B5%AC%EC%A1%B0(DataStructure)_%EB%AC%B8%EC%A0%9C%ED%8F%AC%ED%95%A8.ipynb\" target=\"_parent\"><img src=\"https://colab.research.google.com/assets/colab-badge.svg\" alt=\"Open In Colab\"/></a>"
      ]
    },
    {
      "cell_type": "markdown",
      "metadata": {
        "id": "rDU8rv5Yt3Ju"
      },
      "source": [
        "# 자료구조(DataStructure)"
      ]
    },
    {
      "cell_type": "code",
      "metadata": {
        "id": "vthX_q-tt3J3"
      },
      "source": [
        "toy1 = '우디'\n",
        "toy2 = '버즈'\n",
        "toy3 = '보'\n",
        "toy4 = '포키'"
      ],
      "execution_count": null,
      "outputs": []
    },
    {
      "cell_type": "markdown",
      "metadata": {
        "id": "SBRW6Ecct3J8"
      },
      "source": [
        "생각1. toy 안에 다 담을 수 없을까?"
      ]
    },
    {
      "cell_type": "markdown",
      "metadata": {
        "id": "eSPu3vY-t3J9"
      },
      "source": [
        "## 리스트"
      ]
    },
    {
      "cell_type": "code",
      "source": [
        "toy = [toy1, toy2, toy3, toy4]\n",
        "toy"
      ],
      "metadata": {
        "colab": {
          "base_uri": "https://localhost:8080/"
        },
        "id": "J7-XORhW-6Ai",
        "outputId": "bba2cafb-0a5b-421a-9cf2-218818e40b2d",
        "collapsed": true
      },
      "execution_count": null,
      "outputs": [
        {
          "output_type": "execute_result",
          "data": {
            "text/plain": [
              "['우디', '버즈', '보', '포키']"
            ]
          },
          "metadata": {},
          "execution_count": 2
        }
      ]
    },
    {
      "cell_type": "code",
      "metadata": {
        "id": "6xVJTo3Ht3J-",
        "colab": {
          "base_uri": "https://localhost:8080/"
        },
        "outputId": "e83ab9f1-c6d9-45ab-d3a8-7869606b2d26",
        "collapsed": true
      },
      "source": [
        "toy = ['우디', '버즈', '포키', '보', '제시', '슬링키독']\n",
        "toy"
      ],
      "execution_count": null,
      "outputs": [
        {
          "output_type": "execute_result",
          "data": {
            "text/plain": [
              "['우디', '버즈', '포키', '보', '제시', '슬링키독']"
            ]
          },
          "metadata": {},
          "execution_count": 3
        }
      ]
    },
    {
      "cell_type": "markdown",
      "metadata": {
        "id": "2bhtOaTct3KD"
      },
      "source": [
        "생각2. 버즈만 지칭하고 싶다면?"
      ]
    },
    {
      "cell_type": "markdown",
      "source": [
        "첫번째는 0번째다. (두번째는? 1번째겠네요)"
      ],
      "metadata": {
        "id": "cvHPFE0HjSnS"
      }
    },
    {
      "cell_type": "markdown",
      "source": [
        "리스트이름[인덱스]"
      ],
      "metadata": {
        "id": "SXpGFklX-xiI"
      }
    },
    {
      "cell_type": "code",
      "metadata": {
        "id": "BOLQWboyt3KF",
        "colab": {
          "base_uri": "https://localhost:8080/",
          "height": 58
        },
        "outputId": "49a6a90e-760e-4bff-a1db-ea796973bfe0",
        "collapsed": true
      },
      "source": [
        "toy[1] #두번째 데이터"
      ],
      "execution_count": null,
      "outputs": [
        {
          "output_type": "execute_result",
          "data": {
            "text/plain": [
              "'버즈'"
            ],
            "application/vnd.google.colaboratory.intrinsic+json": {
              "type": "string"
            }
          },
          "metadata": {},
          "execution_count": 4
        }
      ]
    },
    {
      "cell_type": "code",
      "metadata": {
        "id": "0xl_wQknt3KJ",
        "colab": {
          "base_uri": "https://localhost:8080/",
          "height": 58
        },
        "outputId": "5f9d3670-0c5d-4ee2-f9b8-d95004309af6",
        "collapsed": true
      },
      "source": [
        "toy[0] # 첫번째 데이터"
      ],
      "execution_count": null,
      "outputs": [
        {
          "output_type": "execute_result",
          "data": {
            "text/plain": [
              "'우디'"
            ],
            "application/vnd.google.colaboratory.intrinsic+json": {
              "type": "string"
            }
          },
          "metadata": {},
          "execution_count": 5
        }
      ]
    },
    {
      "cell_type": "code",
      "metadata": {
        "id": "DPl3kbnTt3KO",
        "colab": {
          "base_uri": "https://localhost:8080/",
          "height": 58
        },
        "outputId": "78de9111-b80a-40e2-bb9b-4d2a2b1a363c",
        "collapsed": true
      },
      "source": [
        "toy[-1] #끝번째 데이터"
      ],
      "execution_count": null,
      "outputs": [
        {
          "output_type": "execute_result",
          "data": {
            "text/plain": [
              "'슬링키독'"
            ],
            "application/vnd.google.colaboratory.intrinsic+json": {
              "type": "string"
            }
          },
          "metadata": {},
          "execution_count": 6
        }
      ]
    },
    {
      "cell_type": "code",
      "metadata": {
        "id": "pnGW6XP2t3KR",
        "colab": {
          "base_uri": "https://localhost:8080/",
          "height": 58
        },
        "outputId": "7a933316-dfdb-4b6f-d50d-0abd9412c451",
        "collapsed": true
      },
      "source": [
        "toy[-2]"
      ],
      "execution_count": null,
      "outputs": [
        {
          "output_type": "execute_result",
          "data": {
            "text/plain": [
              "'제시'"
            ],
            "application/vnd.google.colaboratory.intrinsic+json": {
              "type": "string"
            }
          },
          "metadata": {},
          "execution_count": 9
        }
      ]
    },
    {
      "cell_type": "code",
      "source": [
        "## 보는 몇번째일까요?\n",
        "toy[3], toy[-3]"
      ],
      "metadata": {
        "colab": {
          "base_uri": "https://localhost:8080/"
        },
        "id": "O_wCP44njv5-",
        "outputId": "11987206-3171-43d5-ea7d-f6869642144a",
        "collapsed": true
      },
      "execution_count": null,
      "outputs": [
        {
          "output_type": "execute_result",
          "data": {
            "text/plain": [
              "('보', '보')"
            ]
          },
          "metadata": {},
          "execution_count": 10
        }
      ]
    },
    {
      "cell_type": "markdown",
      "metadata": {
        "id": "uTWo6L3ct3KV"
      },
      "source": [
        "#### 슬라이싱"
      ]
    },
    {
      "cell_type": "code",
      "source": [
        "toy = ['우디', '버즈', '포키', '보', '제시', '슬링키독']\n",
        "toy"
      ],
      "metadata": {
        "colab": {
          "base_uri": "https://localhost:8080/"
        },
        "collapsed": true,
        "id": "j_niBZ8mbPYp",
        "outputId": "d2878d61-e61c-412f-8932-20a607c78579"
      },
      "execution_count": null,
      "outputs": [
        {
          "output_type": "execute_result",
          "data": {
            "text/plain": [
              "['우디', '버즈', '포키', '보', '제시', '슬링키독']"
            ]
          },
          "metadata": {},
          "execution_count": 11
        }
      ]
    },
    {
      "cell_type": "markdown",
      "metadata": {
        "id": "GwQVlJndt3KW"
      },
      "source": [
        "첫번째 ~ 세번째 데이터 = 인덱싱 0~ 인덱싱 2 데이터 = 0:3"
      ]
    },
    {
      "cell_type": "markdown",
      "source": [
        "리스트이름[이상:미만:간격]"
      ],
      "metadata": {
        "id": "BXnYeNnZ_Wan"
      }
    },
    {
      "cell_type": "code",
      "metadata": {
        "id": "Y2iBUwCdt3KX",
        "colab": {
          "base_uri": "https://localhost:8080/"
        },
        "outputId": "84e156bb-150c-4f6d-90f0-2f5012d9f5ca",
        "collapsed": true
      },
      "source": [
        "toy[0:3]"
      ],
      "execution_count": null,
      "outputs": [
        {
          "output_type": "execute_result",
          "data": {
            "text/plain": [
              "['우디', '버즈', '포키']"
            ]
          },
          "metadata": {},
          "execution_count": 12
        }
      ]
    },
    {
      "cell_type": "markdown",
      "source": [
        "양쪽 끝은 생략이 가능하다. "
      ],
      "metadata": {
        "id": "kqMRVj1tV3HZ"
      }
    },
    {
      "cell_type": "code",
      "metadata": {
        "id": "hEsOTkwgt3Kb",
        "colab": {
          "base_uri": "https://localhost:8080/"
        },
        "outputId": "5d20a1df-f714-455c-fcda-d89af7b74fe2",
        "collapsed": true
      },
      "source": [
        "toy[:3] "
      ],
      "execution_count": null,
      "outputs": [
        {
          "output_type": "execute_result",
          "data": {
            "text/plain": [
              "['우디', '버즈', '포키']"
            ]
          },
          "metadata": {},
          "execution_count": 13
        }
      ]
    },
    {
      "cell_type": "code",
      "metadata": {
        "id": "6O-Od81it3Ke",
        "colab": {
          "base_uri": "https://localhost:8080/"
        },
        "outputId": "f8dfb591-73c6-44c2-e018-4d9cffffcf68",
        "collapsed": true
      },
      "source": [
        "toy[2:]"
      ],
      "execution_count": null,
      "outputs": [
        {
          "output_type": "execute_result",
          "data": {
            "text/plain": [
              "['포키', '보', '제시', '슬링키독']"
            ]
          },
          "metadata": {},
          "execution_count": 14
        }
      ]
    },
    {
      "cell_type": "code",
      "metadata": {
        "id": "c05n0djYt3Kh",
        "colab": {
          "base_uri": "https://localhost:8080/"
        },
        "outputId": "4cbb8739-f3c9-480c-f9fb-6f8eba9e49bd",
        "collapsed": true
      },
      "source": [
        "toy[:-2]"
      ],
      "execution_count": null,
      "outputs": [
        {
          "output_type": "execute_result",
          "data": {
            "text/plain": [
              "['우디', '버즈', '포키', '보']"
            ]
          },
          "metadata": {},
          "execution_count": 15
        }
      ]
    },
    {
      "cell_type": "code",
      "metadata": {
        "id": "693AxlkMt3Kk",
        "colab": {
          "base_uri": "https://localhost:8080/"
        },
        "outputId": "e514ee44-0a3c-44f9-a50a-fccfdb19032f",
        "collapsed": true
      },
      "source": [
        "toy[-2:]"
      ],
      "execution_count": null,
      "outputs": [
        {
          "output_type": "execute_result",
          "data": {
            "text/plain": [
              "['제시', '슬링키독']"
            ]
          },
          "metadata": {},
          "execution_count": 16
        }
      ]
    },
    {
      "cell_type": "markdown",
      "source": [
        "리스트 전체를 슬라이싱한다면?"
      ],
      "metadata": {
        "id": "hnF3J4OqbVjH"
      }
    },
    {
      "cell_type": "code",
      "source": [
        "toy[0:6]"
      ],
      "metadata": {
        "id": "Ph9gS_mJAKLs",
        "outputId": "74b6c4e9-cb74-4860-cdd8-5ca3c388e8e0",
        "colab": {
          "base_uri": "https://localhost:8080/"
        },
        "collapsed": true
      },
      "execution_count": null,
      "outputs": [
        {
          "output_type": "execute_result",
          "data": {
            "text/plain": [
              "['우디', '버즈', '포키', '보', '제시', '슬링키독']"
            ]
          },
          "metadata": {},
          "execution_count": 17
        }
      ]
    },
    {
      "cell_type": "code",
      "metadata": {
        "id": "txW-oVz-t3Ko",
        "colab": {
          "base_uri": "https://localhost:8080/"
        },
        "outputId": "d352d171-c2c1-48d8-eaa9-2eb70c85439f",
        "collapsed": true
      },
      "source": [
        "toy[:] #toy[:-1]가 아니다."
      ],
      "execution_count": null,
      "outputs": [
        {
          "output_type": "execute_result",
          "data": {
            "text/plain": [
              "['우디', '버즈', '포키', '보', '제시', '슬링키독']"
            ]
          },
          "metadata": {},
          "execution_count": 18
        }
      ]
    },
    {
      "cell_type": "code",
      "source": [
        "toy[:-1] "
      ],
      "metadata": {
        "colab": {
          "base_uri": "https://localhost:8080/"
        },
        "collapsed": true,
        "id": "9m4c4in9V8jk",
        "outputId": "cfaf56ed-651e-4be8-c3d7-ffbb797220b9"
      },
      "execution_count": null,
      "outputs": [
        {
          "output_type": "execute_result",
          "data": {
            "text/plain": [
              "['우디', '버즈', '포키', '보', '제시']"
            ]
          },
          "metadata": {},
          "execution_count": 19
        }
      ]
    },
    {
      "cell_type": "markdown",
      "metadata": {
        "id": "GZ_ED8zDlIDw"
      },
      "source": [
        "생각4.\n",
        "한칸씩 점프하면서 여러 토이를 지칭하고 싶다면?\n",
        "[우디, 포키, 제시]"
      ]
    },
    {
      "cell_type": "code",
      "metadata": {
        "colab": {
          "base_uri": "https://localhost:8080/"
        },
        "id": "flrUksFVlH3t",
        "outputId": "55fec4d9-9066-4548-daad-263457ff8e63",
        "collapsed": true
      },
      "source": [
        "toy[1:4:2] # [시작점:끝점+1:간격]"
      ],
      "execution_count": null,
      "outputs": [
        {
          "output_type": "execute_result",
          "data": {
            "text/plain": [
              "['버즈', '보']"
            ]
          },
          "metadata": {},
          "execution_count": 21
        }
      ]
    },
    {
      "cell_type": "markdown",
      "source": [
        "직접 해보기 : 버즈랑 제시만 가져와보기"
      ],
      "metadata": {
        "id": "N95z8UaCWSSB"
      }
    },
    {
      "cell_type": "code",
      "source": [
        "# 직접 해보기 : 버즈랑 제시만 가져와보기\n",
        "toy = ['우디', '버즈', '포키', '보', '제시', '슬링키독']\n",
        "\n",
        "# toy[1::3]\n",
        "\n",
        "toy[-2::-3]"
      ],
      "metadata": {
        "id": "JRUtvdL-5vbX",
        "collapsed": true,
        "colab": {
          "base_uri": "https://localhost:8080/"
        },
        "outputId": "3a28c554-bcc4-4cda-b324-52bf7306b548"
      },
      "execution_count": null,
      "outputs": [
        {
          "output_type": "execute_result",
          "data": {
            "text/plain": [
              "['제시', '버즈']"
            ]
          },
          "metadata": {},
          "execution_count": 24
        }
      ]
    },
    {
      "cell_type": "markdown",
      "source": [
        "[이상 : 미만 : 간격]"
      ],
      "metadata": {
        "id": "0kqrixfEbCXJ"
      }
    },
    {
      "cell_type": "markdown",
      "metadata": {
        "id": "ksySyS6Bt3Ks"
      },
      "source": [
        "생각5. toy라는 리스트 안에 새로운 데이터를 추가하고 싶다면?"
      ]
    },
    {
      "cell_type": "markdown",
      "metadata": {
        "id": "rezMtt4rt3Kt"
      },
      "source": [
        "#### 데이터 추가하기"
      ]
    },
    {
      "cell_type": "markdown",
      "metadata": {
        "id": "DvOe24Vat3Ku"
      },
      "source": [
        "- append : 1개/맨끝자리에  \n",
        "- insert : 1개/원하는 자리에 (i : i번째(위치) 지정) \n",
        "- extend : 여러개/맨끝자리에 (e : 리스트로 묶어서)"
      ]
    },
    {
      "cell_type": "code",
      "metadata": {
        "id": "QR8h40w_t3Kv",
        "colab": {
          "base_uri": "https://localhost:8080/"
        },
        "outputId": "1096a5b4-29dc-493d-efbd-a3070d34d58f",
        "collapsed": true
      },
      "source": [
        "toy = ['우디', '버즈', '포키', '보']\n",
        "toy"
      ],
      "execution_count": null,
      "outputs": [
        {
          "output_type": "execute_result",
          "data": {
            "text/plain": [
              "['우디', '버즈', '포키', '보']"
            ]
          },
          "metadata": {},
          "execution_count": 42
        }
      ]
    },
    {
      "cell_type": "code",
      "metadata": {
        "id": "kMFFAxx0t3Ky"
      },
      "source": [
        "#제시를 추가하기\n",
        "toy.append('제시')"
      ],
      "execution_count": null,
      "outputs": []
    },
    {
      "cell_type": "code",
      "metadata": {
        "id": "TohK9cnDt3K1",
        "colab": {
          "base_uri": "https://localhost:8080/"
        },
        "outputId": "037a526d-4625-4786-b708-59810c9bb826",
        "collapsed": true
      },
      "source": [
        "toy"
      ],
      "execution_count": null,
      "outputs": [
        {
          "output_type": "execute_result",
          "data": {
            "text/plain": [
              "['우디', '버즈', '포키', '보', '제시', '제시', '제시', '제시']"
            ]
          },
          "metadata": {},
          "execution_count": 50
        }
      ]
    },
    {
      "cell_type": "code",
      "source": [
        "# 피카츄 끝에다가 추가\n",
        "toy.append('피카츄')"
      ],
      "metadata": {
        "id": "hQ6BElcHXDNQ"
      },
      "execution_count": null,
      "outputs": []
    },
    {
      "cell_type": "code",
      "source": [
        "toy"
      ],
      "metadata": {
        "colab": {
          "base_uri": "https://localhost:8080/"
        },
        "id": "joB3LJZohvTg",
        "outputId": "f7034313-a5f0-4593-e9a4-48d8f7a98d8c"
      },
      "execution_count": null,
      "outputs": [
        {
          "output_type": "execute_result",
          "data": {
            "text/plain": [
              "['우디', '버즈', '슬링키독', '포키', '보', '피카츄', '피카츄', '피카츄']"
            ]
          },
          "metadata": {},
          "execution_count": 37
        }
      ]
    },
    {
      "cell_type": "markdown",
      "metadata": {
        "id": "mC4_ZUNXt3K4"
      },
      "source": [
        "생각6. 새로운 데이터를 원하는 위치에 추가하고싶다면?"
      ]
    },
    {
      "cell_type": "code",
      "source": [
        "toy = ['우디', '버즈', '포키', '보']\n",
        "toy"
      ],
      "metadata": {
        "colab": {
          "base_uri": "https://localhost:8080/"
        },
        "id": "avQSP39vgmhd",
        "outputId": "ee7766d3-c5b6-487e-b4b0-508a19a239b4",
        "collapsed": true
      },
      "execution_count": null,
      "outputs": [
        {
          "output_type": "execute_result",
          "data": {
            "text/plain": [
              "['우디', '버즈', '포키', '보']"
            ]
          },
          "metadata": {},
          "execution_count": 38
        }
      ]
    },
    {
      "cell_type": "code",
      "metadata": {
        "id": "9YbB_Kcit3K5",
        "colab": {
          "base_uri": "https://localhost:8080/"
        },
        "outputId": "3d2013c1-9d79-45c5-9182-7fb12aa8f647",
        "collapsed": true
      },
      "source": [
        "toy.insert(2, '슬링키독')\n",
        "toy"
      ],
      "execution_count": null,
      "outputs": [
        {
          "output_type": "execute_result",
          "data": {
            "text/plain": [
              "['우디', '버즈', '슬링키독', '포키', '보']"
            ]
          },
          "metadata": {},
          "execution_count": 39
        }
      ]
    },
    {
      "cell_type": "markdown",
      "metadata": {
        "id": "tHgguzWit3K8"
      },
      "source": [
        "생각 7. 새로운 데이터 여러개를 한번에 추가하고 싶다면?"
      ]
    },
    {
      "cell_type": "code",
      "metadata": {
        "id": "h4EfVufjt3K9",
        "colab": {
          "base_uri": "https://localhost:8080/"
        },
        "outputId": "e9f8c32f-20e2-4ba4-9d2c-a9c83dd5a251",
        "collapsed": true
      },
      "source": [
        "#포테이토 헤드, 햄\n",
        "toy.extend(['포테이토 헤드', '햄'])\n",
        "toy"
      ],
      "execution_count": null,
      "outputs": [
        {
          "output_type": "execute_result",
          "data": {
            "text/plain": [
              "['우디',\n",
              " '버즈',\n",
              " '포키',\n",
              " '보',\n",
              " '제시',\n",
              " '제시',\n",
              " '제시',\n",
              " '제시',\n",
              " ['포테이토 헤드', '햄'],\n",
              " '포테이토 헤드',\n",
              " '햄']"
            ]
          },
          "metadata": {},
          "execution_count": 54
        }
      ]
    },
    {
      "cell_type": "code",
      "source": [
        "toy.append(['포테이토 헤드', '햄']) #추가 리스트 항목으로 추가 됌, append 와 extend 차이, 리스트\"로\" 추가되는것과 리스트\"가\" 추가되는것의 차이 설명 = ['포테이토 헤드', '햄'] 이 곧 '우디' 와 같이 1개의 리스트인 데이터가 됌\n",
        "toy"
      ],
      "metadata": {
        "colab": {
          "base_uri": "https://localhost:8080/"
        },
        "collapsed": true,
        "id": "znYmfIwzXcRH",
        "outputId": "1b23ae46-0698-48c5-c2e6-90cab1bdd638"
      },
      "execution_count": null,
      "outputs": [
        {
          "output_type": "execute_result",
          "data": {
            "text/plain": [
              "['우디', '버즈', '포키', '보', '제시', '제시', '제시', '제시', ['포테이토 헤드', '햄']]"
            ]
          },
          "metadata": {},
          "execution_count": 51
        }
      ]
    },
    {
      "cell_type": "code",
      "source": [
        "toy[-1][0]"
      ],
      "metadata": {
        "colab": {
          "base_uri": "https://localhost:8080/",
          "height": 58
        },
        "id": "L1f6ekLmi2jb",
        "outputId": "0c47e6c3-54ab-4549-9a51-839e0212e611"
      },
      "execution_count": null,
      "outputs": [
        {
          "output_type": "execute_result",
          "data": {
            "text/plain": [
              "'포테이토 헤드'"
            ],
            "application/vnd.google.colaboratory.intrinsic+json": {
              "type": "string"
            }
          },
          "metadata": {},
          "execution_count": 53
        }
      ]
    },
    {
      "cell_type": "markdown",
      "metadata": {
        "id": "PVI2g7d0t3LD"
      },
      "source": [
        "#### 데이터 삭제하기"
      ]
    },
    {
      "cell_type": "markdown",
      "metadata": {
        "id": "t9EA0SiZt3LE"
      },
      "source": [
        "- remove : 데이터를 명시/같은이름의 데이터가 여러개일 경우, 가장 앞에 있는 데이터 1개 삭제  \n",
        "- pop : 인덱스를 명시/삭제가 아니라 뽑아내는 것(해당 데이터를 반환)/인덱스 안적으면 -1(마지막 데이터 뽑아냄)  \n",
        "- clear : 변수 내의 데이터 삭제  \n",
        "- del : 변수 삭제/인덱스를 명시하여 해당 원소 삭제 가능"
      ]
    },
    {
      "cell_type": "code",
      "metadata": {
        "id": "KrE6fpjq1cAH",
        "colab": {
          "base_uri": "https://localhost:8080/"
        },
        "outputId": "15d858ca-808f-4708-ac9f-d0e03eb1cce6",
        "collapsed": true
      },
      "source": [
        "toy = ['우디', '버즈', '포키', '보', '제시', '슬링키독']\n",
        "toy"
      ],
      "execution_count": null,
      "outputs": [
        {
          "output_type": "execute_result",
          "data": {
            "text/plain": [
              "['우디', '버즈', '포키', '보', '제시', '슬링키독']"
            ]
          },
          "metadata": {},
          "execution_count": 63
        }
      ]
    },
    {
      "cell_type": "code",
      "source": [
        "# 우디를 제거하기\n",
        "toy.remove('우디')\n",
        "toy"
      ],
      "metadata": {
        "colab": {
          "base_uri": "https://localhost:8080/"
        },
        "id": "uLaXpoGbBD-9",
        "outputId": "bda1788c-f025-4bde-8e18-ba89867788ee",
        "collapsed": true
      },
      "execution_count": null,
      "outputs": [
        {
          "output_type": "execute_result",
          "data": {
            "text/plain": [
              "['버즈', '포키', '보', '제시', '슬링키독']"
            ]
          },
          "metadata": {},
          "execution_count": 60
        }
      ]
    },
    {
      "cell_type": "code",
      "metadata": {
        "id": "QRLI500O94jb",
        "colab": {
          "base_uri": "https://localhost:8080/"
        },
        "outputId": "a2804b76-3582-48e8-9d42-0594dfde026e",
        "collapsed": true
      },
      "source": [
        "# pop(인덱스) 뽑기\n",
        "toy.pop(-1)  \n",
        "toy"
      ],
      "execution_count": null,
      "outputs": [
        {
          "output_type": "execute_result",
          "data": {
            "text/plain": [
              "['버즈', '포키', '보', '제시']"
            ]
          },
          "metadata": {},
          "execution_count": 61
        }
      ]
    },
    {
      "cell_type": "code",
      "source": [
        "toy = ['우디', '버즈', '포키', '보', '제시', '슬링키독']\n",
        "pop = toy.pop(1)\n",
        "\n",
        "\n",
        "print(\"pop이 뽑아낸 아이: \", pop)\n",
        "print(\"pop을 실행하고 난 리스트 결과 : \", toy)"
      ],
      "metadata": {
        "colab": {
          "base_uri": "https://localhost:8080/"
        },
        "id": "awqSzU2Ejka3",
        "outputId": "af55e1f8-9527-4a11-eb70-4f4b6d242f6e"
      },
      "execution_count": null,
      "outputs": [
        {
          "output_type": "stream",
          "name": "stdout",
          "text": [
            "pop이 뽑아낸 아이:  버즈\n",
            "pop을 실행하고 난 리스트 결과 :  ['우디', '포키', '보', '제시', '슬링키독']\n"
          ]
        }
      ]
    },
    {
      "cell_type": "code",
      "source": [
        "toy = ['우디', '버즈', '포키', '보', '제시', '슬링키독']\n",
        "pop = toy[1]\n",
        "\n",
        "\n",
        "print(\"인덱싱 뽑아낸 아이: \", pop)\n",
        "print(\"인덱싱을 실행하고 난 리스트 결과 : \", toy)"
      ],
      "metadata": {
        "colab": {
          "base_uri": "https://localhost:8080/"
        },
        "id": "Qe9u1lzGkcl5",
        "outputId": "621a54f2-264b-4536-da0e-612b035eaef9"
      },
      "execution_count": null,
      "outputs": [
        {
          "output_type": "stream",
          "name": "stdout",
          "text": [
            "인덱싱 뽑아낸 아이:  버즈\n",
            "인덱싱을 실행하고 난 리스트 결과 :  ['우디', '버즈', '포키', '보', '제시', '슬링키독']\n"
          ]
        }
      ]
    },
    {
      "cell_type": "code",
      "source": [
        "# pop과 remove의 또하나의 차이\n",
        "# 화장을 지우는 것(remove)과 눈썹을 뽑는 것(pop)의 차이\n",
        "pop = toy.pop(2) #추가 toy 에서는 빠졌고 공중에 떠있는 상태가 됌\n",
        "pop"
      ],
      "metadata": {
        "colab": {
          "base_uri": "https://localhost:8080/",
          "height": 58
        },
        "collapsed": true,
        "id": "CXaPKX00XhL9",
        "outputId": "badf30c8-10b3-4dbe-ea51-80cf6d3b0178"
      },
      "execution_count": null,
      "outputs": [
        {
          "output_type": "execute_result",
          "data": {
            "text/plain": [
              "'보'"
            ],
            "application/vnd.google.colaboratory.intrinsic+json": {
              "type": "string"
            }
          },
          "metadata": {},
          "execution_count": 66
        }
      ]
    },
    {
      "cell_type": "code",
      "source": [
        "toy = ['우디', '버즈', '포키', '보', '제시', '슬링키독']\n",
        "\n",
        "toy.clear()\n",
        "toy"
      ],
      "metadata": {
        "colab": {
          "base_uri": "https://localhost:8080/"
        },
        "id": "Fa0vR6FIkD8C",
        "outputId": "55f592da-4264-4f7f-c776-83d5b05436dd"
      },
      "execution_count": null,
      "outputs": [
        {
          "output_type": "execute_result",
          "data": {
            "text/plain": [
              "[]"
            ]
          },
          "metadata": {},
          "execution_count": 73
        }
      ]
    },
    {
      "cell_type": "code",
      "source": [
        "toy = ['우디', '버즈', '포키', '보', '제시', '슬링키독']\n",
        "\n",
        "del toy[1]\n",
        "toy"
      ],
      "metadata": {
        "colab": {
          "base_uri": "https://localhost:8080/"
        },
        "id": "0wBkREAKk8Xh",
        "outputId": "923208f6-e429-43c5-b2ae-2b3231d8d2bb"
      },
      "execution_count": null,
      "outputs": [
        {
          "output_type": "execute_result",
          "data": {
            "text/plain": [
              "['우디', '포키', '보', '제시', '슬링키독']"
            ]
          },
          "metadata": {},
          "execution_count": 75
        }
      ]
    },
    {
      "cell_type": "code",
      "source": [
        "toy"
      ],
      "metadata": {
        "colab": {
          "base_uri": "https://localhost:8080/"
        },
        "collapsed": true,
        "id": "bzkCG4RKXoaf",
        "outputId": "e1c9789d-ddf5-44f1-fd8e-773c4cdd6f36"
      },
      "execution_count": null,
      "outputs": [
        {
          "output_type": "execute_result",
          "data": {
            "text/plain": [
              "['버즈', '포키', '제시']"
            ]
          },
          "metadata": {},
          "execution_count": 33
        }
      ]
    },
    {
      "cell_type": "code",
      "source": [
        "sell = [] #empty list\n",
        "sell.append(toy.pop(1))\n",
        "print('구매상품 : ', sell)\n",
        "print('남은상품 :', toy)"
      ],
      "metadata": {
        "colab": {
          "base_uri": "https://localhost:8080/"
        },
        "collapsed": true,
        "id": "2G4TBaU8XpvZ",
        "outputId": "bdb95613-5e8c-41f0-c320-6a1451503646"
      },
      "execution_count": null,
      "outputs": [
        {
          "output_type": "stream",
          "name": "stdout",
          "text": [
            "구매상품 :  ['포키']\n",
            "남은상품 : ['버즈', '제시']\n"
          ]
        }
      ]
    },
    {
      "cell_type": "code",
      "source": [
        "numbers = [1, 2, 3, 4, 5]\n",
        "new = []\n",
        "\n",
        "# numbers의 세번째 원소를 new 에 추가해보세요.\n",
        "\n",
        "print(new)\n",
        "\n",
        "# numbers의 마지막원소를 numbers에서 뽑아내서(numbers에서는 삭제), new에 추가해보세요.\n",
        "\n",
        "new, numbers"
      ],
      "metadata": {
        "id": "GtM5L-qJYeg1",
        "colab": {
          "base_uri": "https://localhost:8080/"
        },
        "collapsed": true,
        "outputId": "72eb7572-7b54-4335-b8b8-5b59ba2a3ac5"
      },
      "execution_count": null,
      "outputs": [
        {
          "output_type": "stream",
          "name": "stdout",
          "text": [
            "[]\n"
          ]
        },
        {
          "output_type": "execute_result",
          "data": {
            "text/plain": [
              "([], [1, 2, 3, 4, 5])"
            ]
          },
          "metadata": {},
          "execution_count": 35
        }
      ]
    },
    {
      "cell_type": "code",
      "source": [
        "#@title\n",
        "numbers = [1, 2, 3, 4, 5]\n",
        "new = []\n",
        "\n",
        "# numbers의 세번째 원소를 new 에 추가해보세요.\n",
        "new.append(numbers[2])\n",
        "new\n",
        "\n",
        "# numbers의 마지막원소를 numbers에서 뽑아내서(numbers에서는 삭제), new에 추가해보세요.\n",
        "new.append(numbers.pop()) # == toy.pop() 위치를 명시하지 않으면, 마지막번째로 간주\n",
        "new, numbers"
      ],
      "metadata": {
        "colab": {
          "base_uri": "https://localhost:8080/"
        },
        "cellView": "form",
        "collapsed": true,
        "id": "0BACrh-fXvMt",
        "outputId": "724da858-06b0-4705-cef7-372693df7f8e"
      },
      "execution_count": null,
      "outputs": [
        {
          "output_type": "execute_result",
          "data": {
            "text/plain": [
              "([3, 5], [1, 2, 3, 4])"
            ]
          },
          "metadata": {},
          "execution_count": 42
        }
      ]
    },
    {
      "cell_type": "code",
      "source": [
        "#선생님 \"구매상품: \" 과 sell 사이에 ,는 왜 치는건가요?\n",
        "# print 특강\n",
        "print(1, 2, 3) \n",
        "print('a', 'b', 'c') # 여러개를 동시에 출력하고자 할때, 구분자가 ,(쉼표) 입니다. #추가 왜 구분을 하는가? 컴퓨터에게 말(코딩)을 해야하는데 구분을 하지않으면 아버지 가방에 들어가신다 와 같이 어법이 안맞음\n",
        "print('구매상품 : ', sell) #'구매상품 : ' 랑 sell를 동시에 출력하고싶은거에요."
      ],
      "metadata": {
        "colab": {
          "base_uri": "https://localhost:8080/"
        },
        "collapsed": true,
        "id": "3tCpYpynYkk_",
        "outputId": "448e1125-b115-40c1-fe0e-deb2f4e5c334"
      },
      "execution_count": null,
      "outputs": [
        {
          "output_type": "stream",
          "name": "stdout",
          "text": [
            "1 2 3\n",
            "a b c\n",
            "구매상품 :  ['포키']\n"
          ]
        }
      ]
    },
    {
      "cell_type": "code",
      "source": [
        "print('before : ', toy)\n",
        "toy.clear()\n",
        "\n",
        "print('after : ', toy)"
      ],
      "metadata": {
        "colab": {
          "base_uri": "https://localhost:8080/"
        },
        "collapsed": true,
        "id": "4-SMKsezYu31",
        "outputId": "eae1b816-56cb-46b9-c5cc-04bd5a224013"
      },
      "execution_count": null,
      "outputs": [
        {
          "output_type": "stream",
          "name": "stdout",
          "text": [
            "before :  ['버즈', '제시']\n",
            "after :  []\n"
          ]
        }
      ]
    },
    {
      "cell_type": "code",
      "source": [
        "toy.append('버즈')\n",
        "toy.insert(1, '우디')\n",
        "toy.extend(['제시', '보'])\n",
        "toy"
      ],
      "metadata": {
        "colab": {
          "base_uri": "https://localhost:8080/"
        },
        "collapsed": true,
        "id": "63xwu308Yz7U",
        "outputId": "8e66233d-59d3-4c3f-a0e6-5d4514da5768"
      },
      "execution_count": null,
      "outputs": [
        {
          "output_type": "execute_result",
          "data": {
            "text/plain": [
              "['버즈', '우디', '제시', '보']"
            ]
          },
          "metadata": {},
          "execution_count": 38
        }
      ]
    },
    {
      "cell_type": "code",
      "source": [
        "del(toy) # del toy : 이렇게 써도 됩니다."
      ],
      "metadata": {
        "id": "9sr8vuQGY246"
      },
      "execution_count": null,
      "outputs": []
    },
    {
      "cell_type": "code",
      "source": [
        "toy"
      ],
      "metadata": {
        "colab": {
          "base_uri": "https://localhost:8080/",
          "height": 166
        },
        "collapsed": true,
        "id": "s6Wuk6CgY8oG",
        "outputId": "27705ff6-6618-435c-c39f-e301069906f9"
      },
      "execution_count": null,
      "outputs": [
        {
          "output_type": "error",
          "ename": "NameError",
          "evalue": "ignored",
          "traceback": [
            "\u001b[0;31m---------------------------------------------------------------------------\u001b[0m",
            "\u001b[0;31mNameError\u001b[0m                                 Traceback (most recent call last)",
            "\u001b[0;32m<ipython-input-40-f8584fced8bd>\u001b[0m in \u001b[0;36m<module>\u001b[0;34m()\u001b[0m\n\u001b[0;32m----> 1\u001b[0;31m \u001b[0mtoy\u001b[0m\u001b[0;34m\u001b[0m\u001b[0;34m\u001b[0m\u001b[0m\n\u001b[0m",
            "\u001b[0;31mNameError\u001b[0m: name 'toy' is not defined"
          ]
        }
      ]
    },
    {
      "cell_type": "code",
      "source": [
        "toy = ['우디', '버즈', '포키']\n",
        "toy"
      ],
      "metadata": {
        "colab": {
          "base_uri": "https://localhost:8080/"
        },
        "collapsed": true,
        "id": "py3you1yZEmg",
        "outputId": "829ec337-3f72-458f-f700-d2343b2ab134"
      },
      "execution_count": null,
      "outputs": [
        {
          "output_type": "execute_result",
          "data": {
            "text/plain": [
              "['우디', '버즈', '포키']"
            ]
          },
          "metadata": {},
          "execution_count": 41
        }
      ]
    },
    {
      "cell_type": "code",
      "source": [
        "del toy[0]\n",
        "toy"
      ],
      "metadata": {
        "colab": {
          "base_uri": "https://localhost:8080/"
        },
        "collapsed": true,
        "id": "diyuqzr8ZAW5",
        "outputId": "cc2bf3bc-2bb9-4731-a279-96395f3e929c"
      },
      "execution_count": null,
      "outputs": [
        {
          "output_type": "execute_result",
          "data": {
            "text/plain": [
              "['버즈', '포키']"
            ]
          },
          "metadata": {},
          "execution_count": 42
        }
      ]
    },
    {
      "cell_type": "code",
      "source": [
        "del(toy[-1])\n",
        "toy"
      ],
      "metadata": {
        "colab": {
          "base_uri": "https://localhost:8080/"
        },
        "collapsed": true,
        "id": "DV52AIg0ZE2f",
        "outputId": "64498e4b-6f74-4552-fb96-011240d4b92f"
      },
      "execution_count": null,
      "outputs": [
        {
          "output_type": "execute_result",
          "data": {
            "text/plain": [
              "['버즈']"
            ]
          },
          "metadata": {},
          "execution_count": 43
        }
      ]
    },
    {
      "cell_type": "markdown",
      "source": [
        "### 리스트 추가 & 삭제\n",
        " - a\n",
        " - i\n",
        " - e\n",
        "\n",
        " - r\n",
        " - p\n",
        " - c\n",
        " - d"
      ],
      "metadata": {
        "id": "J4stkMGqZGn3"
      }
    },
    {
      "cell_type": "markdown",
      "metadata": {
        "id": "BBMJw1mxt3Ln"
      },
      "source": [
        "#### 리스트 정렬하기"
      ]
    },
    {
      "cell_type": "code",
      "source": [
        "num = [5, 2, 4, 1]\n",
        "num.sort()\n",
        "num #크기 순으로 정렬"
      ],
      "metadata": {
        "colab": {
          "base_uri": "https://localhost:8080/"
        },
        "id": "7Da7MAqsQUHZ",
        "outputId": "980fb35b-353a-4a93-ee54-71495e10ab03",
        "collapsed": true
      },
      "execution_count": null,
      "outputs": [
        {
          "output_type": "execute_result",
          "data": {
            "text/plain": [
              "[1, 2, 4, 5]"
            ]
          },
          "metadata": {},
          "execution_count": 44
        }
      ]
    },
    {
      "cell_type": "code",
      "metadata": {
        "id": "PS304-Krt3Lo",
        "colab": {
          "base_uri": "https://localhost:8080/"
        },
        "outputId": "7b27a6ec-b960-4187-e6dc-d35a1f9f58bb",
        "collapsed": true
      },
      "source": [
        "hero = ['토르', '아이언맨', '헐크', '캡틴아메리카']\n",
        "hero"
      ],
      "execution_count": null,
      "outputs": [
        {
          "output_type": "execute_result",
          "data": {
            "text/plain": [
              "['토르', '아이언맨', '헐크', '캡틴아메리카']"
            ]
          },
          "metadata": {},
          "execution_count": 45
        }
      ]
    },
    {
      "cell_type": "code",
      "metadata": {
        "id": "0L67dqoht3Lr",
        "colab": {
          "base_uri": "https://localhost:8080/"
        },
        "outputId": "1e1747ff-7847-4301-da65-f5df9f4603df",
        "collapsed": true
      },
      "source": [
        "hero.sort()\n",
        "hero # 사전식 기준 정렬"
      ],
      "execution_count": null,
      "outputs": [
        {
          "output_type": "execute_result",
          "data": {
            "text/plain": [
              "['아이언맨', '캡틴아메리카', '토르', '헐크']"
            ]
          },
          "metadata": {},
          "execution_count": 46
        }
      ]
    },
    {
      "cell_type": "code",
      "metadata": {
        "id": "n_kufILlt3Lu",
        "colab": {
          "base_uri": "https://localhost:8080/"
        },
        "outputId": "7e2aa7c6-9c5b-4d1d-b6d1-75a41c143abd",
        "collapsed": true
      },
      "source": [
        "hero.sort(reverse=True)\n",
        "hero"
      ],
      "execution_count": null,
      "outputs": [
        {
          "output_type": "execute_result",
          "data": {
            "text/plain": [
              "['헐크', '토르', '캡틴아메리카', '아이언맨']"
            ]
          },
          "metadata": {},
          "execution_count": 47
        }
      ]
    },
    {
      "cell_type": "markdown",
      "metadata": {
        "id": "SkXOkiO5t3Ly"
      },
      "source": [
        "hero는 그대로 두고, 새로운 변수를 만들어서 정렬시키고싶다면?"
      ]
    },
    {
      "cell_type": "code",
      "source": [
        "hero = ['토르', '아이언맨', '헐크', '캡틴아메리카']\n",
        "sorted(hero)"
      ],
      "metadata": {
        "colab": {
          "base_uri": "https://localhost:8080/"
        },
        "id": "jrcLO_roTnja",
        "outputId": "d24dc551-0b1e-450d-fe4f-b49b07feeda4",
        "collapsed": true
      },
      "execution_count": null,
      "outputs": [
        {
          "output_type": "execute_result",
          "data": {
            "text/plain": [
              "['아이언맨', '캡틴아메리카', '토르', '헐크']"
            ]
          },
          "metadata": {},
          "execution_count": 48
        }
      ]
    },
    {
      "cell_type": "code",
      "source": [
        "hero"
      ],
      "metadata": {
        "colab": {
          "base_uri": "https://localhost:8080/"
        },
        "id": "eRNldMPmTx7d",
        "outputId": "c32c2e49-65ca-4b4b-b147-fcf5865c5185",
        "collapsed": true
      },
      "execution_count": null,
      "outputs": [
        {
          "output_type": "execute_result",
          "data": {
            "text/plain": [
              "['토르', '아이언맨', '헐크', '캡틴아메리카']"
            ]
          },
          "metadata": {},
          "execution_count": 49
        }
      ]
    },
    {
      "cell_type": "code",
      "metadata": {
        "id": "YkFIAy_ot3Lz",
        "colab": {
          "base_uri": "https://localhost:8080/"
        },
        "outputId": "a0f9858d-8c04-421c-f28d-7cf3de74f79d",
        "collapsed": true
      },
      "source": [
        "# 새로운 변수에 대입하는 이유 = 원본이 변형되지 않기 때문에\n",
        "hero_sorted = sorted(hero) # hero = sorted(hero) : 같은변수에 덮어쓰기를 하면 .sort()와 동일한 효과\n",
        "\n",
        "print('hero:', hero)\n",
        "print('sorted:', hero_sorted)"
      ],
      "execution_count": null,
      "outputs": [
        {
          "output_type": "stream",
          "name": "stdout",
          "text": [
            "hero: ['토르', '아이언맨', '헐크', '캡틴아메리카']\n",
            "sorted: ['아이언맨', '캡틴아메리카', '토르', '헐크']\n"
          ]
        }
      ]
    },
    {
      "cell_type": "code",
      "source": [
        "hero = ['토르', '아이언맨', '헐크', '캡틴아메리카']\n",
        "\n",
        "hero_revsd = sorted(hero, reverse=True)\n",
        "print(hero_revsd)"
      ],
      "metadata": {
        "colab": {
          "base_uri": "https://localhost:8080/"
        },
        "collapsed": true,
        "id": "KeCUFhycaYYx",
        "outputId": "35cffb8d-8da7-4ca8-ebf9-c54597be7502"
      },
      "execution_count": null,
      "outputs": [
        {
          "output_type": "stream",
          "name": "stdout",
          "text": [
            "['헐크', '토르', '캡틴아메리카', '아이언맨']\n"
          ]
        }
      ]
    },
    {
      "cell_type": "markdown",
      "metadata": {
        "id": "D_Ky0BnMt3L8"
      },
      "source": [
        "리스트 안에 데이터가 몇개 들어있을까? (리스트의 길이가 궁금하다)"
      ]
    },
    {
      "cell_type": "code",
      "metadata": {
        "id": "MnLuhKk9AQw7",
        "colab": {
          "base_uri": "https://localhost:8080/"
        },
        "outputId": "925f08d7-48d3-49f0-cb75-41c4b82f05ea",
        "collapsed": true
      },
      "source": [
        "hero = ['토르', '아이언맨', '헐크', '캡틴아메리카']\n",
        "hero"
      ],
      "execution_count": 16,
      "outputs": [
        {
          "output_type": "execute_result",
          "data": {
            "text/plain": [
              "['토르', '아이언맨', '헐크', '캡틴아메리카']"
            ]
          },
          "metadata": {},
          "execution_count": 16
        }
      ]
    },
    {
      "cell_type": "code",
      "metadata": {
        "id": "sQpa-U9Ht3L-",
        "colab": {
          "base_uri": "https://localhost:8080/"
        },
        "outputId": "7045a581-ec07-4359-e376-5dc9eca0969e",
        "collapsed": true
      },
      "source": [
        "len(hero) # 리스트의 길이(length) = 원소의 개수"
      ],
      "execution_count": null,
      "outputs": [
        {
          "output_type": "execute_result",
          "data": {
            "text/plain": [
              "4"
            ]
          },
          "metadata": {},
          "execution_count": 53
        }
      ]
    },
    {
      "cell_type": "code",
      "metadata": {
        "id": "-jpQLhzrt3MG",
        "colab": {
          "base_uri": "https://localhost:8080/"
        },
        "outputId": "b8a30c71-fa84-4b58-a7bb-84fbf7ac4fc2",
        "collapsed": true
      },
      "source": [
        "hero.extend(['스파이더맨', '앤트맨'])\n",
        "hero"
      ],
      "execution_count": 17,
      "outputs": [
        {
          "output_type": "execute_result",
          "data": {
            "text/plain": [
              "['토르', '아이언맨', '헐크', '캡틴아메리카', '스파이더맨', '앤트맨']"
            ]
          },
          "metadata": {},
          "execution_count": 17
        }
      ]
    },
    {
      "cell_type": "code",
      "metadata": {
        "id": "FC916kNbt3MJ",
        "colab": {
          "base_uri": "https://localhost:8080/"
        },
        "outputId": "cec53473-d6ff-4008-eb8d-7e412a66cdc4",
        "collapsed": true
      },
      "source": [
        "len(hero)"
      ],
      "execution_count": null,
      "outputs": [
        {
          "output_type": "execute_result",
          "data": {
            "text/plain": [
              "6"
            ]
          },
          "metadata": {},
          "execution_count": 55
        }
      ]
    },
    {
      "cell_type": "markdown",
      "metadata": {
        "id": "Poagrpj5t3My"
      },
      "source": [
        "'아이언맨'이 몇번째 자리에 있는지 궁금하다면?"
      ]
    },
    {
      "cell_type": "code",
      "metadata": {
        "id": "J_bctIfKt3My",
        "colab": {
          "base_uri": "https://localhost:8080/"
        },
        "outputId": "6bb476a2-922e-4a79-8261-17db207fefb6",
        "collapsed": true
      },
      "source": [
        "hero.index('아이언맨')"
      ],
      "execution_count": null,
      "outputs": [
        {
          "output_type": "execute_result",
          "data": {
            "text/plain": [
              "1"
            ]
          },
          "metadata": {},
          "execution_count": 56
        }
      ]
    },
    {
      "cell_type": "markdown",
      "metadata": {
        "id": "q0a5-V28t3M1"
      },
      "source": [
        "'아이언맨'이 총 몇개가 있는지 궁금하다면?"
      ]
    },
    {
      "cell_type": "code",
      "metadata": {
        "id": "cNWfxQiat3M1",
        "colab": {
          "base_uri": "https://localhost:8080/"
        },
        "outputId": "3c452602-07e4-4095-eeba-139abd8ac189",
        "collapsed": true
      },
      "source": [
        "hero.count('아이언맨')"
      ],
      "execution_count": null,
      "outputs": [
        {
          "output_type": "execute_result",
          "data": {
            "text/plain": [
              "1"
            ]
          },
          "metadata": {},
          "execution_count": 57
        }
      ]
    },
    {
      "cell_type": "markdown",
      "metadata": {
        "id": "tuZgequ9FCBo"
      },
      "source": [
        "앤트맨은 있을까?"
      ]
    },
    {
      "cell_type": "code",
      "metadata": {
        "id": "rQPQMfsEB9c2",
        "colab": {
          "base_uri": "https://localhost:8080/"
        },
        "outputId": "5aa6c7d6-98dd-4537-a7ea-4bc528713808",
        "collapsed": true
      },
      "source": [
        "'앤트맨' in hero"
      ],
      "execution_count": null,
      "outputs": [
        {
          "output_type": "execute_result",
          "data": {
            "text/plain": [
              "True"
            ]
          },
          "metadata": {},
          "execution_count": 58
        }
      ]
    },
    {
      "cell_type": "markdown",
      "metadata": {
        "id": "RV0lWrq1t3M3"
      },
      "source": [
        "#### 이외의 알아두면 좋은 것들"
      ]
    },
    {
      "cell_type": "markdown",
      "metadata": {
        "id": "UYDzJvVbF66H"
      },
      "source": [
        "1. 리스트의 덧셈은 extend 다. (엄밀하게는 차이가 있다.)"
      ]
    },
    {
      "cell_type": "code",
      "source": [
        "hero = ['iron-man', 'vision', 'spiderman']\n",
        "extra_hero = ['captin', 'black-widow', 'blackpanser']\n",
        "\n",
        "hero + extra_hero"
      ],
      "metadata": {
        "colab": {
          "base_uri": "https://localhost:8080/"
        },
        "id": "i600eQVVnk9O",
        "outputId": "9c6a0521-d4da-4b12-8691-7ac2c99cf109"
      },
      "execution_count": null,
      "outputs": [
        {
          "output_type": "execute_result",
          "data": {
            "text/plain": [
              "['iron-man', 'vision', 'spiderman', 'captin', 'black-widow', 'blackpanser']"
            ]
          },
          "metadata": {},
          "execution_count": 1
        }
      ]
    },
    {
      "cell_type": "code",
      "metadata": {
        "id": "UCUV73Yft3M3",
        "colab": {
          "base_uri": "https://localhost:8080/"
        },
        "collapsed": true,
        "outputId": "da52856a-a044-4102-bae8-52edd541806a"
      },
      "source": [
        "hero = ['iron-man', 'vision', 'spiderman']\n",
        "extra_hero = ['captin', 'black-widow', 'blackpanser']\n",
        "print('원래 id :', id(hero)) #메모리 주소\n",
        "\n",
        "hero = hero + extra_hero\n",
        "print(\"덧셈 후 id : \", id(hero))\n",
        "hero"
      ],
      "execution_count": null,
      "outputs": [
        {
          "output_type": "stream",
          "name": "stdout",
          "text": [
            "원래 id : 140610446983568\n",
            "덧셈 후 id :  140610447025008\n"
          ]
        },
        {
          "output_type": "execute_result",
          "data": {
            "text/plain": [
              "['iron-man', 'vision', 'spiderman', 'captin', 'black-widow', 'blackpanser']"
            ]
          },
          "metadata": {},
          "execution_count": 59
        }
      ]
    },
    {
      "cell_type": "code",
      "metadata": {
        "id": "rhkh70Hgt3M5",
        "colab": {
          "base_uri": "https://localhost:8080/"
        },
        "outputId": "9f210916-443f-4a28-ead5-10871b40b329",
        "collapsed": true
      },
      "source": [
        "hero = ['iron-man', 'vision', 'spiderman']\n",
        "extra_hero = ['captin', 'black-widow', 'blackpanser']\n",
        "print('원래 id :', id(hero))\n",
        "\n",
        "\n",
        "hero.extend(extra_hero)\n",
        "print(\"extend 후 id : \", id(hero))\n",
        "hero"
      ],
      "execution_count": null,
      "outputs": [
        {
          "output_type": "stream",
          "name": "stdout",
          "text": [
            "원래 id : 140610447943712\n",
            "extend 후 id :  140610447943712\n"
          ]
        },
        {
          "output_type": "execute_result",
          "data": {
            "text/plain": [
              "['iron-man', 'vision', 'spiderman', 'captin', 'black-widow', 'blackpanser']"
            ]
          },
          "metadata": {},
          "execution_count": 60
        }
      ]
    },
    {
      "cell_type": "markdown",
      "metadata": {
        "id": "jkazEu4zGM6A"
      },
      "source": [
        "2. 리스트의 곱셈은 복제다."
      ]
    },
    {
      "cell_type": "code",
      "metadata": {
        "id": "LgZNp8s9my6j"
      },
      "source": [
        "# num = [1, 2, 3] -> [3, 6, 9] 를 만들고 싶다.\n",
        "# num*3"
      ],
      "execution_count": null,
      "outputs": []
    },
    {
      "cell_type": "code",
      "metadata": {
        "id": "llFfCbwNt3M7",
        "colab": {
          "base_uri": "https://localhost:8080/"
        },
        "outputId": "e2f8637a-28a7-4371-9861-62557e8b92ae",
        "collapsed": true
      },
      "source": [
        "num = [1, 2, 3]\n",
        "num = num*3 # num + num + num\n",
        "num"
      ],
      "execution_count": null,
      "outputs": [
        {
          "output_type": "execute_result",
          "data": {
            "text/plain": [
              "[1, 2, 3, 1, 2, 3, 1, 2, 3]"
            ]
          },
          "metadata": {},
          "execution_count": 61
        }
      ]
    },
    {
      "cell_type": "markdown",
      "metadata": {
        "id": "EnSXbKtgHPeb"
      },
      "source": [
        "3. 리스트는 다국적사회다."
      ]
    },
    {
      "cell_type": "code",
      "metadata": {
        "id": "FU_WH3iYG-B5",
        "colab": {
          "base_uri": "https://localhost:8080/"
        },
        "outputId": "183533fe-86ee-470e-b02f-ae3f4a5fc90b",
        "collapsed": true
      },
      "source": [
        "society = ['철수', 'Tom']\n",
        "society.append(1)\n",
        "society"
      ],
      "execution_count": null,
      "outputs": [
        {
          "output_type": "execute_result",
          "data": {
            "text/plain": [
              "['철수', 'Tom', 1]"
            ]
          },
          "metadata": {},
          "execution_count": 62
        }
      ]
    },
    {
      "cell_type": "code",
      "metadata": {
        "id": "RdLvQhGOHwUR",
        "colab": {
          "base_uri": "https://localhost:8080/"
        },
        "outputId": "39ef5590-c64c-4349-b3e8-40302bb270f9",
        "collapsed": true
      },
      "source": [
        "society.append(5.5)\n",
        "society.append(True)\n",
        "\n",
        "hero = ['아이언맨', '블랙팬서']\n",
        "society.append(hero)\n",
        "society, type(society)"
      ],
      "execution_count": null,
      "outputs": [
        {
          "output_type": "execute_result",
          "data": {
            "text/plain": [
              "(['철수', 'Tom', 1, 5.5, True, ['아이언맨', '블랙팬서']], list)"
            ]
          },
          "metadata": {},
          "execution_count": 63
        }
      ]
    },
    {
      "cell_type": "markdown",
      "metadata": {
        "id": "sgctzbiU7d-V"
      },
      "source": [
        "## 복습해볼까요?(1단계)"
      ]
    },
    {
      "cell_type": "markdown",
      "metadata": {
        "id": "mnv_VUopDPhF"
      },
      "source": [
        "### 문제1\n",
        "(1) 사과, 바나나, 레몬, 오렌지, 망고 원소를 담고 있는 리스트를 선언해보세요. (리스트 이름은 'fruit')"
      ]
    },
    {
      "cell_type": "code",
      "metadata": {
        "id": "BNWUTVe57_IQ"
      },
      "source": [
        "fruit = ['사과', '바나나', '레몬', '오렌지', '망고']"
      ],
      "execution_count": 1,
      "outputs": []
    },
    {
      "cell_type": "markdown",
      "metadata": {
        "id": "6lEowegq8kkK"
      },
      "source": [
        "(2) 인덱싱을 통해 '바나나'를 출력하세요."
      ]
    },
    {
      "cell_type": "code",
      "metadata": {
        "colab": {
          "base_uri": "https://localhost:8080/",
          "height": 35
        },
        "id": "7Sta30UB9UTB",
        "outputId": "7816c9e6-9e6f-475b-998c-fbeee80d24dd"
      },
      "source": [
        "fruit[1]"
      ],
      "execution_count": 3,
      "outputs": [
        {
          "output_type": "execute_result",
          "data": {
            "text/plain": [
              "'바나나'"
            ],
            "application/vnd.google.colaboratory.intrinsic+json": {
              "type": "string"
            }
          },
          "metadata": {},
          "execution_count": 3
        }
      ]
    },
    {
      "cell_type": "markdown",
      "metadata": {
        "id": "FM-mUIzI9gnK"
      },
      "source": [
        "(3) 슬라이싱을 통해 '사과', '레몬', '망고'만 출력하세요. (인덱싱에 주의할 것)"
      ]
    },
    {
      "cell_type": "code",
      "metadata": {
        "colab": {
          "base_uri": "https://localhost:8080/"
        },
        "id": "s9UvcfJ59Xju",
        "outputId": "41bce90b-3ea6-4585-a62b-877954e8c4fb"
      },
      "source": [
        "fruit[0:5:2]"
      ],
      "execution_count": 5,
      "outputs": [
        {
          "output_type": "execute_result",
          "data": {
            "text/plain": [
              "['사과', '레몬', '망고']"
            ]
          },
          "metadata": {},
          "execution_count": 5
        }
      ]
    },
    {
      "cell_type": "markdown",
      "metadata": {
        "id": "GRYeUEEl94sN"
      },
      "source": [
        "(4) fruit 리스트에서 '바나나'를 '딸기'로 변경한 뒤, 리스트를 출력하세요."
      ]
    },
    {
      "cell_type": "code",
      "metadata": {
        "colab": {
          "base_uri": "https://localhost:8080/"
        },
        "id": "SzpumK2h9QsD",
        "outputId": "e432c8f8-aa32-4d63-9fa4-5504a4f3a03d"
      },
      "source": [
        "fruit[1] = '딸기'\n",
        "fruit"
      ],
      "execution_count": 6,
      "outputs": [
        {
          "output_type": "execute_result",
          "data": {
            "text/plain": [
              "['사과', '딸기', '레몬', '오렌지', '망고']"
            ]
          },
          "metadata": {},
          "execution_count": 6
        }
      ]
    },
    {
      "cell_type": "markdown",
      "metadata": {
        "id": "L3PgLXjvDPNF"
      },
      "source": [
        "### 문제2\n",
        "다음과 같이 리스트 fruit에 데이터를 추가하려고 합니다.\n",
        "> fruit = ['사과', '바나나', '레몬', '오렌지', '망고']\n",
        "\n",
        "(1) 함수를 이용해서 아래와 같이 '메론'을 리스트에 추가하고 리스트를 출력하세요."
      ]
    },
    {
      "cell_type": "code",
      "metadata": {
        "id": "HN-nJbNtDgH9",
        "colab": {
          "base_uri": "https://localhost:8080/"
        },
        "outputId": "b9415df3-7a59-4b55-941d-417d7bdf1386"
      },
      "source": [
        "fruit = ['사과', '바나나', '레몬', '오렌지', '망고']\n",
        "fruit.append('메론')\n",
        "fruit"
      ],
      "execution_count": 11,
      "outputs": [
        {
          "output_type": "execute_result",
          "data": {
            "text/plain": [
              "['사과', '바나나', '레몬', '오렌지', '망고', '메론']"
            ]
          },
          "metadata": {},
          "execution_count": 11
        }
      ]
    },
    {
      "cell_type": "markdown",
      "metadata": {
        "id": "q-5eKvcn-lwq"
      },
      "source": [
        "(2) '사과'와 '바나나' 사이에 '딸기'를 추가한 뒤, fruit 리스트를 출력하세요."
      ]
    },
    {
      "cell_type": "code",
      "metadata": {
        "colab": {
          "base_uri": "https://localhost:8080/"
        },
        "id": "mT6x6b79-0t1",
        "outputId": "967b4705-f67a-4d1f-a5cc-353c707c165b"
      },
      "source": [
        "fruit.insert(1,'딸기')\n",
        "fruit"
      ],
      "execution_count": 12,
      "outputs": [
        {
          "output_type": "execute_result",
          "data": {
            "text/plain": [
              "['사과', '딸기', '바나나', '레몬', '오렌지', '망고', '메론']"
            ]
          },
          "metadata": {},
          "execution_count": 12
        }
      ]
    },
    {
      "cell_type": "markdown",
      "metadata": {
        "id": "2XY3Brr__NBc"
      },
      "source": [
        "### 문제3\n",
        "다음과 같이 리스트 cafe에 데이터를 추가하려고 합니다.\n",
        "> cafe = ['coffee', 'tea', 'water']\n",
        "\n",
        "(1) 리스트 ['juice', 'latte']를 cafe 리스트에 추가한 뒤, 아래와 같이 cafe를 출력해보세요."
      ]
    },
    {
      "cell_type": "code",
      "metadata": {
        "colab": {
          "base_uri": "https://localhost:8080/"
        },
        "id": "4K5XFb1A_vJw",
        "outputId": "08a5a28c-d563-47d9-89e9-fe08719f14f6"
      },
      "source": [
        "cafe = ['coffee', 'tea', 'water']\n",
        "#cafe.extend([['juice', 'latte']])\n",
        "cafe.append(['juice','latte'])\n",
        "cafe"
      ],
      "execution_count": 19,
      "outputs": [
        {
          "output_type": "execute_result",
          "data": {
            "text/plain": [
              "['coffee', 'tea', 'water', ['juice', 'latte']]"
            ]
          },
          "metadata": {},
          "execution_count": 19
        }
      ]
    },
    {
      "cell_type": "markdown",
      "metadata": {
        "id": "6RtkVVic_9Zb"
      },
      "source": [
        "(2) 이번에는 아래와 같이 리스트 ['juice', 'latte']를 처음 cafe 리스트에 추가한 뒤, cafe를 출력해보세요."
      ]
    },
    {
      "cell_type": "code",
      "metadata": {
        "colab": {
          "base_uri": "https://localhost:8080/"
        },
        "id": "_ay8O6iN_2Fz",
        "outputId": "608cac9f-4c6d-4045-dd4c-771ee8bb3f10"
      },
      "source": [
        "cafe = ['coffee', 'tea', 'water']\n",
        "cafe.insert(0,['juice','latte'])\n",
        "cafe"
      ],
      "execution_count": 23,
      "outputs": [
        {
          "output_type": "execute_result",
          "data": {
            "text/plain": [
              "[['juice', 'latte'], 'coffee', 'tea', 'water']"
            ]
          },
          "metadata": {},
          "execution_count": 23
        }
      ]
    },
    {
      "cell_type": "markdown",
      "metadata": {
        "id": "5ZefnbIfDf4N"
      },
      "source": [
        "### 문제4\n",
        "다음과 같이 리스트 subject에서 데이터를 삭제하려고 합니다.\n",
        "> subject = ['math', 'english', 'art', 'korean', 'music', 'science']\n",
        "\n",
        "(1) remove를 사용하여 'korean'을 삭제한 뒤, 리스트를 출력하세요."
      ]
    },
    {
      "cell_type": "code",
      "metadata": {
        "id": "5ru0xYhFDfv-",
        "colab": {
          "base_uri": "https://localhost:8080/"
        },
        "outputId": "4420ac90-bbd6-4096-c365-c33e0a7b4bea"
      },
      "source": [
        "subject = ['math', 'english', 'art', 'korean', 'music', 'science']\n",
        "subject.remove(\"korean\")\n",
        "subject"
      ],
      "execution_count": 24,
      "outputs": [
        {
          "output_type": "execute_result",
          "data": {
            "text/plain": [
              "['math', 'english', 'art', 'music', 'science']"
            ]
          },
          "metadata": {},
          "execution_count": 24
        }
      ]
    },
    {
      "cell_type": "markdown",
      "metadata": {
        "id": "Lmxt357NDMNg"
      },
      "source": [
        "(2) del를 사용하여 'art'를 삭제한 뒤, 리스트를 출력하세요."
      ]
    },
    {
      "cell_type": "code",
      "metadata": {
        "colab": {
          "base_uri": "https://localhost:8080/"
        },
        "id": "gzzzqM8RDRST",
        "outputId": "f9824d48-511b-4dc7-d4a7-5ed0f146aa34"
      },
      "source": [],
      "execution_count": null,
      "outputs": [
        {
          "output_type": "execute_result",
          "data": {
            "text/plain": [
              "['math', 'english', 'music', 'science']"
            ]
          },
          "metadata": {
            "tags": []
          },
          "execution_count": 21
        }
      ]
    },
    {
      "cell_type": "markdown",
      "metadata": {
        "id": "oejL_HI7DV_P"
      },
      "source": [
        "(3) pop을 사용하여 'science'를 새로운 변수(fav)에 저장한 뒤, 그 변수와 subject 리스트를 출력해보세요."
      ]
    },
    {
      "cell_type": "code",
      "metadata": {
        "colab": {
          "base_uri": "https://localhost:8080/"
        },
        "id": "cc9kX6ztDgXH",
        "outputId": "a9b19066-7b34-4e4a-9540-710bd6333dcc"
      },
      "source": [],
      "execution_count": null,
      "outputs": [
        {
          "output_type": "stream",
          "text": [
            "science\n",
            "['math', 'english', 'music']\n"
          ],
          "name": "stdout"
        }
      ]
    },
    {
      "cell_type": "markdown",
      "metadata": {
        "id": "R9Q8bHS8DsAb"
      },
      "source": [
        "(4) subject 리스트의 모든 데이터를 지우고, subject를 출력해보세요."
      ]
    },
    {
      "cell_type": "code",
      "metadata": {
        "colab": {
          "base_uri": "https://localhost:8080/"
        },
        "id": "YTLNY00ND0yM",
        "outputId": "b5009ead-3de1-41a9-82f3-ac4dc09a7a81"
      },
      "source": [],
      "execution_count": null,
      "outputs": [
        {
          "output_type": "execute_result",
          "data": {
            "text/plain": [
              "[]"
            ]
          },
          "metadata": {
            "tags": []
          },
          "execution_count": 23
        }
      ]
    },
    {
      "cell_type": "markdown",
      "metadata": {
        "id": "L_EJqMtCD4Jq"
      },
      "source": [
        "(5) subject 리스트 자체를 삭제해보세요. (삭제 후 subject 출력 시 에러가 발생되도록)\n"
      ]
    },
    {
      "cell_type": "code",
      "metadata": {
        "id": "BZjU5Dx8SAZf"
      },
      "source": [],
      "execution_count": null,
      "outputs": []
    },
    {
      "cell_type": "markdown",
      "metadata": {
        "id": "ZB-rjriwDmBl"
      },
      "source": [
        "### 문제5\n",
        "다음과 같이 무작위 정수가 들어 있는 리스트가 있다.\n",
        "> num = [33, 53, 78, 23, 4, 64, 93, 80]\n",
        "\n",
        "(1) num 리스트를 오름차순 정렬한 뒤, 리스트를 출력해보세요. 단, num 리스트는 정렬한 상태로 저장되어야 합니다. \n"
      ]
    },
    {
      "cell_type": "code",
      "metadata": {
        "id": "2bZACaS1DPEe",
        "colab": {
          "base_uri": "https://localhost:8080/"
        },
        "outputId": "04a8c1f7-2269-4c6e-d1fd-2260415fbc00"
      },
      "source": [
        "num = [33, 53, 78, 23, 4, 64, 93, 80]\n",
        "\n"
      ],
      "execution_count": null,
      "outputs": [
        {
          "output_type": "execute_result",
          "data": {
            "text/plain": [
              "[4, 23, 33, 53, 64, 78, 80, 93]"
            ]
          },
          "metadata": {
            "tags": []
          },
          "execution_count": 10
        }
      ]
    },
    {
      "cell_type": "markdown",
      "metadata": {
        "id": "S51_M2S3sPwf"
      },
      "source": [
        "(2) sorted를 이용하여 오름차순으로 정렬한 num을 새로운 리스트 'new'에 저장한 뒤, new 리스트를 출력해보세요."
      ]
    },
    {
      "cell_type": "code",
      "metadata": {
        "colab": {
          "base_uri": "https://localhost:8080/"
        },
        "id": "4ajb-BwUsXdh",
        "outputId": "7c8d4b57-5ced-44eb-897e-4ff2814ad2ae"
      },
      "source": [],
      "execution_count": null,
      "outputs": [
        {
          "output_type": "execute_result",
          "data": {
            "text/plain": [
              "[4, 23, 33, 53, 64, 78, 80, 93]"
            ]
          },
          "metadata": {
            "tags": []
          },
          "execution_count": 13
        }
      ]
    },
    {
      "cell_type": "markdown",
      "metadata": {
        "id": "yWGaS34ADtdc"
      },
      "source": [
        "### 문제6\n",
        "다음과 같이 리스트 color가 있다.\n",
        "> color = ['yellow', 'red', 'blue', 'red', 'green', 'pink', 'yellow']\n",
        "\n",
        "(1) color 리스트 안에 데이터가 몇 개 들어있는지 출력해보세요."
      ]
    },
    {
      "cell_type": "code",
      "metadata": {
        "id": "oJII7gzvDtZc",
        "colab": {
          "base_uri": "https://localhost:8080/"
        },
        "outputId": "b1a7d7b1-5712-4b01-d811-ff85b955451a"
      },
      "source": [
        "color = ['yellow', 'red', 'blue', 'red', 'green', 'pink', 'yellow']\n",
        "\n"
      ],
      "execution_count": null,
      "outputs": [
        {
          "output_type": "execute_result",
          "data": {
            "text/plain": [
              "7"
            ]
          },
          "metadata": {
            "tags": []
          },
          "execution_count": 14
        }
      ]
    },
    {
      "cell_type": "markdown",
      "metadata": {
        "id": "zfvKLxDduD9Z"
      },
      "source": [
        "(2) 'pink' 데이터가 몇 번째 요소에 있는지 출력해보세요."
      ]
    },
    {
      "cell_type": "code",
      "metadata": {
        "colab": {
          "base_uri": "https://localhost:8080/"
        },
        "id": "HyUYbNofuNLF",
        "outputId": "ef1047a4-e711-4017-e0d6-fef5a69193cf"
      },
      "source": [],
      "execution_count": null,
      "outputs": [
        {
          "output_type": "execute_result",
          "data": {
            "text/plain": [
              "5"
            ]
          },
          "metadata": {
            "tags": []
          },
          "execution_count": 17
        }
      ]
    },
    {
      "cell_type": "markdown",
      "metadata": {
        "id": "RQP3r7j9uf2z"
      },
      "source": [
        "(3) 'yellow' 데이터가 리스트 안에 몇 개 있는지 출력해보세요."
      ]
    },
    {
      "cell_type": "code",
      "metadata": {
        "colab": {
          "base_uri": "https://localhost:8080/"
        },
        "id": "eucdE5nbulv8",
        "outputId": "252fdb48-1234-4254-d61c-2ded7ad11edc"
      },
      "source": [],
      "execution_count": null,
      "outputs": [
        {
          "output_type": "execute_result",
          "data": {
            "text/plain": [
              "2"
            ]
          },
          "metadata": {
            "tags": []
          },
          "execution_count": 18
        }
      ]
    },
    {
      "cell_type": "markdown",
      "metadata": {
        "id": "OzijRSIjuo65"
      },
      "source": [
        "(4) 'black' 데이터가 color 리스트 안에 있는지 확인해보세요. (True/False로 출력되도록)"
      ]
    },
    {
      "cell_type": "code",
      "metadata": {
        "colab": {
          "base_uri": "https://localhost:8080/"
        },
        "id": "VOMq1kkxuurT",
        "outputId": "e6facf36-fb4a-48c0-b179-3b9ccca479b6"
      },
      "source": [],
      "execution_count": null,
      "outputs": [
        {
          "output_type": "execute_result",
          "data": {
            "text/plain": [
              "False"
            ]
          },
          "metadata": {
            "tags": []
          },
          "execution_count": 19
        }
      ]
    },
    {
      "cell_type": "markdown",
      "metadata": {
        "id": "YokZT5d-t3NB"
      },
      "source": [
        "## Tuple"
      ]
    },
    {
      "cell_type": "markdown",
      "metadata": {
        "id": "5JpiYGk_M9ZD"
      },
      "source": [
        "### 튜플의 특징"
      ]
    },
    {
      "cell_type": "markdown",
      "metadata": {
        "id": "rvg5zueKt3NB"
      },
      "source": [
        "- 변형 시킬 수 X\n",
        "- 괄호 쓸 필요 X\n",
        "- 여러개를 어떤 괄호를 쓰지않고,  \n",
        "쉼표로 구분하여 하나의 데이터로 반환하면 Tuple이다."
      ]
    },
    {
      "cell_type": "code",
      "metadata": {
        "id": "LYCyI-NTt3NC",
        "colab": {
          "base_uri": "https://localhost:8080/"
        },
        "outputId": "85d7fa00-5c80-4d46-f7eb-62ac72223195",
        "collapsed": true
      },
      "source": [
        "ArbNight = ('알라딘', '자스민', '지니')\n",
        "type(ArbNight)"
      ],
      "execution_count": null,
      "outputs": [
        {
          "output_type": "execute_result",
          "data": {
            "text/plain": [
              "tuple"
            ]
          },
          "metadata": {},
          "execution_count": 64
        }
      ]
    },
    {
      "cell_type": "code",
      "metadata": {
        "id": "a2AMq8wRt3NF",
        "colab": {
          "base_uri": "https://localhost:8080/",
          "height": 166
        },
        "collapsed": true,
        "outputId": "24dda1b0-8056-4df8-d490-5633ca274121"
      },
      "source": [
        "ArbNight.append('sultan')"
      ],
      "execution_count": null,
      "outputs": [
        {
          "output_type": "error",
          "ename": "AttributeError",
          "evalue": "ignored",
          "traceback": [
            "\u001b[0;31m---------------------------------------------------------------------------\u001b[0m",
            "\u001b[0;31mAttributeError\u001b[0m                            Traceback (most recent call last)",
            "\u001b[0;32m<ipython-input-65-248405917232>\u001b[0m in \u001b[0;36m<module>\u001b[0;34m()\u001b[0m\n\u001b[0;32m----> 1\u001b[0;31m \u001b[0mArbNight\u001b[0m\u001b[0;34m.\u001b[0m\u001b[0mappend\u001b[0m\u001b[0;34m(\u001b[0m\u001b[0;34m'sultan'\u001b[0m\u001b[0;34m)\u001b[0m\u001b[0;34m\u001b[0m\u001b[0;34m\u001b[0m\u001b[0m\n\u001b[0m",
            "\u001b[0;31mAttributeError\u001b[0m: 'tuple' object has no attribute 'append'"
          ]
        }
      ]
    },
    {
      "cell_type": "code",
      "metadata": {
        "id": "DACZcrK_t3NF",
        "colab": {
          "base_uri": "https://localhost:8080/"
        },
        "outputId": "b57963a7-82ac-4257-ddf4-2bbf2403e3c4",
        "collapsed": true
      },
      "source": [
        "ArbNight = '알라딘', '자스민', '지니'\n",
        "type(ArbNight)"
      ],
      "execution_count": null,
      "outputs": [
        {
          "output_type": "execute_result",
          "data": {
            "text/plain": [
              "tuple"
            ]
          },
          "metadata": {},
          "execution_count": 66
        }
      ]
    },
    {
      "cell_type": "code",
      "metadata": {
        "id": "LXEX7yCJhZI4",
        "colab": {
          "base_uri": "https://localhost:8080/"
        },
        "outputId": "338285fa-aa98-4135-8322-8b819d4e5806",
        "collapsed": true
      },
      "source": [
        "ArbNight"
      ],
      "execution_count": null,
      "outputs": [
        {
          "output_type": "execute_result",
          "data": {
            "text/plain": [
              "('알라딘', '자스민', '지니')"
            ]
          },
          "metadata": {},
          "execution_count": 67
        }
      ]
    },
    {
      "cell_type": "code",
      "metadata": {
        "id": "fhNvOGbkJUU6",
        "colab": {
          "base_uri": "https://localhost:8080/",
          "height": 35
        },
        "outputId": "9f90c96e-5a7b-4ee5-c402-fa559c034f76",
        "collapsed": true
      },
      "source": [
        "ArbNight[0]"
      ],
      "execution_count": null,
      "outputs": [
        {
          "output_type": "execute_result",
          "data": {
            "text/plain": [
              "'알라딘'"
            ],
            "application/vnd.google.colaboratory.intrinsic+json": {
              "type": "string"
            }
          },
          "metadata": {},
          "execution_count": 68
        }
      ]
    },
    {
      "cell_type": "code",
      "metadata": {
        "id": "V-WH5vbrMky7",
        "colab": {
          "base_uri": "https://localhost:8080/"
        },
        "outputId": "52200c63-ff0d-4c51-d151-7b468db90ede",
        "collapsed": true
      },
      "source": [
        "ArbNight[:2]"
      ],
      "execution_count": null,
      "outputs": [
        {
          "output_type": "execute_result",
          "data": {
            "text/plain": [
              "('알라딘', '자스민')"
            ]
          },
          "metadata": {},
          "execution_count": 69
        }
      ]
    },
    {
      "cell_type": "code",
      "metadata": {
        "id": "uYqDJRRaKF48",
        "colab": {
          "base_uri": "https://localhost:8080/"
        },
        "outputId": "e8bdea1c-ee31-4b82-a903-aeaf3536574a",
        "collapsed": true
      },
      "source": [
        "Hero = ['아이언맨', '블랙팬서', '블랙위도우']\n",
        "Hero[0] = '앤트맨'\n",
        "Hero"
      ],
      "execution_count": null,
      "outputs": [
        {
          "output_type": "execute_result",
          "data": {
            "text/plain": [
              "['앤트맨', '블랙팬서', '블랙위도우']"
            ]
          },
          "metadata": {},
          "execution_count": 70
        }
      ]
    },
    {
      "cell_type": "markdown",
      "metadata": {
        "id": "l2H36Na1KiTl"
      },
      "source": [
        "리스트는 데이터를 변형할 수 있다.  \n",
        "하지만, 튜플은 불가하다."
      ]
    },
    {
      "cell_type": "code",
      "metadata": {
        "id": "_QHKoIJTJ9V1",
        "colab": {
          "base_uri": "https://localhost:8080/",
          "height": 184
        },
        "collapsed": true,
        "outputId": "73277703-cde7-4165-9ffe-c9674e6c27f5"
      },
      "source": [
        "ArbNight[0] = '아부' #TypeError: 'tuple' object does not support item assignment\n",
        "ArbNight"
      ],
      "execution_count": null,
      "outputs": [
        {
          "output_type": "error",
          "ename": "TypeError",
          "evalue": "ignored",
          "traceback": [
            "\u001b[0;31m---------------------------------------------------------------------------\u001b[0m",
            "\u001b[0;31mTypeError\u001b[0m                                 Traceback (most recent call last)",
            "\u001b[0;32m<ipython-input-71-d41e07692dea>\u001b[0m in \u001b[0;36m<module>\u001b[0;34m()\u001b[0m\n\u001b[0;32m----> 1\u001b[0;31m \u001b[0mArbNight\u001b[0m\u001b[0;34m[\u001b[0m\u001b[0;36m0\u001b[0m\u001b[0;34m]\u001b[0m \u001b[0;34m=\u001b[0m \u001b[0;34m'아부'\u001b[0m \u001b[0;31m#TypeError: 'tuple' object does not support item assignment\u001b[0m\u001b[0;34m\u001b[0m\u001b[0;34m\u001b[0m\u001b[0m\n\u001b[0m\u001b[1;32m      2\u001b[0m \u001b[0mArbNight\u001b[0m\u001b[0;34m\u001b[0m\u001b[0;34m\u001b[0m\u001b[0m\n",
            "\u001b[0;31mTypeError\u001b[0m: 'tuple' object does not support item assignment"
          ]
        }
      ]
    },
    {
      "cell_type": "markdown",
      "metadata": {
        "id": "GroqAPd0LN0z"
      },
      "source": [
        "리스트에 사용하던 데이터 추가/삭제 기능을 모두 사용할 수 없다."
      ]
    },
    {
      "cell_type": "code",
      "metadata": {
        "id": "1I0RBWTxKfhl",
        "colab": {
          "base_uri": "https://localhost:8080/",
          "height": 236
        },
        "collapsed": true,
        "outputId": "edc4efd9-4dd3-45d1-c22e-2b914dd3a4bd"
      },
      "source": [
        "ArbNight.append('아부') #AttributeError: 'tuple' object has no attribute 'append'\n",
        "ArbNight.insert(1, '아부')\n",
        "ArbNight.extend(['아부'])\n",
        "ArbNight.remove('알라딘')\n",
        "ArbNight.pop()\n",
        "ArbNight.clear()\n",
        "del ArbNight[-1]\n",
        "ArbNight"
      ],
      "execution_count": null,
      "outputs": [
        {
          "output_type": "error",
          "ename": "AttributeError",
          "evalue": "ignored",
          "traceback": [
            "\u001b[0;31m---------------------------------------------------------------------------\u001b[0m",
            "\u001b[0;31mAttributeError\u001b[0m                            Traceback (most recent call last)",
            "\u001b[0;32m<ipython-input-72-5ebcfeed8b31>\u001b[0m in \u001b[0;36m<module>\u001b[0;34m()\u001b[0m\n\u001b[0;32m----> 1\u001b[0;31m \u001b[0mArbNight\u001b[0m\u001b[0;34m.\u001b[0m\u001b[0mappend\u001b[0m\u001b[0;34m(\u001b[0m\u001b[0;34m'아부'\u001b[0m\u001b[0;34m)\u001b[0m \u001b[0;31m#AttributeError: 'tuple' object has no attribute 'append'\u001b[0m\u001b[0;34m\u001b[0m\u001b[0;34m\u001b[0m\u001b[0m\n\u001b[0m\u001b[1;32m      2\u001b[0m \u001b[0mArbNight\u001b[0m\u001b[0;34m.\u001b[0m\u001b[0minsert\u001b[0m\u001b[0;34m(\u001b[0m\u001b[0;36m1\u001b[0m\u001b[0;34m,\u001b[0m \u001b[0;34m'아부'\u001b[0m\u001b[0;34m)\u001b[0m\u001b[0;34m\u001b[0m\u001b[0;34m\u001b[0m\u001b[0m\n\u001b[1;32m      3\u001b[0m \u001b[0mArbNight\u001b[0m\u001b[0;34m.\u001b[0m\u001b[0mextend\u001b[0m\u001b[0;34m(\u001b[0m\u001b[0;34m[\u001b[0m\u001b[0;34m'아부'\u001b[0m\u001b[0;34m]\u001b[0m\u001b[0;34m)\u001b[0m\u001b[0;34m\u001b[0m\u001b[0;34m\u001b[0m\u001b[0m\n\u001b[1;32m      4\u001b[0m \u001b[0mArbNight\u001b[0m\u001b[0;34m.\u001b[0m\u001b[0mremove\u001b[0m\u001b[0;34m(\u001b[0m\u001b[0;34m'알라딘'\u001b[0m\u001b[0;34m)\u001b[0m\u001b[0;34m\u001b[0m\u001b[0;34m\u001b[0m\u001b[0m\n\u001b[1;32m      5\u001b[0m \u001b[0mArbNight\u001b[0m\u001b[0;34m.\u001b[0m\u001b[0mpop\u001b[0m\u001b[0;34m(\u001b[0m\u001b[0;34m)\u001b[0m\u001b[0;34m\u001b[0m\u001b[0;34m\u001b[0m\u001b[0m\n",
            "\u001b[0;31mAttributeError\u001b[0m: 'tuple' object has no attribute 'append'"
          ]
        }
      ]
    },
    {
      "cell_type": "markdown",
      "metadata": {
        "id": "kTCTpP0TLz_k"
      },
      "source": [
        "튜플에 데이터를 추가하고 싶다면?"
      ]
    },
    {
      "cell_type": "code",
      "metadata": {
        "id": "63zD7bAeL34w",
        "colab": {
          "base_uri": "https://localhost:8080/"
        },
        "outputId": "3c40b5e4-c8ac-4fb6-cefa-536f8e613649",
        "collapsed": true
      },
      "source": [
        "ArbNight = ArbNight + ('아부', '자파') # 덧셈과 extend의 의미적 차이를 생각해보세요.\n",
        "ArbNight"
      ],
      "execution_count": null,
      "outputs": [
        {
          "output_type": "execute_result",
          "data": {
            "text/plain": [
              "('알라딘', '자스민', '지니', '아부', '자파')"
            ]
          },
          "metadata": {},
          "execution_count": 73
        }
      ]
    },
    {
      "cell_type": "markdown",
      "metadata": {
        "id": "c9z0hgQEMFUV"
      },
      "source": [
        "튜플의 데이터 변경, 삭제는 불가"
      ]
    },
    {
      "cell_type": "markdown",
      "metadata": {
        "id": "fVyvQU-QMqk3"
      },
      "source": [
        "이외의 다른 기능들은 리스트에서 사용하던 것들 그대로 사용할 수 있다.  \n",
        "한번 되는 것과 안되는 것을 직접 시도해보고 숙지하자."
      ]
    },
    {
      "cell_type": "markdown",
      "metadata": {
        "id": "EZT1hE2nwq3Y"
      },
      "source": [
        "튜플을 다루는 일은 거의 없다.  \n",
        "리스트 <-> 튜플 형변환이 가능하기 때문이다."
      ]
    },
    {
      "cell_type": "code",
      "metadata": {
        "colab": {
          "base_uri": "https://localhost:8080/"
        },
        "id": "VyB6IDszwyLj",
        "outputId": "3dfe5b7b-3ccb-41d6-cf6c-db431d02e292",
        "collapsed": true
      },
      "source": [
        "ArbNight = list(ArbNight)\n",
        "ArbNight"
      ],
      "execution_count": null,
      "outputs": [
        {
          "output_type": "execute_result",
          "data": {
            "text/plain": [
              "['알라딘', '자스민', '지니', '아부', '자파']"
            ]
          },
          "metadata": {},
          "execution_count": 74
        }
      ]
    },
    {
      "cell_type": "code",
      "source": [
        "ArbNight = tuple(ArbNight)\n",
        "ArbNight"
      ],
      "metadata": {
        "colab": {
          "base_uri": "https://localhost:8080/"
        },
        "id": "-D4FBSAHcIc6",
        "outputId": "fc7a2a54-43ef-4417-f829-17e7e2a09d1f",
        "collapsed": true
      },
      "execution_count": null,
      "outputs": [
        {
          "output_type": "execute_result",
          "data": {
            "text/plain": [
              "('알라딘', '자스민', '지니', '아부', '자파')"
            ]
          },
          "metadata": {},
          "execution_count": 75
        }
      ]
    },
    {
      "cell_type": "code",
      "source": [
        "# 직접 해보세요.\n",
        "netflix = '지옥', '지금 우리 학교는', '오징어게임'\n",
        "netflix"
      ],
      "metadata": {
        "colab": {
          "base_uri": "https://localhost:8080/"
        },
        "id": "xVG6HuWBptCS",
        "outputId": "310d49a7-43dc-4dd9-c64a-ece67a3b57c9",
        "collapsed": true
      },
      "execution_count": null,
      "outputs": [
        {
          "output_type": "execute_result",
          "data": {
            "text/plain": [
              "('지옥', '지금 우리 학교는', '오징어게임')"
            ]
          },
          "metadata": {},
          "execution_count": 76
        }
      ]
    },
    {
      "cell_type": "code",
      "source": [
        "# netflix에 원하는 드라마 두 개 추가해보세요.\n",
        "# 1 덧셈 이용\n",
        "\n"
      ],
      "metadata": {
        "id": "mamc8Twx09eU"
      },
      "execution_count": null,
      "outputs": []
    },
    {
      "cell_type": "code",
      "source": [
        "# netflix에 원하는 드라마 두 개 추가해보세요.\n",
        "# 2 리스트 형변환 이용\n"
      ],
      "metadata": {
        "id": "-UtCXGs4p6GO"
      },
      "execution_count": null,
      "outputs": []
    },
    {
      "cell_type": "code",
      "metadata": {
        "colab": {
          "base_uri": "https://localhost:8080/"
        },
        "id": "i-ZMvsI9TrIN",
        "outputId": "69b95274-44d4-4d2a-f87d-c50b36e2a9ce",
        "collapsed": true
      },
      "source": [
        "a = 1, 2\n",
        "a, type(a)"
      ],
      "execution_count": null,
      "outputs": [
        {
          "output_type": "execute_result",
          "data": {
            "text/plain": [
              "((1, 2), tuple)"
            ]
          },
          "metadata": {},
          "execution_count": 80
        }
      ]
    },
    {
      "cell_type": "code",
      "metadata": {
        "colab": {
          "base_uri": "https://localhost:8080/"
        },
        "id": "eDwEMP8HTvFv",
        "outputId": "15e9cee5-5f08-4fc5-abf1-a457eb31c20f",
        "collapsed": true
      },
      "source": [
        "a, b, c = 1, 2, 3\n",
        "a, b, c, type(a)"
      ],
      "execution_count": null,
      "outputs": [
        {
          "output_type": "execute_result",
          "data": {
            "text/plain": [
              "(1, 2, 3, int)"
            ]
          },
          "metadata": {},
          "execution_count": 81
        }
      ]
    },
    {
      "cell_type": "code",
      "source": [],
      "metadata": {
        "id": "AKeIl2VSSdPv"
      },
      "execution_count": null,
      "outputs": []
    },
    {
      "cell_type": "markdown",
      "metadata": {
        "id": "3rYz0xB7DtU_"
      },
      "source": [
        "### 문제7\n",
        "다음과 같이 리스트 nation이 있다.\n",
        "> nation = ['Korea', 'Japan', 'China']\n",
        "\n",
        "(1) nation 리스트를 튜플 자료형으로 바꾼 뒤 출력해보세요."
      ]
    },
    {
      "cell_type": "code",
      "metadata": {
        "id": "bIlGKUb2DtQ1",
        "colab": {
          "base_uri": "https://localhost:8080/"
        },
        "outputId": "1cf01972-1755-43c2-f1b1-bb94ef2804ec"
      },
      "source": [
        "nation = ['Korea', 'Japan', 'China']\n",
        "\n"
      ],
      "execution_count": null,
      "outputs": [
        {
          "output_type": "execute_result",
          "data": {
            "text/plain": [
              "('Korea', 'Japan', 'China')"
            ]
          },
          "metadata": {
            "tags": []
          },
          "execution_count": 21
        }
      ]
    },
    {
      "cell_type": "markdown",
      "metadata": {
        "id": "3B_oFYlMvGFn"
      },
      "source": [
        "(2) nation에서 'Japan'을 인덱싱 해서 출력해보세요."
      ]
    },
    {
      "cell_type": "code",
      "metadata": {
        "colab": {
          "base_uri": "https://localhost:8080/",
          "height": 35
        },
        "id": "UCdLe-s6vMD0",
        "outputId": "a9950029-f3b5-4b01-ab75-42baceb540d8"
      },
      "source": [],
      "execution_count": null,
      "outputs": [
        {
          "output_type": "execute_result",
          "data": {
            "application/vnd.google.colaboratory.intrinsic+json": {
              "type": "string"
            },
            "text/plain": [
              "'Japan'"
            ]
          },
          "metadata": {
            "tags": []
          },
          "execution_count": 22
        }
      ]
    },
    {
      "cell_type": "markdown",
      "metadata": {
        "id": "q79vY0kvvOdo"
      },
      "source": [
        "(3) nation에 'Italy', 'France'를 추가한 뒤, nation을 출력해보세요."
      ]
    },
    {
      "cell_type": "code",
      "metadata": {
        "colab": {
          "base_uri": "https://localhost:8080/"
        },
        "id": "c-DofOiBvOFQ",
        "outputId": "6b63e46d-8776-4120-b1e0-8fa5ca2ab020"
      },
      "source": [],
      "execution_count": null,
      "outputs": [
        {
          "output_type": "execute_result",
          "data": {
            "text/plain": [
              "('Korea', 'Japan', 'China', 'Italy', 'France')"
            ]
          },
          "metadata": {
            "tags": []
          },
          "execution_count": 23
        }
      ]
    },
    {
      "cell_type": "markdown",
      "metadata": {
        "id": "ktgBZPaFD6uF"
      },
      "source": [
        "(4) nation에서 'China'를 삭제해보세요. 삭제가 가능한가요-?"
      ]
    },
    {
      "cell_type": "code",
      "metadata": {
        "id": "hXdcGwSPDtMt"
      },
      "source": [
        "# nation.remove('China')\n",
        "# nation.pop(2)\n",
        "# del nation[2]  "
      ],
      "execution_count": null,
      "outputs": []
    },
    {
      "cell_type": "markdown",
      "metadata": {
        "id": "HQ1Bn3wDt3NQ"
      },
      "source": [
        "## Set(집합)"
      ]
    },
    {
      "cell_type": "markdown",
      "metadata": {
        "id": "yZSxqJJrltG5"
      },
      "source": [
        "### Set의 특징"
      ]
    },
    {
      "cell_type": "markdown",
      "metadata": {
        "id": "9FxCV0Blt3NR"
      },
      "source": [
        "- 중복을 제거 (중복허용X)\n",
        "- 순서 X (인덱싱 할 수 X)"
      ]
    },
    {
      "cell_type": "code",
      "metadata": {
        "id": "aS-feSutt3NS",
        "colab": {
          "base_uri": "https://localhost:8080/"
        },
        "outputId": "73e19e8f-826c-4227-959a-f01cabb50ccd",
        "collapsed": true
      },
      "source": [
        "Company = ['네이버', '다음카카오', '삼성', 'LG', '네이버', '삼성']\n",
        "len(Company)"
      ],
      "execution_count": null,
      "outputs": [
        {
          "output_type": "execute_result",
          "data": {
            "text/plain": [
              "6"
            ]
          },
          "metadata": {},
          "execution_count": 82
        }
      ]
    },
    {
      "cell_type": "markdown",
      "metadata": {
        "id": "uekoia4wYtXt"
      },
      "source": [
        "리스트 안에 서로 다른 데이터가 총 몇개가 있을까?"
      ]
    },
    {
      "cell_type": "code",
      "metadata": {
        "id": "3DqMIJOBZNl4",
        "colab": {
          "base_uri": "https://localhost:8080/"
        },
        "outputId": "faea90ae-21db-40d2-deb9-7ac0a4549425",
        "collapsed": true
      },
      "source": [
        "Company = set(Company)\n",
        "Company"
      ],
      "execution_count": null,
      "outputs": [
        {
          "output_type": "execute_result",
          "data": {
            "text/plain": [
              "{'LG', '네이버', '다음카카오', '삼성'}"
            ]
          },
          "metadata": {},
          "execution_count": 83
        }
      ]
    },
    {
      "cell_type": "code",
      "metadata": {
        "id": "LD9bB3H5ZTyy",
        "colab": {
          "base_uri": "https://localhost:8080/"
        },
        "outputId": "fb496803-ea8b-4c0d-ca64-713f88f63d1f",
        "collapsed": true
      },
      "source": [
        "len(Company)"
      ],
      "execution_count": null,
      "outputs": [
        {
          "output_type": "execute_result",
          "data": {
            "text/plain": [
              "4"
            ]
          },
          "metadata": {},
          "execution_count": 84
        }
      ]
    },
    {
      "cell_type": "code",
      "metadata": {
        "id": "7kHZ6l40YhEC",
        "colab": {
          "base_uri": "https://localhost:8080/",
          "height": 166
        },
        "collapsed": true,
        "outputId": "ec37b8ec-35cb-4947-cacc-28acc35eeb2e"
      },
      "source": [
        "Company[0] # TypeError: 'set' object is not subscriptable"
      ],
      "execution_count": null,
      "outputs": [
        {
          "output_type": "error",
          "ename": "TypeError",
          "evalue": "ignored",
          "traceback": [
            "\u001b[0;31m---------------------------------------------------------------------------\u001b[0m",
            "\u001b[0;31mTypeError\u001b[0m                                 Traceback (most recent call last)",
            "\u001b[0;32m<ipython-input-85-d399f5fb30c4>\u001b[0m in \u001b[0;36m<module>\u001b[0;34m()\u001b[0m\n\u001b[0;32m----> 1\u001b[0;31m \u001b[0mCompany\u001b[0m\u001b[0;34m[\u001b[0m\u001b[0;36m0\u001b[0m\u001b[0;34m]\u001b[0m \u001b[0;31m# TypeError: 'set' object is not subscriptable\u001b[0m\u001b[0;34m\u001b[0m\u001b[0;34m\u001b[0m\u001b[0m\n\u001b[0m",
            "\u001b[0;31mTypeError\u001b[0m: 'set' object is not subscriptable"
          ]
        }
      ]
    },
    {
      "cell_type": "markdown",
      "metadata": {
        "id": "sm2T8BnmZgwo"
      },
      "source": [
        "리스트 안에 중복된 데이터가 들어가있을 경우, 중복제거하고 싶을 때 이렇게 한다."
      ]
    },
    {
      "cell_type": "code",
      "metadata": {
        "id": "yGVhLjJvt3NU",
        "colab": {
          "base_uri": "https://localhost:8080/"
        },
        "outputId": "75edc9d1-8c46-4701-ca27-bff42b5e28cf",
        "collapsed": true
      },
      "source": [
        "Company = ['네이버', '다음카카오', '삼성', 'LG', '네이버', '삼성', 'SK', 'SK', 'LG', '네이버', '롯데']\n",
        "Company = list(set(Company))\n",
        "Company"
      ],
      "execution_count": null,
      "outputs": [
        {
          "output_type": "execute_result",
          "data": {
            "text/plain": [
              "['롯데', 'LG', '네이버', '삼성', 'SK', '다음카카오']"
            ]
          },
          "metadata": {},
          "execution_count": 86
        }
      ]
    },
    {
      "cell_type": "markdown",
      "metadata": {
        "id": "-g-83s8ht3Nc"
      },
      "source": [
        "### set 변환하기"
      ]
    },
    {
      "cell_type": "markdown",
      "metadata": {
        "id": "sh2GO6rOt3Nd"
      },
      "source": [
        "1) 추가하기  \n",
        "- add : 1개  \n",
        "- update : 여러개\n",
        "\n",
        "2) 삭제하기  \n",
        "- remove : 1개/없는 걸 없애라고하면 key error  \n",
        "- discard : 1개/없는 걸 없애라고해도 에러 X"
      ]
    },
    {
      "cell_type": "code",
      "metadata": {
        "id": "EiC1e-Kat3Ne",
        "colab": {
          "base_uri": "https://localhost:8080/"
        },
        "outputId": "88c2fa73-f5cd-40e8-cceb-f5b9feabd870",
        "collapsed": true
      },
      "source": [
        "Company = {'삼성', '다음카카오', '네이버', 'LG', '롯데', 'SK'}\n",
        "Company.add('현대')\n",
        "Company\n",
        "type(Company)"
      ],
      "execution_count": null,
      "outputs": [
        {
          "output_type": "execute_result",
          "data": {
            "text/plain": [
              "set"
            ]
          },
          "metadata": {},
          "execution_count": 87
        }
      ]
    },
    {
      "cell_type": "code",
      "metadata": {
        "id": "rRFixpjmt3Nf",
        "colab": {
          "base_uri": "https://localhost:8080/"
        },
        "outputId": "4707c3dd-4e90-446b-a87e-2d43dc329af3",
        "collapsed": true
      },
      "source": [
        "Company.update(['포스코', 'GS']) #추가 리스트로 묶어서\n",
        "Company"
      ],
      "execution_count": null,
      "outputs": [
        {
          "output_type": "execute_result",
          "data": {
            "text/plain": [
              "{'GS', 'LG', 'SK', '네이버', '다음카카오', '롯데', '삼성', '포스코', '현대'}"
            ]
          },
          "metadata": {},
          "execution_count": 88
        }
      ]
    },
    {
      "cell_type": "code",
      "metadata": {
        "id": "AUAS797rt3Nz",
        "colab": {
          "base_uri": "https://localhost:8080/"
        },
        "outputId": "8e67d283-2529-4a2e-a447-6f5be8e648af",
        "collapsed": true
      },
      "source": [
        "Company.remove('롯데')\n",
        "Company"
      ],
      "execution_count": null,
      "outputs": [
        {
          "output_type": "execute_result",
          "data": {
            "text/plain": [
              "{'GS', 'LG', 'SK', '네이버', '다음카카오', '삼성', '포스코', '현대'}"
            ]
          },
          "metadata": {},
          "execution_count": 89
        }
      ]
    },
    {
      "cell_type": "code",
      "metadata": {
        "id": "4vml-U4za7W7",
        "colab": {
          "base_uri": "https://localhost:8080/",
          "height": 184
        },
        "collapsed": true,
        "outputId": "d635e725-7e9a-4037-fada-e5c51caaf2bf"
      },
      "source": [
        "Company.remove('롯데') #KeyError: '롯데'\n",
        "Company"
      ],
      "execution_count": null,
      "outputs": [
        {
          "output_type": "error",
          "ename": "KeyError",
          "evalue": "ignored",
          "traceback": [
            "\u001b[0;31m---------------------------------------------------------------------------\u001b[0m",
            "\u001b[0;31mKeyError\u001b[0m                                  Traceback (most recent call last)",
            "\u001b[0;32m<ipython-input-90-51587ecb5dfe>\u001b[0m in \u001b[0;36m<module>\u001b[0;34m()\u001b[0m\n\u001b[0;32m----> 1\u001b[0;31m \u001b[0mCompany\u001b[0m\u001b[0;34m.\u001b[0m\u001b[0mremove\u001b[0m\u001b[0;34m(\u001b[0m\u001b[0;34m'롯데'\u001b[0m\u001b[0;34m)\u001b[0m \u001b[0;31m#KeyError: '롯데'\u001b[0m\u001b[0;34m\u001b[0m\u001b[0;34m\u001b[0m\u001b[0m\n\u001b[0m\u001b[1;32m      2\u001b[0m \u001b[0mCompany\u001b[0m\u001b[0;34m\u001b[0m\u001b[0;34m\u001b[0m\u001b[0m\n",
            "\u001b[0;31mKeyError\u001b[0m: '롯데'"
          ]
        }
      ]
    },
    {
      "cell_type": "code",
      "metadata": {
        "id": "r8WCx1DUbCuc",
        "colab": {
          "base_uri": "https://localhost:8080/"
        },
        "outputId": "2878f1c8-c80e-4a8e-ce4c-6ae0b2d16830",
        "collapsed": true
      },
      "source": [
        "Company.discard('포스코')\n",
        "Company"
      ],
      "execution_count": null,
      "outputs": [
        {
          "output_type": "execute_result",
          "data": {
            "text/plain": [
              "{'GS', 'LG', 'SK', '네이버', '다음카카오', '삼성', '현대'}"
            ]
          },
          "metadata": {},
          "execution_count": 91
        }
      ]
    },
    {
      "cell_type": "code",
      "metadata": {
        "id": "sE7WV41obK3u",
        "colab": {
          "base_uri": "https://localhost:8080/"
        },
        "outputId": "c99360cd-abd9-48d1-8254-955ab6b1cd39",
        "collapsed": true
      },
      "source": [
        "Company.discard('포스코')\n",
        "Company"
      ],
      "execution_count": null,
      "outputs": [
        {
          "output_type": "execute_result",
          "data": {
            "text/plain": [
              "{'GS', 'LG', 'SK', '네이버', '다음카카오', '삼성', '현대'}"
            ]
          },
          "metadata": {},
          "execution_count": 92
        }
      ]
    },
    {
      "cell_type": "code",
      "metadata": {
        "id": "_t1Ud1-qbNvu",
        "colab": {
          "base_uri": "https://localhost:8080/"
        },
        "outputId": "ae809343-9e90-43f2-e0af-7d99f3623fb2",
        "collapsed": true
      },
      "source": [
        "Company.discard('포스코')\n",
        "Company"
      ],
      "execution_count": null,
      "outputs": [
        {
          "output_type": "execute_result",
          "data": {
            "text/plain": [
              "{'GS', 'LG', 'SK', '네이버', '다음카카오', '삼성', '현대'}"
            ]
          },
          "metadata": {},
          "execution_count": 93
        }
      ]
    },
    {
      "cell_type": "markdown",
      "metadata": {
        "id": "aX5uZ-bGt3N2"
      },
      "source": [
        "### 집합연산"
      ]
    },
    {
      "cell_type": "code",
      "source": [
        "hero = ['아이언맨', '블랙위도우', '캡틴아메리카']\n",
        "avengers = ['토르', '헐크', '아이언맨', '캡틴아메리카']\n",
        "\n",
        "set(hero + avengers)"
      ],
      "metadata": {
        "colab": {
          "base_uri": "https://localhost:8080/"
        },
        "collapsed": true,
        "id": "5Mi3X5XlgbOo",
        "outputId": "d1a84a7d-2dd5-4190-e248-1aeadd02fd10"
      },
      "execution_count": null,
      "outputs": [
        {
          "output_type": "execute_result",
          "data": {
            "text/plain": [
              "{'블랙위도우', '아이언맨', '캡틴아메리카', '토르', '헐크'}"
            ]
          },
          "metadata": {},
          "execution_count": 94
        }
      ]
    },
    {
      "cell_type": "code",
      "metadata": {
        "id": "UW77lSPJt3N3"
      },
      "source": [
        "movie1 = {'ones', 'avengers', 'aladin'}\n",
        "movie2 = {'avengers', 'aladin', 'toystory'}"
      ],
      "execution_count": null,
      "outputs": []
    },
    {
      "cell_type": "code",
      "metadata": {
        "id": "QJYrrRBBt3N4",
        "colab": {
          "base_uri": "https://localhost:8080/"
        },
        "outputId": "63782dbd-4e2d-4943-9bfc-e89a9f1b18f0",
        "collapsed": true
      },
      "source": [
        "#합집합(또는)\n",
        "movie1 | movie2 #movie1.union(movie2)"
      ],
      "execution_count": null,
      "outputs": [
        {
          "output_type": "execute_result",
          "data": {
            "text/plain": [
              "{'aladin', 'avengers', 'ones', 'toystory'}"
            ]
          },
          "metadata": {},
          "execution_count": 97
        }
      ]
    },
    {
      "cell_type": "code",
      "metadata": {
        "id": "1kGkU6IVt3N6",
        "colab": {
          "base_uri": "https://localhost:8080/"
        },
        "outputId": "ce404c90-566a-4857-c0f6-e3828fe54bda",
        "collapsed": true
      },
      "source": [
        "#교집합\n",
        "movie1 & movie2 #movie1.intersection(movie2)"
      ],
      "execution_count": null,
      "outputs": [
        {
          "output_type": "execute_result",
          "data": {
            "text/plain": [
              "{'aladin', 'avengers'}"
            ]
          },
          "metadata": {},
          "execution_count": 98
        }
      ]
    },
    {
      "cell_type": "code",
      "metadata": {
        "id": "9Sk4O4U2t3OA",
        "colab": {
          "base_uri": "https://localhost:8080/"
        },
        "outputId": "203338e6-15b7-4a33-c6be-60886c64d6d5",
        "collapsed": true
      },
      "source": [
        "#차집합\n",
        "movie1 - movie2 #movie1.difference(movie2)"
      ],
      "execution_count": null,
      "outputs": [
        {
          "output_type": "execute_result",
          "data": {
            "text/plain": [
              "{'ones'}"
            ]
          },
          "metadata": {},
          "execution_count": 99
        }
      ]
    },
    {
      "cell_type": "code",
      "metadata": {
        "id": "5r7UepSYt3OC",
        "colab": {
          "base_uri": "https://localhost:8080/"
        },
        "outputId": "1865efe9-055e-44e1-96f9-91acab5a81a9",
        "collapsed": true
      },
      "source": [
        "#대칭차집합\n",
        "movie1^movie2"
      ],
      "execution_count": null,
      "outputs": [
        {
          "output_type": "execute_result",
          "data": {
            "text/plain": [
              "{'ones', 'toystory'}"
            ]
          },
          "metadata": {},
          "execution_count": 100
        }
      ]
    },
    {
      "cell_type": "code",
      "source": [],
      "metadata": {
        "id": "J87sXuOoSfLg"
      },
      "execution_count": null,
      "outputs": []
    },
    {
      "cell_type": "markdown",
      "metadata": {
        "id": "6unhGgjNDtIk"
      },
      "source": [
        "### 문제8\n",
        "다음과 같이 리스트 fruit이 있습니다.\n",
        "> fruit = ['사과', '바나나', '레몬', '사과', '체리', '바나나']\n",
        "\n",
        "(1) fruit 리스트를 set으로 변환하여 새로운 변수 'fruit_set'에 저장한 뒤 이를 출력해보세요."
      ]
    },
    {
      "cell_type": "code",
      "metadata": {
        "id": "CetTHwf7DtEM",
        "colab": {
          "base_uri": "https://localhost:8080/"
        },
        "outputId": "30aa2a89-37de-4d6c-ae30-6a4f5e0c9063"
      },
      "source": [
        "fruit = ['사과', '바나나', '레몬', '사과', '체리', '바나나']\n",
        "\n"
      ],
      "execution_count": null,
      "outputs": [
        {
          "output_type": "execute_result",
          "data": {
            "text/plain": [
              "{'레몬', '바나나', '사과', '체리'}"
            ]
          },
          "metadata": {
            "tags": []
          },
          "execution_count": 24
        }
      ]
    },
    {
      "cell_type": "markdown",
      "metadata": {
        "id": "ooQVtvzLxOSd"
      },
      "source": [
        "(2) fruit_set에  '망고'를 추가한 뒤, 출력해보세요. (추가된 위치도 확인해보세요~)"
      ]
    },
    {
      "cell_type": "code",
      "metadata": {
        "colab": {
          "base_uri": "https://localhost:8080/"
        },
        "id": "uR2IoV0GxV1n",
        "outputId": "0f5fcc57-027f-4f4f-cf85-79fe8011af0b"
      },
      "source": [],
      "execution_count": null,
      "outputs": [
        {
          "output_type": "execute_result",
          "data": {
            "text/plain": [
              "{'레몬', '망고', '바나나', '사과', '체리'}"
            ]
          },
          "metadata": {
            "tags": []
          },
          "execution_count": 25
        }
      ]
    },
    {
      "cell_type": "markdown",
      "metadata": {
        "id": "3sP6g6Pkxn4H"
      },
      "source": [
        "(3) fruit_set에 '딸기', '블루베리'를 한 번에 추가한 뒤, 출력해보세요."
      ]
    },
    {
      "cell_type": "code",
      "metadata": {
        "colab": {
          "base_uri": "https://localhost:8080/"
        },
        "id": "_J4o6DOUxzc7",
        "outputId": "2a9bf3a6-0390-4542-9bc5-5860b767064e"
      },
      "source": [],
      "execution_count": null,
      "outputs": [
        {
          "output_type": "execute_result",
          "data": {
            "text/plain": [
              "{'딸기', '레몬', '망고', '바나나', '블루베리', '사과', '체리'}"
            ]
          },
          "metadata": {
            "tags": []
          },
          "execution_count": 26
        }
      ]
    },
    {
      "cell_type": "markdown",
      "metadata": {
        "id": "JMi6XaH7x8sM"
      },
      "source": [
        "(4) fruit_set에 '사과'를 삭제한 뒤, 출력해보세요."
      ]
    },
    {
      "cell_type": "code",
      "metadata": {
        "colab": {
          "base_uri": "https://localhost:8080/"
        },
        "id": "L9LfaG8Gx8Mt",
        "outputId": "7aa554a0-3e02-4054-e93b-8b0f240c1350"
      },
      "source": [],
      "execution_count": null,
      "outputs": [
        {
          "output_type": "execute_result",
          "data": {
            "text/plain": [
              "{'딸기', '레몬', '망고', '바나나', '블루베리', '체리'}"
            ]
          },
          "metadata": {
            "tags": []
          },
          "execution_count": 27
        }
      ]
    },
    {
      "cell_type": "markdown",
      "metadata": {
        "id": "AaG3uXrzx7ki"
      },
      "source": [
        "(5) fruit_set에 '수박'이 있다면 삭제하세요"
      ]
    },
    {
      "cell_type": "code",
      "metadata": {
        "colab": {
          "base_uri": "https://localhost:8080/"
        },
        "id": "UZnw8GAvyNF8",
        "outputId": "4c880864-051d-4ce0-bbf8-78c84239cce6"
      },
      "source": [],
      "execution_count": null,
      "outputs": [
        {
          "output_type": "execute_result",
          "data": {
            "text/plain": [
              "{'딸기', '레몬', '망고', '블루베리', '체리'}"
            ]
          },
          "metadata": {
            "tags": []
          },
          "execution_count": 28
        }
      ]
    },
    {
      "cell_type": "markdown",
      "metadata": {
        "id": "6i4x2Ry2t3OE"
      },
      "source": [
        "## Dictionary(사전)"
      ]
    },
    {
      "cell_type": "markdown",
      "metadata": {
        "id": "agAYEHjzl2qj"
      },
      "source": [
        "### 딕셔너리의 특징"
      ]
    },
    {
      "cell_type": "markdown",
      "metadata": {
        "id": "BczvPLi4t3OF"
      },
      "source": [
        "- 순서 X\n",
        "- key와 value의 쌍으로 이루어져 있음"
      ]
    },
    {
      "cell_type": "code",
      "metadata": {
        "id": "2L9GE2FTypLz",
        "colab": {
          "base_uri": "https://localhost:8080/"
        },
        "outputId": "a17100f3-c8ec-4e30-cb45-341992b83afa",
        "collapsed": true
      },
      "source": [
        "#리스트\n",
        "l = ['사과', '오렌지', '귤']\n",
        "#튜플\n",
        "t = ('사과', '오렌지', '귤')\n",
        "#셋\n",
        "s = {'사과', '오렌지', '귤'}\n",
        "\n",
        "#사과 : 가격 , 오렌지 : 가격, 귤 : 가격\n",
        "d = {'사과' : 1000, \"오렌지\": 900, '귤': 300}"
      ],
      "execution_count": null,
      "outputs": [
        {
          "output_type": "execute_result",
          "data": {
            "text/plain": [
              "{'귤': 300, '사과': 1000, '오렌지': 900}"
            ]
          },
          "metadata": {},
          "execution_count": 101
        }
      ]
    },
    {
      "cell_type": "code",
      "metadata": {
        "id": "nuWX1g7At3OF",
        "colab": {
          "base_uri": "https://localhost:8080/"
        },
        "outputId": "4c2ee34f-d294-456c-a2e8-f62f5dd38a41",
        "collapsed": true
      },
      "source": [
        "per_info = {'이름': '이소연', '직업': '강사'}\n",
        "per_info"
      ],
      "execution_count": null,
      "outputs": [
        {
          "output_type": "execute_result",
          "data": {
            "text/plain": [
              "{'이름': '이소연', '직업': '강사'}"
            ]
          },
          "metadata": {},
          "execution_count": 104
        }
      ]
    },
    {
      "cell_type": "code",
      "source": [
        "per_info['이름'], per_info['직업']"
      ],
      "metadata": {
        "colab": {
          "base_uri": "https://localhost:8080/"
        },
        "id": "dzw2GqAeDXTY",
        "outputId": "94d7634b-6fbc-4ad5-8eb4-e5bc24b09a16",
        "collapsed": true
      },
      "execution_count": null,
      "outputs": [
        {
          "output_type": "execute_result",
          "data": {
            "text/plain": [
              "('이소연', '강사')"
            ]
          },
          "metadata": {},
          "execution_count": 105
        }
      ]
    },
    {
      "cell_type": "markdown",
      "source": [
        "사전에는 순서가 없기 때문에, 원하는 밸류를 조회하려면 키값으로 조회해야 한다.  \n",
        "per_info라는 사전에 어떤 키값들이 있는지를 알아야 할텐데?"
      ],
      "metadata": {
        "id": "15AVtMPZDe47"
      }
    },
    {
      "cell_type": "code",
      "metadata": {
        "id": "RjRgdBL3t3OJ",
        "colab": {
          "base_uri": "https://localhost:8080/"
        },
        "outputId": "1f6f019f-f380-4726-9df9-19c53b5a4b17",
        "collapsed": true
      },
      "source": [
        "# 딕셔너리에 key값들을 조회하기\n",
        "per_info.keys()\n",
        "# per_info.keys\n",
        "# per_info.key()\n",
        "# per_info.key"
      ],
      "execution_count": null,
      "outputs": [
        {
          "output_type": "execute_result",
          "data": {
            "text/plain": [
              "dict_keys(['이름', '직업'])"
            ]
          },
          "metadata": {},
          "execution_count": 106
        }
      ]
    },
    {
      "cell_type": "code",
      "metadata": {
        "id": "IeIOaAl5dYvV",
        "colab": {
          "base_uri": "https://localhost:8080/"
        },
        "outputId": "dd2e1c93-5ec0-448a-fcc0-c41f980bcc53",
        "collapsed": true
      },
      "source": [
        "type(per_info.keys())"
      ],
      "execution_count": null,
      "outputs": [
        {
          "output_type": "execute_result",
          "data": {
            "text/plain": [
              "dict_keys"
            ]
          },
          "metadata": {},
          "execution_count": 107
        }
      ]
    },
    {
      "cell_type": "code",
      "source": [
        "list(per_info.keys())"
      ],
      "metadata": {
        "colab": {
          "base_uri": "https://localhost:8080/"
        },
        "id": "eC4ZkvvYvtUB",
        "outputId": "00e2dd46-1a0e-45cb-d3a7-50dca92755a2",
        "collapsed": true
      },
      "execution_count": null,
      "outputs": [
        {
          "output_type": "execute_result",
          "data": {
            "text/plain": [
              "['이름', '직업']"
            ]
          },
          "metadata": {},
          "execution_count": 108
        }
      ]
    },
    {
      "cell_type": "code",
      "metadata": {
        "id": "4Gxs3-Ewt3OL",
        "colab": {
          "base_uri": "https://localhost:8080/"
        },
        "outputId": "951b063c-b69b-438b-b781-d8b90bc3c7b0",
        "collapsed": true
      },
      "source": [
        "per_info.values()"
      ],
      "execution_count": null,
      "outputs": [
        {
          "output_type": "execute_result",
          "data": {
            "text/plain": [
              "dict_values(['이소연', '강사'])"
            ]
          },
          "metadata": {},
          "execution_count": 109
        }
      ]
    },
    {
      "cell_type": "code",
      "metadata": {
        "id": "G5cFPo22djO9",
        "colab": {
          "base_uri": "https://localhost:8080/"
        },
        "outputId": "0d4ff54c-3f2f-41c9-fbd0-276ad1371cda",
        "collapsed": true
      },
      "source": [
        "type(per_info.values())"
      ],
      "execution_count": null,
      "outputs": [
        {
          "output_type": "execute_result",
          "data": {
            "text/plain": [
              "dict_values"
            ]
          },
          "metadata": {},
          "execution_count": 110
        }
      ]
    },
    {
      "cell_type": "code",
      "metadata": {
        "id": "Co1JBOPmt3OP",
        "colab": {
          "base_uri": "https://localhost:8080/"
        },
        "outputId": "f94308a1-9b6c-48dc-f8d2-f2d740bff760",
        "collapsed": true
      },
      "source": [
        "per_info.items() "
      ],
      "execution_count": null,
      "outputs": [
        {
          "output_type": "execute_result",
          "data": {
            "text/plain": [
              "dict_items([('이름', '이소연'), ('직업', '강사')])"
            ]
          },
          "metadata": {},
          "execution_count": 111
        }
      ]
    },
    {
      "cell_type": "code",
      "metadata": {
        "id": "2FKbfHNJdo-k",
        "colab": {
          "base_uri": "https://localhost:8080/"
        },
        "outputId": "bbf27bff-03f8-40bf-a171-e67e1b99b62d",
        "collapsed": true
      },
      "source": [
        "type(per_info.items())"
      ],
      "execution_count": null,
      "outputs": [
        {
          "output_type": "execute_result",
          "data": {
            "text/plain": [
              "dict_items"
            ]
          },
          "metadata": {},
          "execution_count": 112
        }
      ]
    },
    {
      "cell_type": "code",
      "metadata": {
        "id": "Qr0Osx3ceC8F",
        "colab": {
          "base_uri": "https://localhost:8080/"
        },
        "outputId": "da84c988-d18e-4147-9eae-e4d66ad81140",
        "collapsed": true
      },
      "source": [
        "per_keys = list(per_info.keys())\n",
        "per_vals = list(per_info.values())\n",
        "per_itms = list(per_info.items())\n",
        "print(per_keys)\n",
        "print(per_vals)\n",
        "print(per_itms)"
      ],
      "execution_count": null,
      "outputs": [
        {
          "output_type": "stream",
          "name": "stdout",
          "text": [
            "['이름', '직업']\n",
            "['이소연', '강사']\n",
            "[('이름', '이소연'), ('직업', '강사')]\n"
          ]
        }
      ]
    },
    {
      "cell_type": "markdown",
      "metadata": {
        "id": "Uh6fpUHSebNK"
      },
      "source": [
        "이렇게 키, 밸류, 아이템에 접근하고, 다룰 수 있다는 것을 잘 기억해두자. 나중에 쓸일이 종종 있다."
      ]
    },
    {
      "cell_type": "markdown",
      "metadata": {
        "id": "4RUSVNJeeo5Z"
      },
      "source": [
        "\n",
        "딕셔너리에서 '이소연'를 조회하고 싶다면?"
      ]
    },
    {
      "cell_type": "code",
      "metadata": {
        "id": "2c-1VNXSt3OQ",
        "colab": {
          "base_uri": "https://localhost:8080/",
          "height": 35
        },
        "outputId": "8217578e-a40f-4e85-fa7b-1185106a4e9e",
        "collapsed": true
      },
      "source": [
        "per_info['이름'] #value 지칭을 key값으로"
      ],
      "execution_count": null,
      "outputs": [
        {
          "output_type": "execute_result",
          "data": {
            "text/plain": [
              "'이소연'"
            ],
            "application/vnd.google.colaboratory.intrinsic+json": {
              "type": "string"
            }
          },
          "metadata": {},
          "execution_count": 114
        }
      ]
    },
    {
      "cell_type": "markdown",
      "metadata": {
        "id": "a54BSeqjt3OS"
      },
      "source": [
        "#### 데이터 추가 & 변경하기"
      ]
    },
    {
      "cell_type": "markdown",
      "metadata": {
        "id": "wrROaXpSdbAQ"
      },
      "source": [
        "추가메서드가 없다."
      ]
    },
    {
      "cell_type": "code",
      "metadata": {
        "id": "jmulY9Htt3OS",
        "colab": {
          "base_uri": "https://localhost:8080/"
        },
        "outputId": "11f537d8-b169-400a-8ce9-9c950d083d9d",
        "collapsed": true
      },
      "source": [
        "per_info = {'이름': '이소연', '직업': ['개발자', '강사']}\n",
        "per_info"
      ],
      "execution_count": null,
      "outputs": [
        {
          "output_type": "execute_result",
          "data": {
            "text/plain": [
              "{'이름': '이소연', '직업': ['개발자', '강사']}"
            ]
          },
          "metadata": {},
          "execution_count": 115
        }
      ]
    },
    {
      "cell_type": "code",
      "metadata": {
        "colab": {
          "base_uri": "https://localhost:8080/"
        },
        "id": "WJSvfUO5djeC",
        "outputId": "d5e49f8a-261d-4082-cb16-b24c1dc2e3d5",
        "collapsed": true
      },
      "source": [
        "per_info['이름'], per_info['직업']"
      ],
      "execution_count": null,
      "outputs": [
        {
          "output_type": "execute_result",
          "data": {
            "text/plain": [
              "('이소연', ['개발자', '강사'])"
            ]
          },
          "metadata": {},
          "execution_count": 116
        }
      ]
    },
    {
      "cell_type": "code",
      "metadata": {
        "id": "JQR7JqLRdqaL",
        "colab": {
          "base_uri": "https://localhost:8080/",
          "height": 166
        },
        "collapsed": true,
        "outputId": "340f4eaf-8970-472f-a92c-26cbbf239d93"
      },
      "source": [
        "per_info['전공']"
      ],
      "execution_count": null,
      "outputs": [
        {
          "output_type": "error",
          "ename": "KeyError",
          "evalue": "ignored",
          "traceback": [
            "\u001b[0;31m---------------------------------------------------------------------------\u001b[0m",
            "\u001b[0;31mKeyError\u001b[0m                                  Traceback (most recent call last)",
            "\u001b[0;32m<ipython-input-117-be6effa1f789>\u001b[0m in \u001b[0;36m<module>\u001b[0;34m()\u001b[0m\n\u001b[0;32m----> 1\u001b[0;31m \u001b[0mper_info\u001b[0m\u001b[0;34m[\u001b[0m\u001b[0;34m'전공'\u001b[0m\u001b[0;34m]\u001b[0m\u001b[0;34m\u001b[0m\u001b[0;34m\u001b[0m\u001b[0m\n\u001b[0m",
            "\u001b[0;31mKeyError\u001b[0m: '전공'"
          ]
        }
      ]
    },
    {
      "cell_type": "code",
      "metadata": {
        "id": "35RQNc0nt3OU",
        "colab": {
          "base_uri": "https://localhost:8080/"
        },
        "outputId": "1b3bb560-1828-4ed7-b4f1-d401c64d67aa",
        "collapsed": true
      },
      "source": [
        "#전공 데이터 추가\n",
        "per_info['전공'] = '통계학' # a = '통계학'\n",
        "per_info"
      ],
      "execution_count": null,
      "outputs": [
        {
          "output_type": "execute_result",
          "data": {
            "text/plain": [
              "{'이름': '이소연', '전공': '통계학', '직업': ['개발자', '강사']}"
            ]
          },
          "metadata": {},
          "execution_count": 118
        }
      ]
    },
    {
      "cell_type": "code",
      "source": [
        "# 취미 : 볼링 추가\n",
        "per_info['취미'] = '볼링' \n",
        "per_info"
      ],
      "metadata": {
        "colab": {
          "base_uri": "https://localhost:8080/"
        },
        "id": "S00_IEFdo_yg",
        "outputId": "5fe6e9fa-70e5-4760-bf14-9ec088380b5c",
        "collapsed": true
      },
      "execution_count": null,
      "outputs": [
        {
          "output_type": "execute_result",
          "data": {
            "text/plain": [
              "{'이름': '이소연', '전공': '통계학', '직업': ['개발자', '강사'], '취미': '볼링'}"
            ]
          },
          "metadata": {},
          "execution_count": 119
        }
      ]
    },
    {
      "cell_type": "code",
      "source": [
        "# 국적 : 한국 추가\n",
        "per_info['국적'] = '한국' \n",
        "per_info"
      ],
      "metadata": {
        "colab": {
          "base_uri": "https://localhost:8080/"
        },
        "id": "pHd5tfOho_gT",
        "outputId": "62be062a-2341-4f30-d343-9981695ec975",
        "collapsed": true
      },
      "execution_count": null,
      "outputs": [
        {
          "output_type": "execute_result",
          "data": {
            "text/plain": [
              "{'국적': '한국', '이름': '이소연', '전공': '통계학', '직업': ['개발자', '강사'], '취미': '볼링'}"
            ]
          },
          "metadata": {},
          "execution_count": 120
        }
      ]
    },
    {
      "cell_type": "code",
      "metadata": {
        "id": "enAJfWwgt3OX",
        "colab": {
          "base_uri": "https://localhost:8080/"
        },
        "outputId": "53df039c-5c42-4496-b422-4ed575e478a2",
        "collapsed": true
      },
      "source": [
        "#전공분야 변경\n",
        "per_info['전공'] = '머신러닝' # a = '머신러닝' \n",
        "per_info"
      ],
      "execution_count": null,
      "outputs": [
        {
          "output_type": "execute_result",
          "data": {
            "text/plain": [
              "{'국적': '한국', '이름': '이소연', '전공': '머신러닝', '직업': ['개발자', '강사'], '취미': '볼링'}"
            ]
          },
          "metadata": {},
          "execution_count": 121
        }
      ]
    },
    {
      "cell_type": "code",
      "source": [
        "# 취미 : 볼링 -> 코딩 변경\n",
        "per_info['취미'] = '코딩' \n",
        "per_info"
      ],
      "metadata": {
        "colab": {
          "base_uri": "https://localhost:8080/"
        },
        "id": "gg7E_ZVepqag",
        "outputId": "ee85a085-5e65-46bb-e44d-46d8a0498630",
        "collapsed": true
      },
      "execution_count": null,
      "outputs": [
        {
          "output_type": "execute_result",
          "data": {
            "text/plain": [
              "{'국적': '한국', '이름': '이소연', '전공': '머신러닝', '직업': ['개발자', '강사'], '취미': '코딩'}"
            ]
          },
          "metadata": {},
          "execution_count": 122
        }
      ]
    },
    {
      "cell_type": "code",
      "source": [
        "# 국적 : korea 로 수정해보기\n",
        "per_info['국적'] = 'Korea' \n",
        "per_info"
      ],
      "metadata": {
        "id": "nSZwKmmd4BBS",
        "colab": {
          "base_uri": "https://localhost:8080/"
        },
        "collapsed": true,
        "outputId": "ef2656a1-136c-44b0-a49e-c2b2512e8273"
      },
      "execution_count": null,
      "outputs": [
        {
          "output_type": "execute_result",
          "data": {
            "text/plain": [
              "{'국적': 'Korea', '이름': '이소연', '전공': '머신러닝', '직업': ['개발자', '강사'], '취미': '코딩'}"
            ]
          },
          "metadata": {},
          "execution_count": 123
        }
      ]
    },
    {
      "cell_type": "markdown",
      "source": [
        "딕셔너리에 새로운 데이터를 추가하거나 기존 데이터를 변경하는 것은 모두 **그냥 선언하면 된다**   \n",
        "-> 없으면 생기고, 있으면 바뀐다."
      ],
      "metadata": {
        "id": "YGZohW3QqB5J"
      }
    },
    {
      "cell_type": "code",
      "metadata": {
        "colab": {
          "base_uri": "https://localhost:8080/"
        },
        "id": "BeG7QbR6I_8M",
        "outputId": "1cbf47b8-3e8b-4438-fc44-b224154e30e7",
        "collapsed": true
      },
      "source": [
        "per_info = {'이름': '이소연', '직업': '강사'}\n",
        "per_info"
      ],
      "execution_count": null,
      "outputs": [
        {
          "output_type": "execute_result",
          "data": {
            "text/plain": [
              "{'이름': '이소연', '직업': '강사'}"
            ]
          },
          "metadata": {},
          "execution_count": 125
        }
      ]
    },
    {
      "cell_type": "code",
      "metadata": {
        "id": "dCxpE0a6t3OZ",
        "colab": {
          "base_uri": "https://localhost:8080/"
        },
        "outputId": "d846c19a-c8ff-4c46-eaf8-bbf080a15805",
        "collapsed": true
      },
      "source": [
        "len(per_info)"
      ],
      "execution_count": null,
      "outputs": [
        {
          "output_type": "execute_result",
          "data": {
            "text/plain": [
              "2"
            ]
          },
          "metadata": {},
          "execution_count": 126
        }
      ]
    },
    {
      "cell_type": "markdown",
      "source": [
        "빈딕셔너리 선언"
      ],
      "metadata": {
        "id": "cJJ9F5u4kAVj"
      }
    },
    {
      "cell_type": "code",
      "metadata": {
        "id": "fUjhNOq-t3Ok"
      },
      "source": [
        "sample_list = [] # empty list\n",
        "sample_tuple = () # empty tuple\n",
        "sample = {} # empty set일까 empty dict일까   "
      ],
      "execution_count": null,
      "outputs": []
    },
    {
      "cell_type": "code",
      "metadata": {
        "id": "aWtxLzgbt3Ol",
        "colab": {
          "base_uri": "https://localhost:8080/"
        },
        "outputId": "5b1365ed-d404-46c6-81f0-688d6cb4c091",
        "collapsed": true
      },
      "source": [
        "type(sample) "
      ],
      "execution_count": null,
      "outputs": [
        {
          "output_type": "execute_result",
          "data": {
            "text/plain": [
              "dict"
            ]
          },
          "metadata": {},
          "execution_count": 128
        }
      ]
    },
    {
      "cell_type": "code",
      "metadata": {
        "id": "kaVKycpH0Psq",
        "colab": {
          "base_uri": "https://localhost:8080/"
        },
        "outputId": "13a3d8db-2a20-4e0c-a42f-12da05e97670",
        "collapsed": true
      },
      "source": [
        "data = {} #empty dic [] = empty list / () = empty tuple / {}\n",
        "#key = name / value = 자신의 이름\n",
        "data['이름'] = '이소연'\n",
        "data['MBTI'] = 'ESTP'\n",
        "data"
      ],
      "execution_count": null,
      "outputs": [
        {
          "output_type": "execute_result",
          "data": {
            "text/plain": [
              "{'MBTI': 'ESTP', '이름': '이소연'}"
            ]
          },
          "metadata": {},
          "execution_count": 129
        }
      ]
    },
    {
      "cell_type": "code",
      "source": [
        "# 응용 : 딕셔너리의 밸류를 리스트로 저장하기\n",
        "data = {}\n",
        "#data = {name : [방XX, 이XX, 곽XX, ...]}\n",
        "data['name'] = []\n",
        "data"
      ],
      "metadata": {
        "colab": {
          "base_uri": "https://localhost:8080/"
        },
        "id": "6YGmPaRnrwS7",
        "outputId": "3116da35-4138-4a19-d88c-da7b20794aba",
        "collapsed": true
      },
      "execution_count": null,
      "outputs": [
        {
          "output_type": "execute_result",
          "data": {
            "text/plain": [
              "{'name': []}"
            ]
          },
          "metadata": {},
          "execution_count": 130
        }
      ]
    },
    {
      "cell_type": "markdown",
      "source": [
        "data['name'] -> [] : 빈리스트 "
      ],
      "metadata": {
        "id": "PbeT45S-r2I2"
      }
    },
    {
      "cell_type": "code",
      "metadata": {
        "id": "6ePWNge12Gmm",
        "colab": {
          "base_uri": "https://localhost:8080/"
        },
        "outputId": "38745573-dae6-45c3-eee8-68b77d94b5ae",
        "collapsed": true
      },
      "source": [
        "#name 에 자신의 이름을 추가해보세요.\n",
        "data['name'].append('이소연')\n",
        "\n",
        "#name 에 자신의 팀원들 이름을 한번에 추가해보세요.\n",
        "data['name'].extend(['신XX', '홍xx'])\n",
        "data['name']"
      ],
      "execution_count": null,
      "outputs": [
        {
          "output_type": "execute_result",
          "data": {
            "text/plain": [
              "['이소연', '신XX', '홍xx']"
            ]
          },
          "metadata": {},
          "execution_count": 131
        }
      ]
    },
    {
      "cell_type": "code",
      "source": [
        "# 기본 - 연습 : 딕셔너리에 키-밸류(빈리스트 사용 X) 추가 \n",
        "MyInfo = {}\n",
        "\n",
        "# MyInfo 에 취미 : [독서, 여행] 추가 \n",
        "\n",
        "# Myinfo 에 나이 : 23 추가\n"
      ],
      "metadata": {
        "id": "OBMgPcyTiiQU"
      },
      "execution_count": null,
      "outputs": []
    },
    {
      "cell_type": "code",
      "metadata": {
        "id": "ATTx6ZtrG1m0"
      },
      "source": [
        "# 응용 - 연습 : 딕셔너리의 밸류에 리스트를 선언 -> 리스트 변형 메서드 사용\n",
        "MyInfo = {}\n",
        "\n",
        "# 여행지 : [] 선언\n",
        "\n",
        "# 여행지에 스위스 추가\n",
        "\n",
        "# 여행지에 [독일, 인도네시아] 추가\n",
        "\n",
        "# 여행지에서 독일 삭제\n"
      ],
      "execution_count": null,
      "outputs": []
    },
    {
      "cell_type": "markdown",
      "metadata": {
        "id": "5la-SZA8t3Ob"
      },
      "source": [
        "#### 데이터 삭제하기"
      ]
    },
    {
      "cell_type": "code",
      "metadata": {
        "id": "vhUtcq0xhAJO",
        "colab": {
          "base_uri": "https://localhost:8080/"
        },
        "outputId": "9bf267a4-4565-4e2e-c109-1932e9abdacc",
        "collapsed": true
      },
      "source": [
        "per_info = {'이름': '이소연', \n",
        "            '직업': ['개발자', '강사'], \n",
        "            '전공분야' : '머신러닝', \n",
        "            '취미': ['볼링', '탁구', '수영'], \n",
        "            '거주지': '서울'}\n",
        "per_info"
      ],
      "execution_count": null,
      "outputs": [
        {
          "output_type": "execute_result",
          "data": {
            "text/plain": [
              "{'거주지': '서울',\n",
              " '이름': '이소연',\n",
              " '전공분야': '머신러닝',\n",
              " '직업': ['개발자', '강사'],\n",
              " '취미': ['볼링', '탁구', '수영']}"
            ]
          },
          "metadata": {},
          "execution_count": 134
        }
      ]
    },
    {
      "cell_type": "code",
      "metadata": {
        "id": "RMdEJ5Ept3Oc"
      },
      "source": [
        "hobby = per_info.pop('취미') #index 대신 key , 이미 per_info.pop['취미'] 자체가 list 이기에 따로 지정없이 바로 list 명령 가능인가???\n",
        "per_info"
      ],
      "execution_count": null,
      "outputs": []
    },
    {
      "cell_type": "code",
      "source": [
        "hobby"
      ],
      "metadata": {
        "id": "80rGBNwdjbwC"
      },
      "execution_count": null,
      "outputs": []
    },
    {
      "cell_type": "code",
      "metadata": {
        "id": "Hr2LHygmt3Oe",
        "colab": {
          "base_uri": "https://localhost:8080/"
        },
        "outputId": "84009d81-fb8c-4093-f396-1b0c90077bb5",
        "collapsed": true
      },
      "source": [
        "del(per_info['거주지']) #del per_info['거주지']\n",
        "per_info"
      ],
      "execution_count": null,
      "outputs": [
        {
          "output_type": "execute_result",
          "data": {
            "text/plain": [
              "{'이름': '이소연', '전공분야': '머신러닝', '직업': ['개발자', '강사']}"
            ]
          },
          "metadata": {},
          "execution_count": 138
        }
      ]
    },
    {
      "cell_type": "code",
      "metadata": {
        "id": "jQRwugpFt3Og",
        "colab": {
          "base_uri": "https://localhost:8080/"
        },
        "outputId": "0eff488d-2d8d-4195-bd30-53332e3b9e60",
        "collapsed": true
      },
      "source": [
        "per_info.clear() # clear 마찬가지\n",
        "per_info"
      ],
      "execution_count": null,
      "outputs": [
        {
          "output_type": "execute_result",
          "data": {
            "text/plain": [
              "{}"
            ]
          },
          "metadata": {},
          "execution_count": 139
        }
      ]
    },
    {
      "cell_type": "code",
      "metadata": {
        "id": "Tb2dD-xxt3Oi"
      },
      "source": [
        "del per_info"
      ],
      "execution_count": null,
      "outputs": []
    },
    {
      "cell_type": "markdown",
      "metadata": {
        "id": "MbnneczNivT3"
      },
      "source": [
        "### 딕셔너리 in 용법"
      ]
    },
    {
      "cell_type": "markdown",
      "metadata": {
        "id": "wSpUK2t5izGe"
      },
      "source": [
        "앞에서 감을 잡았을지 모르겠지만, 딕셔너리에서는 Value가 아니라, Key가 메인이다.  \n",
        "'학교'라는 단어의 사전적 의미가 궁금하다고 가정해보자.  \n",
        "그럼 사전에서 '학교'라는 단어를 검색하지 않겠는가.  \n",
        "여기서 '학교' = key , '학교'에 대한 사전적 설명 = value 에 해당한다.  \n",
        "  \n",
        "즉, 딕셔너리에서 in 용법을 쓸 때는 당연하게도(?) key값으로 검색해야 한다."
      ]
    },
    {
      "cell_type": "code",
      "metadata": {
        "id": "ZhLygouakE8B",
        "colab": {
          "base_uri": "https://localhost:8080/"
        },
        "outputId": "712ce29f-31ba-4911-81e0-877ea56b2a83",
        "collapsed": true
      },
      "source": [
        "per_info = {'이름': '이소연', '직업': ['개발자', '강사'], '전공분야' : '머신러닝', '취미': ['볼링', '탁구', '수영']}\n",
        "per_info"
      ],
      "execution_count": null,
      "outputs": [
        {
          "output_type": "execute_result",
          "data": {
            "text/plain": [
              "{'이름': '이소연', '전공분야': '머신러닝', '직업': ['개발자', '강사'], '취미': ['볼링', '탁구', '수영']}"
            ]
          },
          "metadata": {},
          "execution_count": 142
        }
      ]
    },
    {
      "cell_type": "code",
      "metadata": {
        "colab": {
          "base_uri": "https://localhost:8080/",
          "height": 35
        },
        "id": "tWPFqbKbMjQA",
        "outputId": "b75f4013-46b7-4ca7-a322-38faefa34f3e",
        "collapsed": true
      },
      "source": [
        "# 딕셔너리의 키값들 중 원하는 하나만 뽑고 싶을 때\n",
        "list(per_info)[0]"
      ],
      "execution_count": null,
      "outputs": [
        {
          "output_type": "execute_result",
          "data": {
            "text/plain": [
              "'이름'"
            ],
            "application/vnd.google.colaboratory.intrinsic+json": {
              "type": "string"
            }
          },
          "metadata": {},
          "execution_count": 143
        }
      ]
    },
    {
      "cell_type": "code",
      "metadata": {
        "id": "7TC1C12Tj9bZ",
        "colab": {
          "base_uri": "https://localhost:8080/"
        },
        "outputId": "915da4d4-8d75-4044-ca76-612d12b97599",
        "collapsed": true
      },
      "source": [
        "'이름' in per_info"
      ],
      "execution_count": null,
      "outputs": [
        {
          "output_type": "execute_result",
          "data": {
            "text/plain": [
              "True"
            ]
          },
          "metadata": {},
          "execution_count": 144
        }
      ]
    },
    {
      "cell_type": "code",
      "metadata": {
        "id": "1bwCPgUmkBXU",
        "colab": {
          "base_uri": "https://localhost:8080/"
        },
        "outputId": "fb944490-6b81-4f54-f782-6bb313982077",
        "collapsed": true
      },
      "source": [
        "'특기' in per_info"
      ],
      "execution_count": null,
      "outputs": [
        {
          "output_type": "execute_result",
          "data": {
            "text/plain": [
              "False"
            ]
          },
          "metadata": {},
          "execution_count": 145
        }
      ]
    },
    {
      "cell_type": "code",
      "metadata": {
        "id": "qqf3BvCDkOR3",
        "colab": {
          "base_uri": "https://localhost:8080/"
        },
        "outputId": "2c62e43d-26f6-484f-c814-f4e6f012da7a",
        "collapsed": true
      },
      "source": [
        "'취미' in per_info"
      ],
      "execution_count": null,
      "outputs": [
        {
          "output_type": "execute_result",
          "data": {
            "text/plain": [
              "True"
            ]
          },
          "metadata": {},
          "execution_count": 146
        }
      ]
    },
    {
      "cell_type": "code",
      "metadata": {
        "id": "DZGNQGzUkUru",
        "colab": {
          "base_uri": "https://localhost:8080/"
        },
        "outputId": "86e8b180-e2aa-49b4-9907-890ab1e6a258",
        "collapsed": true
      },
      "source": [
        "#응용(딕셔너리용법이 아니라 리스트용법)\n",
        "'독서' in per_info['취미']"
      ],
      "execution_count": null,
      "outputs": [
        {
          "output_type": "execute_result",
          "data": {
            "text/plain": [
              "False"
            ]
          },
          "metadata": {},
          "execution_count": 147
        }
      ]
    },
    {
      "cell_type": "code",
      "source": [],
      "metadata": {
        "id": "d5pGPm1yStGB"
      },
      "execution_count": null,
      "outputs": []
    },
    {
      "cell_type": "markdown",
      "metadata": {
        "id": "aUqKEuteEDOE"
      },
      "source": [
        "### 문제9\n",
        "다음과 같이 음료 이름과 가격 데이터가 담긴 딕셔너리 menu가 있습니다.\n",
        "> menu = {'커피' : 3000, '차' : 4000, '쉐이크' : 5000}\n",
        "\n",
        "(1) menu 딕셔너리의 key만 출력해보세요."
      ]
    },
    {
      "cell_type": "code",
      "metadata": {
        "id": "qhOIDFYoEDJt",
        "colab": {
          "base_uri": "https://localhost:8080/"
        },
        "outputId": "59c8f438-ab30-4fc2-b91c-204af8fe7185"
      },
      "source": [
        "menu = {'커피' : 3000, '차' : 4000, '쉐이크' : 5000}\n",
        "\n"
      ],
      "execution_count": null,
      "outputs": [
        {
          "output_type": "execute_result",
          "data": {
            "text/plain": [
              "dict_keys(['커피', '차', '쉐이크'])"
            ]
          },
          "metadata": {
            "tags": []
          },
          "execution_count": 29
        }
      ]
    },
    {
      "cell_type": "markdown",
      "metadata": {
        "id": "7OQ_qjx0ytkb"
      },
      "source": [
        "(2) menu 딕셔너리의 value만 출력해보세요."
      ]
    },
    {
      "cell_type": "code",
      "metadata": {
        "id": "tesIsee8EDFM",
        "colab": {
          "base_uri": "https://localhost:8080/"
        },
        "outputId": "c066bda7-3c13-4b7d-aa09-7c085f758f0d"
      },
      "source": [],
      "execution_count": null,
      "outputs": [
        {
          "output_type": "execute_result",
          "data": {
            "text/plain": [
              "dict_values([3000, 4000, 5000])"
            ]
          },
          "metadata": {
            "tags": []
          },
          "execution_count": 31
        }
      ]
    },
    {
      "cell_type": "markdown",
      "metadata": {
        "id": "swrOQxqbyx5M"
      },
      "source": [
        "(3) menu의 key 값들을 새로운 변수 'name'에 리스트 형태로 저장한 뒤, name을 출력해보세요."
      ]
    },
    {
      "cell_type": "code",
      "metadata": {
        "colab": {
          "base_uri": "https://localhost:8080/"
        },
        "id": "TZzYQKSuy45R",
        "outputId": "4777b28f-6c64-4a9a-8ac2-ca2aaca21fca"
      },
      "source": [],
      "execution_count": null,
      "outputs": [
        {
          "output_type": "execute_result",
          "data": {
            "text/plain": [
              "['커피', '차', '쉐이크']"
            ]
          },
          "metadata": {
            "tags": []
          },
          "execution_count": 32
        }
      ]
    },
    {
      "cell_type": "markdown",
      "metadata": {
        "id": "RaVbNvddy4qY"
      },
      "source": [
        "(4) menu에서 '쉐이크'의 가격은 얼마인지 조회해보세요."
      ]
    },
    {
      "cell_type": "code",
      "metadata": {
        "colab": {
          "base_uri": "https://localhost:8080/"
        },
        "id": "sdZgjSaty4QZ",
        "outputId": "8d67ac7a-b147-430b-e754-b80c333e5c8b"
      },
      "source": [],
      "execution_count": null,
      "outputs": [
        {
          "output_type": "execute_result",
          "data": {
            "text/plain": [
              "5000"
            ]
          },
          "metadata": {
            "tags": []
          },
          "execution_count": 33
        }
      ]
    },
    {
      "cell_type": "markdown",
      "metadata": {
        "id": "QUVf-4l9zQMA"
      },
      "source": [
        "(5) '쉐이크'의 가격을 6000으로 변경한 뒤, menu를 출력해보세요."
      ]
    },
    {
      "cell_type": "code",
      "metadata": {
        "colab": {
          "base_uri": "https://localhost:8080/"
        },
        "id": "-G1nq29czUpl",
        "outputId": "03965f1f-61d9-4b55-80ba-239de5349911"
      },
      "source": [],
      "execution_count": null,
      "outputs": [
        {
          "output_type": "execute_result",
          "data": {
            "text/plain": [
              "{'쉐이크': 6000, '차': 4000, '커피': 3000}"
            ]
          },
          "metadata": {
            "tags": []
          },
          "execution_count": 34
        }
      ]
    },
    {
      "cell_type": "markdown",
      "metadata": {
        "id": "wprQ2yq1zcN1"
      },
      "source": [
        "(6) 새로운 데이터 '프라푸치노'와 가격 5000을 menu에 추가한 뒤, menu를 출력해보세요."
      ]
    },
    {
      "cell_type": "code",
      "metadata": {
        "colab": {
          "base_uri": "https://localhost:8080/"
        },
        "id": "tnBq2OfRznWA",
        "outputId": "9acb64e6-33cc-412f-e17f-e0a0318fb654"
      },
      "source": [],
      "execution_count": null,
      "outputs": [
        {
          "output_type": "execute_result",
          "data": {
            "text/plain": [
              "{'쉐이크': 6000, '차': 4000, '커피': 3000, '프라푸치노': 5000}"
            ]
          },
          "metadata": {
            "tags": []
          },
          "execution_count": 35
        }
      ]
    },
    {
      "cell_type": "markdown",
      "metadata": {
        "id": "ZAf3LcfVDs_F"
      },
      "source": [
        "### 문제10\n",
        "다음과 같이 과목별 3개의 성적 데이터가 담긴 딕션너리 'score'가 있습니다.\n",
        "> score = {'math' : [80, 75, 90], 'english' : [95, 80, 100], 'science' : [85, 100, 90], 'korean' : [100, 90, 85]}\n",
        "\n",
        "(1) pop을 이용하여 'math'의 value를 새로운 리스트 'math_score'에 저장한 뒤 math_score를 출력해보세요."
      ]
    },
    {
      "cell_type": "code",
      "metadata": {
        "id": "8igL0eFJEbi2",
        "colab": {
          "base_uri": "https://localhost:8080/"
        },
        "outputId": "b21290e8-3ba1-4b9a-9b50-0749a95946c1"
      },
      "source": [
        "score = {'math' : [80, 75, 90], \n",
        "         'english' : [95, 80, 100], \n",
        "         'science' : [85, 100, 90], \n",
        "         'korean' : [100, 90, 85]}\n",
        "\n",
        "\n"
      ],
      "execution_count": null,
      "outputs": [
        {
          "output_type": "execute_result",
          "data": {
            "text/plain": [
              "[80, 75, 90]"
            ]
          },
          "metadata": {
            "tags": []
          },
          "execution_count": 38
        }
      ]
    },
    {
      "cell_type": "markdown",
      "metadata": {
        "id": "IMUMncCE0daL"
      },
      "source": [
        "(2) del를 이용하여 'science' key를 삭제한 뒤, score를 출력해보세요."
      ]
    },
    {
      "cell_type": "code",
      "metadata": {
        "id": "FlmRdJmX2-Yd",
        "colab": {
          "base_uri": "https://localhost:8080/"
        },
        "outputId": "e064a39d-ac2b-42bf-949a-4f3eef475b87"
      },
      "source": [],
      "execution_count": null,
      "outputs": [
        {
          "output_type": "execute_result",
          "data": {
            "text/plain": [
              "{'english': [95, 80, 100], 'korean': [100, 90, 85]}"
            ]
          },
          "metadata": {
            "tags": []
          },
          "execution_count": 39
        }
      ]
    },
    {
      "cell_type": "markdown",
      "metadata": {
        "id": "jB2f3sc-EbXc"
      },
      "source": [
        "(3) score의 'korean' key에 95가 있는지 확인해보세요. (False가 출력되어야 합니다)"
      ]
    },
    {
      "cell_type": "code",
      "metadata": {
        "id": "QdaIo_CYDO8c",
        "colab": {
          "base_uri": "https://localhost:8080/"
        },
        "outputId": "c27da4f7-c77d-4cc2-9da9-4756cf8b42bf"
      },
      "source": [],
      "execution_count": null,
      "outputs": [
        {
          "output_type": "execute_result",
          "data": {
            "text/plain": [
              "False"
            ]
          },
          "metadata": {
            "tags": []
          },
          "execution_count": 40
        }
      ]
    },
    {
      "cell_type": "code",
      "source": [],
      "metadata": {
        "id": "fBAvEieQS9-F"
      },
      "execution_count": null,
      "outputs": []
    },
    {
      "cell_type": "markdown",
      "metadata": {
        "id": "PKAb8F1DrUwS"
      },
      "source": [
        "### 아래와 같은 NaverWebtoon을 빈딕셔너리를 이용해 만들어보자."
      ]
    },
    {
      "cell_type": "code",
      "metadata": {
        "colab": {
          "base_uri": "https://localhost:8080/"
        },
        "id": "ay57ez8wj5Bp",
        "outputId": "fe2258b3-f570-4514-f821-7f6b5a3ce251",
        "collapsed": true
      },
      "source": [
        "data = {} #empty dic / [] = empty list / () = empty tuple / {} \n",
        "#key = name / value = 자신의 이름\n",
        "data['작가'] = 'SIU'\n",
        "data['성격'] = '외향적임'\n",
        "data"
      ],
      "execution_count": null,
      "outputs": [
        {
          "output_type": "execute_result",
          "data": {
            "text/plain": [
              "{'성격': '외향적임', '작가': 'SIU'}"
            ]
          },
          "metadata": {},
          "execution_count": 148
        }
      ]
    },
    {
      "cell_type": "code",
      "metadata": {
        "id": "mAfOmbOlPuUK"
      },
      "source": [
        "#1) \n",
        "#  NaverWebtoon =  [\n",
        "#                 {'작가': 'SIU', '평점': '9.94', '제목': '신의 탑'},\n",
        "#                 {'작가': '조용석', '평점': '9.82', '제목': '뷰티풀 군바리'},\n",
        "#                 {'작가': '영파카', '평점': '9.92', '제목': '니편내편'}\n",
        "#                  ]"
      ],
      "execution_count": null,
      "outputs": []
    },
    {
      "cell_type": "code",
      "metadata": {
        "id": "w8H_j96eJP-5"
      },
      "source": [
        "#풀이를 보지않고, 직접 코드를 작성해보자\n",
        "NaverWebtoon = [{}, {}, {}] # 세개의 딕셔너리를 묶은 리스트\n",
        "\n",
        "# 첫번째 딕셔너리에 \n",
        "# 작가 : SIU 추가\n",
        "\n",
        "# 평점 : 9.94 추가\n",
        "\n",
        "# 제목 : 신의 탑 추가\n",
        "\n",
        "\n",
        "# 두번째 딕셔너리에 \n",
        "# 작가 : 조용석 추가\n",
        "\n",
        "# 평점 : 9.82 추가\n",
        "\n",
        "# 제목 : 뷰티풀 군바리 추가\n",
        "\n",
        "\n",
        "# 세번째 딕셔너리에 \n",
        "# 작가 : 영파카 추가\n",
        "\n",
        "# 평점 : 9.92 추가\n",
        "\n",
        "# 제목 : 니편내편 추가\n",
        "\n",
        "\n"
      ],
      "execution_count": null,
      "outputs": []
    },
    {
      "cell_type": "markdown",
      "metadata": {
        "id": "Upc8pexsJCj-"
      },
      "source": [
        "##### 풀이"
      ]
    },
    {
      "cell_type": "code",
      "metadata": {
        "id": "plp5_VYHQqsL",
        "cellView": "form"
      },
      "source": [
        "#@title\n",
        "NaverWebtoon = [{}, {}, {}]"
      ],
      "execution_count": null,
      "outputs": []
    },
    {
      "cell_type": "code",
      "metadata": {
        "id": "7Mmv_NZgqSPw",
        "cellView": "form",
        "colab": {
          "base_uri": "https://localhost:8080/"
        },
        "outputId": "89a8e847-832c-4636-9af8-ffc469ee8d6b"
      },
      "source": [
        "#@title\n",
        "NaverWebtoon[0]"
      ],
      "execution_count": null,
      "outputs": [
        {
          "output_type": "execute_result",
          "data": {
            "text/plain": [
              "{}"
            ]
          },
          "metadata": {},
          "execution_count": 225
        }
      ]
    },
    {
      "cell_type": "code",
      "metadata": {
        "id": "1q9Q8Bh9qUy5",
        "cellView": "form",
        "colab": {
          "base_uri": "https://localhost:8080/"
        },
        "outputId": "0865c9fe-0f85-4b4f-fdec-835750141690",
        "collapsed": true
      },
      "source": [
        "#@title\n",
        "NaverWebtoon[0]['작가'] = 'SIU'\n",
        "NaverWebtoon[0]['평점'] = '9.94'\n",
        "NaverWebtoon[0]['제목'] = '신의 탑'\n",
        "NaverWebtoon"
      ],
      "execution_count": null,
      "outputs": [
        {
          "output_type": "execute_result",
          "data": {
            "text/plain": [
              "[{'작가': 'SIU', '제목': '신의 탑', '평점': '9.94'}, {}, {}]"
            ]
          },
          "metadata": {},
          "execution_count": 226
        }
      ]
    },
    {
      "cell_type": "code",
      "metadata": {
        "id": "L2rQRLEQq1ev",
        "cellView": "form",
        "colab": {
          "base_uri": "https://localhost:8080/"
        },
        "outputId": "4e40bcf6-7bcc-4879-9ec8-0ff063431ef4",
        "collapsed": true
      },
      "source": [
        "#@title\n",
        "NaverWebtoon[1]['작가'] = '조용석'\n",
        "NaverWebtoon[1]['평점'] = '9.82'\n",
        "NaverWebtoon[1]['제목'] = '뷰티풀 군바리'\n",
        "NaverWebtoon"
      ],
      "execution_count": null,
      "outputs": [
        {
          "output_type": "execute_result",
          "data": {
            "text/plain": [
              "[{'작가': 'SIU', '제목': '신의 탑', '평점': '9.94'},\n",
              " {'작가': '조용석', '제목': '뷰티풀 군바리', '평점': '9.82'},\n",
              " {}]"
            ]
          },
          "metadata": {},
          "execution_count": 227
        }
      ]
    },
    {
      "cell_type": "code",
      "metadata": {
        "id": "28JkaiL-rHwR",
        "cellView": "form",
        "colab": {
          "base_uri": "https://localhost:8080/"
        },
        "outputId": "cf590f69-a4f7-4e69-e118-5002fe16b2ec",
        "collapsed": true
      },
      "source": [
        "#@title\n",
        "NaverWebtoon[2]['작가'] = '영파카'\n",
        "NaverWebtoon[2]['평점'] = '9.92'\n",
        "NaverWebtoon[2]['제목'] = '니편내편'\n",
        "NaverWebtoon"
      ],
      "execution_count": null,
      "outputs": [
        {
          "output_type": "execute_result",
          "data": {
            "text/plain": [
              "[{'작가': 'SIU', '제목': '신의 탑', '평점': '9.94'},\n",
              " {'작가': '조용석', '제목': '뷰티풀 군바리', '평점': '9.82'},\n",
              " {'작가': '영파카', '제목': '니편내편', '평점': '9.92'}]"
            ]
          },
          "metadata": {},
          "execution_count": 228
        }
      ]
    },
    {
      "cell_type": "markdown",
      "source": [
        "#### 응용"
      ],
      "metadata": {
        "id": "mxY-AU-uyiDk"
      }
    },
    {
      "cell_type": "code",
      "metadata": {
        "id": "UZPXvFYS-P6_"
      },
      "source": [
        "## 2) {'작가': ['SIU', '조용석', '영파카'],\n",
        "#      '평점': ['9.94', '9.82', '9.92'],\n",
        "#      '제목': ['신의 탑', '뷰티풀', '니편내편']}"
      ],
      "execution_count": null,
      "outputs": []
    },
    {
      "cell_type": "code",
      "source": [
        "NaverWebtoon = {}\n",
        "# 딕셔너리 세개의 키값과 세개의 밸류 []를 추가 \n",
        "# 작가 : []\n",
        "# 평점 : []\n",
        "# 제목 : []\n",
        "\n",
        "# 작가에 작가 하나씩 추가\n",
        "\n",
        "\n",
        "# 평점에 평점 하나씩 추가\n",
        "\n",
        "\n",
        "# 제목에 제목 하나씩 추가\n"
      ],
      "metadata": {
        "id": "AupBx2AbydTS"
      },
      "execution_count": null,
      "outputs": []
    },
    {
      "cell_type": "markdown",
      "metadata": {
        "id": "iDljNnls-eB3"
      },
      "source": [
        "##### 풀이"
      ]
    },
    {
      "cell_type": "code",
      "metadata": {
        "id": "TaRziHdA9RQo",
        "colab": {
          "base_uri": "https://localhost:8080/"
        },
        "outputId": "c85d4c96-21bd-4bea-d441-924516914f94",
        "collapsed": true,
        "cellView": "form"
      },
      "source": [
        "#@title\n",
        "\n",
        "NaverWebtoon = []\n",
        "NaverWebtoon.append({'작가' : ['SIU', '조용석', '영파카']})\n",
        "NaverWebtoon.append({'평점' : ['9.94', '9.82', '9.92']})\n",
        "NaverWebtoon.append({'제목' : ['신의 탑', '뷰티풀', '니편내편']})\n",
        "NaverWebtoon"
      ],
      "execution_count": null,
      "outputs": [
        {
          "output_type": "execute_result",
          "data": {
            "text/plain": [
              "[{'작가': ['SIU', '조용석', '영파카']},\n",
              " {'평점': ['9.94', '9.82', '9.92']},\n",
              " {'제목': ['신의 탑', '뷰티풀', '니편내편']}]"
            ]
          },
          "metadata": {},
          "execution_count": 231
        }
      ]
    },
    {
      "cell_type": "markdown",
      "source": [
        "### 부산 맛집"
      ],
      "metadata": {
        "id": "Pt3-68gqDsR6"
      }
    },
    {
      "cell_type": "code",
      "source": [
        "busan_taste = {}\n",
        "\n",
        "busan_taste['칠성돌곱창'] = {'추천메뉴' : '곱창', '웨이팅' : '보통'} \n",
        "busan_taste['톤쇼우'] = {'추천메뉴' : '돈가스', '웨이팅' : '길다'}\n",
        "busan_taste['웍헤이'] = {'추천메뉴' : ['쌀국수', '구름새우'], '웨이팅' : '길다'}\n",
        "busan_taste['가야공원'] = {'추천메뉴' : '돼지국밥', '웨이팅' : '보통'}\n",
        "busan_taste['장전돼지국밥'] = {'추천메뉴' : '수육백반', '웨이팅' : '보통'}\n",
        "busan_taste"
      ],
      "metadata": {
        "colab": {
          "base_uri": "https://localhost:8080/"
        },
        "id": "HVddRzjbDuw8",
        "outputId": "ce6ee3ff-0d34-47e7-cf82-add6428b10bf",
        "collapsed": true
      },
      "execution_count": null,
      "outputs": [
        {
          "output_type": "execute_result",
          "data": {
            "text/plain": [
              "{'가야공원': {'웨이팅': '보통', '추천메뉴': '돼지국밥'},\n",
              " '웍헤이': {'웨이팅': '길다', '추천메뉴': ['쌀국수', '구름새우']},\n",
              " '장전돼지국밥': {'웨이팅': '보통', '추천메뉴': '수육백반'},\n",
              " '칠성돌곱창': {'웨이팅': '보통', '추천메뉴': '곱창'},\n",
              " '톤쇼우': {'웨이팅': '길다', '추천메뉴': '돈가스'}}"
            ]
          },
          "metadata": {},
          "execution_count": 232
        }
      ]
    },
    {
      "cell_type": "code",
      "source": [
        "busan_taste['톤쇼우']['추천메뉴']"
      ],
      "metadata": {
        "colab": {
          "base_uri": "https://localhost:8080/",
          "height": 36
        },
        "id": "BexLx2ukEoFw",
        "outputId": "f1572327-a0a2-4e89-91c1-e6cc15d231b3",
        "collapsed": true
      },
      "execution_count": null,
      "outputs": [
        {
          "output_type": "execute_result",
          "data": {
            "application/vnd.google.colaboratory.intrinsic+json": {
              "type": "string"
            },
            "text/plain": [
              "'돈가스'"
            ]
          },
          "metadata": {},
          "execution_count": 233
        }
      ]
    },
    {
      "cell_type": "code",
      "source": [
        "busan_taste['톤쇼우']['웨이팅']"
      ],
      "metadata": {
        "colab": {
          "base_uri": "https://localhost:8080/",
          "height": 36
        },
        "id": "PCaYdKKeFT2O",
        "outputId": "83a1e2fe-529f-47b3-8895-258bcc5ff5cb",
        "collapsed": true
      },
      "execution_count": null,
      "outputs": [
        {
          "output_type": "execute_result",
          "data": {
            "application/vnd.google.colaboratory.intrinsic+json": {
              "type": "string"
            },
            "text/plain": [
              "'길다'"
            ]
          },
          "metadata": {},
          "execution_count": 234
        }
      ]
    },
    {
      "cell_type": "code",
      "source": [],
      "metadata": {
        "id": "Iucy5gMFS27k"
      },
      "execution_count": null,
      "outputs": []
    },
    {
      "cell_type": "markdown",
      "metadata": {
        "id": "1dtUEZrifaYx"
      },
      "source": [
        "## 난이도업! (2단계)"
      ]
    },
    {
      "cell_type": "markdown",
      "metadata": {
        "id": "4r0Ypx9-ghzh"
      },
      "source": [
        "#### 문제1\n",
        "아래와 같이 음악 재생 리스트 popsong이 있습니다.\n",
        "> popsong = ['Virtual Insanity', 'Say something', 'Love Me Trough The Night', \n",
        "           'Love Me Trough The Night', 'Skyfall', 'Say something', 'Skyfall', \n",
        "           'Love Me Trough The Night', 'Skyfall', 'Virtual Insanity', \n",
        "           'Viva La Vida', '1000x', 'Life Goes On', 'Say something',\n",
        "           'Life Goes On', 'Viva La Vida','Virtual Insanity', 'Life Goes On']\n",
        "\n",
        "(1) popsong 리스트에서 중복된 노래를 삭제한 뒤, 다시 popsong 리스트를 출력해보세요.(리스트 형식 유지)"
      ]
    },
    {
      "cell_type": "code",
      "metadata": {
        "id": "tnv83g2Vghr4",
        "colab": {
          "base_uri": "https://localhost:8080/"
        },
        "outputId": "303a0364-743a-44ee-8a84-fa4d4ae8433e"
      },
      "source": [
        "popsong = ['Virtual Insanity', 'Say something', 'Love Me Trough The Night', \n",
        "           'Love Me Trough The Night', 'Skyfall', 'Say something', 'Skyfall', \n",
        "           'Love Me Trough The Night', 'Skyfall', 'Virtual Insanity', \n",
        "           'Viva La Vida', '1000x', 'Life Goes On', 'Say something',\n",
        "           'Life Goes On', 'Viva La Vida','Virtual Insanity', 'Life Goes On']\n",
        "\n",
        "\n"
      ],
      "execution_count": null,
      "outputs": [
        {
          "output_type": "execute_result",
          "data": {
            "text/plain": [
              "['Life Goes On',\n",
              " 'Viva La Vida',\n",
              " '1000x',\n",
              " 'Skyfall',\n",
              " 'Love Me Trough The Night',\n",
              " 'Virtual Insanity',\n",
              " 'Say something']"
            ]
          },
          "metadata": {
            "tags": []
          },
          "execution_count": 2
        }
      ]
    },
    {
      "cell_type": "markdown",
      "metadata": {
        "id": "S8bh6G9o4qUJ"
      },
      "source": [
        "(2) index를 이용하여 '1000x' 데이터가 몇 번째 요소에 있는지 출력해보세요."
      ]
    },
    {
      "cell_type": "code",
      "metadata": {
        "colab": {
          "base_uri": "https://localhost:8080/"
        },
        "id": "zsH0BoIc4qEp",
        "outputId": "0b06a7a6-323a-4d7e-82a4-0e1c0a3c80b4"
      },
      "source": [],
      "execution_count": null,
      "outputs": [
        {
          "output_type": "execute_result",
          "data": {
            "text/plain": [
              "2"
            ]
          },
          "metadata": {
            "tags": []
          },
          "execution_count": 53
        }
      ]
    },
    {
      "cell_type": "markdown",
      "metadata": {
        "id": "yVXk14sp2uik"
      },
      "source": [
        "(2) popsong 리스트에서 '1000x'를 삭제하고, 'music'이라는 이름의 리스트로 옮기려고 합니다. \n",
        "\n",
        "append, pop, index를 모두 이용해서 코드 한 줄로 작성해보세요.\n",
        "\n"
      ]
    },
    {
      "cell_type": "code",
      "metadata": {
        "colab": {
          "base_uri": "https://localhost:8080/"
        },
        "id": "-2rjB8GY3mNy",
        "outputId": "41805abe-cceb-4401-dd9f-fdef443081c4"
      },
      "source": [
        "music = []\n",
        "\n",
        "# 아래에 코드 한 줄로 입력\n",
        "\n",
        "\n",
        "\n",
        "print('재생음악 :', popsong)\n",
        "print('삭제된음악 :', music)"
      ],
      "execution_count": null,
      "outputs": [
        {
          "output_type": "stream",
          "text": [
            "재생음악 : ['Viva La Vida', 'Virtual Insanity', 'Life Goes On', 'Say something', 'Skyfall', 'Love Me Trough The Night']\n",
            "삭제된음악 : ['1000x']\n"
          ],
          "name": "stdout"
        }
      ]
    },
    {
      "cell_type": "markdown",
      "metadata": {
        "id": "ez6booJah9_y"
      },
      "source": [
        "###문제2\n",
        "아래와 같이 이름, 나이, 연락처, 직업 정보를 담고있는 딕셔너리가 있습니다.\n",
        " > info = {'홍길동' : ['27', '010-1234-1234', '학생'],\n",
        "           '전우치' : ['20', '010-5678-5678', '직장인'],\n",
        "           '김철수' : ['22', '010-4321-4321', '무직'] }\n",
        "\n",
        "(1) '김철수'를 '김영희'로 변경한 뒤, info를 출력해보세요."
      ]
    },
    {
      "cell_type": "code",
      "metadata": {
        "id": "Jq7x1ItQFJGD",
        "colab": {
          "base_uri": "https://localhost:8080/"
        },
        "outputId": "558beac9-7377-4d3a-a17e-1c864c00e3aa"
      },
      "source": [
        "info = {'홍길동' : ['27', '010-1234-1234', '학생'],\n",
        "        '전우치' : ['20', '010-5678-5678', '직장인'],\n",
        "        '김철수' : ['22', '010-4321-4321', '무직'] }\n",
        "\n",
        "\n"
      ],
      "execution_count": null,
      "outputs": [
        {
          "output_type": "execute_result",
          "data": {
            "text/plain": [
              "{'김영희': ['22', '010-4321-4321', '무직'],\n",
              " '전우치': ['20', '010-5678-5678', '직장인'],\n",
              " '홍길동': ['27', '010-1234-1234', '학생']}"
            ]
          },
          "metadata": {
            "tags": []
          },
          "execution_count": 56
        }
      ]
    },
    {
      "cell_type": "markdown",
      "metadata": {
        "id": "eBWhRNSJ8GCA"
      },
      "source": [
        "(2) 문자열로 저장되어 있는 각 사람의 나이 데이터를 정수형으로 바꾼 뒤, info를 출력해보세요."
      ]
    },
    {
      "cell_type": "code",
      "metadata": {
        "colab": {
          "base_uri": "https://localhost:8080/"
        },
        "id": "DvYCOMsE8Uj5",
        "outputId": "e2351df3-775e-4a1f-85d3-882930ef70f6"
      },
      "source": [],
      "execution_count": null,
      "outputs": [
        {
          "output_type": "execute_result",
          "data": {
            "text/plain": [
              "{'김영희': [22, '010-4321-4321', '무직'],\n",
              " '전우치': [20, '010-5678-5678', '직장인'],\n",
              " '홍길동': [27, '010-1234-1234', '학생']}"
            ]
          },
          "metadata": {
            "tags": []
          },
          "execution_count": 66
        }
      ]
    },
    {
      "cell_type": "markdown",
      "metadata": {
        "id": "BtPbxRkBi2wy"
      },
      "source": [
        "### 문제3\n",
        "다음과 같이 과일 이름과 색깔, 가격 정보가 담긴 리스트 3개가 있습니다.\n",
        "> name = ['사과', '바나나', '귤', '블루베리', '복숭아']\n",
        "\n",
        "> color = ['red', 'yellow', 'orange', 'blue', 'pink']\n",
        "\n",
        "> price = [3000, 4000, 7000, 8000, 5000]\n",
        "\n",
        "(1) 같은 위치에 있는 데이터끼리 짝지어 과일에 따른 색깔, 가격 정보가 담긴 딕셔너리를 만드려고 합니다.\n",
        "\n",
        "{'name' : ['color', price]} 형태의 딕셔너리를 만든 뒤, 출력해보세요. (인덱스활용)"
      ]
    },
    {
      "cell_type": "code",
      "metadata": {
        "colab": {
          "base_uri": "https://localhost:8080/"
        },
        "id": "LCfhsa-E9bfK",
        "outputId": "c6f6086e-22fa-42df-9f16-00bf7727f966"
      },
      "source": [
        "fruit = ['사과', '바나나', '귤']\n",
        "color = ['red', 'yellow', 'orange']\n",
        "price = [3000, 4000, 7000]\n",
        "\n",
        "# name['사과'] = ['red', 3000] 말고 다른 방법 사용하기!\n",
        "\n"
      ],
      "execution_count": null,
      "outputs": [
        {
          "output_type": "execute_result",
          "data": {
            "text/plain": [
              "{'귤': ['orange', 7000], '바나나': ['yellow', 4000], '사과': ['red', 3000]}"
            ]
          },
          "metadata": {
            "tags": []
          },
          "execution_count": 79
        }
      ]
    }
  ]
}