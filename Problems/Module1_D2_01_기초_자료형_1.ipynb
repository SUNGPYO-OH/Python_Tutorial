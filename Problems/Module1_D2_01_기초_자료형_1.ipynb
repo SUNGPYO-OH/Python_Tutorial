{
  "nbformat": 4,
  "nbformat_minor": 0,
  "metadata": {
    "colab": {
      "provenance": [],
      "authorship_tag": "ABX9TyPalIvPwWfnJcUupk5aoRxd",
      "include_colab_link": true
    },
    "kernelspec": {
      "name": "python3",
      "display_name": "Python 3"
    },
    "language_info": {
      "name": "python"
    }
  },
  "cells": [
    {
      "cell_type": "markdown",
      "metadata": {
        "id": "view-in-github",
        "colab_type": "text"
      },
      "source": [
        "<a href=\"https://colab.research.google.com/github/SUNGPYO-OH/Python_Tutorial/blob/main/Problems/Module1_D2_01_%EA%B8%B0%EC%B4%88_%EC%9E%90%EB%A3%8C%ED%98%95_1.ipynb\" target=\"_parent\"><img src=\"https://colab.research.google.com/assets/colab-badge.svg\" alt=\"Open In Colab\"/></a>"
      ]
    },
    {
      "cell_type": "markdown",
      "source": [
        "**01. print()**\n",
        "\n",
        "---\n",
        "print(\"출력할 내용\")를 이용하면 원하는 \n",
        "내용을 출력할 수 있습니다."
      ],
      "metadata": {
        "id": "szGbBa947LbW"
      }
    },
    {
      "cell_type": "code",
      "source": [
        "# 실습 1\n",
        "print(\"바밤바는\")\n",
        "print(\"밤이들어간\")\n",
        "print(\"바이다.\")"
      ],
      "metadata": {
        "id": "ilHCbrwV7rx5"
      },
      "execution_count": null,
      "outputs": []
    },
    {
      "cell_type": "markdown",
      "source": [
        "**02. 자료형**\n",
        "\n",
        "---\n",
        "\n",
        "1.   숫자 자료형은 우리가 알고있는 1, 2, 3 등의 정수와 3.14 등의 실수를 포함한 자료형입니다.\n",
        "2.   문자 자료형은 'a', \"abc\"와 같이 한 문자나 단어, 문장을 '' 혹은 \"\"로 묶어준 자료형입니다.\n",
        "3.   리스트 자료형는 위의 숫자형, 문자열 등의 여러 자료형을 한번에 담는 자료형입니다."
      ],
      "metadata": {
        "id": "s4WNeklU7atB"
      }
    },
    {
      "cell_type": "code",
      "source": [
        "# 실습 2\n",
        "# 숫자 50과 숫자 50을 더해서 출력해봅시다!\n",
        "print(50+50)\n",
        "\n",
        "# 문자열 \"50\"과 문자열 \"50\"을 더해서 출력해봅시다!\n",
        "print(\"50\"+\"50\")\n",
        "\n",
        "# 리스트 [50]과 리스트 [50]을 더해서 출력해봅시다!\n",
        "print([50]+[50])"
      ],
      "metadata": {
        "id": "7cn0Br0s8cVj"
      },
      "execution_count": null,
      "outputs": []
    },
    {
      "cell_type": "markdown",
      "source": [
        "**03. 변수**\n",
        "\n",
        "\n",
        "---\n",
        "변수는 아래와 같은 자료를 담는 그릇입니다.\n",
        "* 숫자\n",
        "* 문자\n",
        "* 문자들의 집합\n",
        "* 자료를 여러개 담는 리스트"
      ],
      "metadata": {
        "id": "YKWnJbG_7qz6"
      }
    },
    {
      "cell_type": "code",
      "source": [
        "# 실습 3\n",
        "# 변수에는 정수, 실수같은 숫자를 저장할 수 있고,\n",
        "num1 = 1\n",
        "num2 = 2 \n",
        "# 영어나 한글같은 문자도 저장할 수 있어요.\n",
        "character = 'a'\n",
        "\n",
        "# 이런 문자들의 집합도 저장할 수 있고,\n",
        "string = 'Python'\n",
        "\n",
        "# 자료들을 여러 개 담을 수 있는 리스트 또한 저장할 수 있어요.\n",
        "threeList = [1, 'a', 'Python']\n",
        "\n",
        "# 여러분의 변수를 만들어 봅시다. my_var라는 이름의 변수를 만들고, 원하는 값을 넣어보세요!\n",
        "my_var = 'a'\n",
        "\n",
        "# 변수는 print()에 넣을 수도 있어요! my_var를 print로 출력해서 값이 잘 들어갔는지 확인해봅시다!\n",
        "print(my_var)\n",
        "\n",
        "# 변수끼리는 연산 또한 가능합니다. 예를들어, 위에 있는 num1, num2을 더하면?!\n",
        "print(num1+num2)"
      ],
      "metadata": {
        "colab": {
          "base_uri": "https://localhost:8080/"
        },
        "id": "xshGtuzA89Nr",
        "outputId": "4c4d2b74-8762-4560-8e26-d2b939e83264"
      },
      "execution_count": 1,
      "outputs": [
        {
          "output_type": "stream",
          "name": "stdout",
          "text": [
            "a\n",
            "3\n"
          ]
        }
      ]
    },
    {
      "cell_type": "markdown",
      "source": [
        "**04. 사칙연산**\n",
        "\n",
        "\n",
        "---\n",
        "변수는 아래와 같은 자료를 담는 그릇입니다.\n",
        "* 숫자\n",
        "* 문자\n",
        "* 문자들의 집합\n",
        "* 자료를 여러개 담는 리스트"
      ],
      "metadata": {
        "id": "B8CTmKXO7JDJ"
      }
    },
    {
      "cell_type": "code",
      "source": [
        "# 실습 4, 실습 5\n",
        "#'Num1'이라는 변수를 하나 선언하고, 숫자 23571를 넣어줍시다.\n",
        "Num1 = 23571\n",
        "\n",
        "#'Num2'이라는 변수를 하나 선언하고, 'Num1'에 1024를 곱한 값을 넣어줍시다.\n",
        "Num2 = Num1*1024\n",
        "\n",
        "#'Num3'이라는 변수를 하나 선언하고, 'Num2'에 243을 나눈 값을 넣어줍시다.\n",
        "Num3 = Num2/243\n",
        "\n",
        "#'Num4'이라는 변수를 하나 선언하고, 'Num3'에 4927819을 더한 값을 넣어줍시다.\n",
        "Num4 = Num3 + 4927819\n",
        "\n",
        "#'Answer'이라는 변수를 하나 선언하고, 'Num4'에 829176을 뺀 값을 넣어줍시다.\n",
        "Answer = Num4-829176\n",
        "\n",
        "#지효에게 외쳐봅시다. '네가 생각한 답은 Answer원이야!'\n",
        "print(\"네가 생각한 답은\", Answer, \"원이야!\")"
      ],
      "metadata": {
        "id": "8jpIL_hJ9Zuh"
      },
      "execution_count": null,
      "outputs": []
    },
    {
      "cell_type": "code",
      "source": [
        "# //을 이용해서 변수 intdiv에 4를 넣는 수식을 작성해봅시다.\n",
        "intdiv = 17//4\n",
        "\n",
        "# %을 이용해서 변수 modular에 1을 넣는 수식을 작성해봅시다.\n",
        "modular = 4%3\n",
        "\n",
        "# **을 이용해서 변수 expo에 16을 넣는 수식을 작성해봅시다.\n",
        "expo = 4**2\n",
        "\n",
        "#위의 세 변수를 출력해서 확인해봅시다.\n",
        "print(intdiv, modular, expo)"
      ],
      "metadata": {
        "id": "oqYS7XIg9pKd"
      },
      "execution_count": null,
      "outputs": []
    },
    {
      "cell_type": "markdown",
      "source": [
        "**05. 문자열 연산**\n",
        "\n",
        "\n",
        "---\n",
        "숫자 뿐만 아니라 문자열에도 연산이 존재합니다. \n",
        "* +(더하기)는 뒤에 다른 문자열을 붙일 수 있는 연산자이고, \n",
        "* *(곱하기)는 문자열을 반복할 수 있는 연산자로, 뒤에 반복할 횟수(숫자)가 붙습니다."
      ],
      "metadata": {
        "id": "8PZLX2pD7JAK"
      }
    },
    {
      "cell_type": "code",
      "execution_count": null,
      "metadata": {
        "id": "UgniTGp-7CFf"
      },
      "outputs": [],
      "source": [
        "# 실습 6\n",
        "# 변수 connect_str를 선언하고, 연결 연산자를 이용해서 '덩덕쿵덕'를 넣어봅시다.\n",
        "connect_str = '덩덕쿵덕'\n",
        "\n",
        "# 변수 iterate_str를 선언하고 반복 연산자를 이용해서 '쿵덕쿵덕'을 넣어봅시다.\n",
        "iterate_str = '쿵덕쿵덕'\n",
        "\n",
        "# 위 두 변수를 이용해서 '덩덕쿵덕쿵덕쿵덕덩덕쿵덕쿵덕쿵덕'을 변수 jajinmori에 넣어봅시다\n",
        "jajinmori = (connect_str + iterate_str)*2\n",
        "\n",
        "print(connect_str, iterate_str, jajinmori)"
      ]
    },
    {
      "cell_type": "markdown",
      "source": [
        "** 06. 인덱싱과 슬라이싱 \n",
        "\n",
        "\n",
        "---\n",
        "* 인덱싱 예시 : A[3] => [0,1,2,***3***]\n",
        "\n",
        "\n",
        "* 슬라이싱 예시 : A[0:2] => [***0,1,2***,3]\n"
      ],
      "metadata": {
        "id": "L_mxv4_p7FMH"
      }
    },
    {
      "cell_type": "code",
      "source": [
        "# 실습 7\n",
        "#dahyun가 가지고 있는 보석 중에 특별히 빛나는 보석이 있어요! 이를 훔쳐볼까요?\n",
        "dahyun = ['은', '은', '다이아몬드', '은', '은', '은', '은', '은']\n",
        "\n",
        "#이 가방에 한번 넣어봅시다!\n",
        "stealBag1 = dahyun[2]\n",
        "\n",
        "#tzuyu는 금빛 보석을 많이 가지고 있네요! 이도 한번 훔쳐볼까요?\n",
        "tzuyu = ['은', '은', '은', '은', '금', '금', '금', '은', '은', '은']\n",
        "\n",
        "#이 가방에 한번 넣어봅시다!\n",
        "stealBag2 = tzuyu[4:7]\n",
        "\n",
        "#여러분이 훔쳐온 보석은 무엇인지 print()를 이용해서 한번 확인해보세요!\n",
        "print('dahyun로부터 훔쳐온 보석은', stealBag1)\n",
        "print('tzuyu로부터 훔쳐온 보석은', stealBag2)"
      ],
      "metadata": {
        "id": "gUFksrY57IBK"
      },
      "execution_count": null,
      "outputs": []
    },
    {
      "cell_type": "markdown",
      "source": [
        "** 07. 보조 자료  \n",
        "\n",
        "\n",
        "---\n",
        "\n"
      ],
      "metadata": {
        "id": "by6bHgch7IHu"
      }
    },
    {
      "cell_type": "code",
      "source": [
        "# 실습 8번 : 별이 빛나는 밤이에요!\n",
        "\n",
        "#친구에게 어제 봤던 별자리를 print()를 이용해서 보여줍시다!\n",
        "star = \"*\"\n",
        "n=1\n",
        "for i in range(5):\n",
        "    print(star*n)\n",
        "    n+=1"
      ],
      "metadata": {
        "id": "q1RjI32J_nvf"
      },
      "execution_count": null,
      "outputs": []
    },
    {
      "cell_type": "code",
      "source": [
        "# 실습 9번 : 섭씨를 화씨로 변환해봅시다!\n",
        "\n",
        "#섭씨온도를 담을 변수 c를 선언하고, 숫자 18을 담아봅시다.\n",
        "c=18\n",
        "\n",
        "#화씨온도를 담을 변수 f를 선언하고, c와 섭씨-화씨 변환식을 이용해서 값을 담아봅시다.\n",
        "f=c*(9/5)+32\n",
        "\n",
        "#변수 today_temp를 선언하고, 섭씨온도 c와 화씨온도 f를 순서대로 담은 리스트를 담아봅시다.\n",
        "today_temp = [c,f]\n",
        "\n",
        "#맞게 변환했는지 today_temp를 print()로 확인해봅시다.\n",
        "print(today_temp)"
      ],
      "metadata": {
        "id": "ocz4nMAd_rcm"
      },
      "execution_count": null,
      "outputs": []
    }
  ]
}